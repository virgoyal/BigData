{
  "nbformat": 4,
  "nbformat_minor": 0,
  "metadata": {
    "colab": {
      "provenance": []
    },
    "kernelspec": {
      "name": "python3",
      "display_name": "Python 3"
    },
    "language_info": {
      "name": "python"
    }
  },
  "cells": [
    {
      "cell_type": "markdown",
      "source": [
        "# CIS 5450 Homework 3: Hypothesis Testing and Machine Learning\n",
        "\n",
        "*Due Date: **October 28th at 10:00PM EST**<br>\n",
        "**101 points total** (= 85 autograded + 16 manually graded).*\n",
        "\n",
        "Welcome to CIS 5450 Homework 3! In this homework you will gain some familiarity with machine learning models for supervised learning. Over the next few days you will strengthen your understanding of hypothesis testing via simulation and ML concepts using baseball, insurance, and diabetes datasets. Some housekeeping below!<br><br>\n",
        "\n",
        "<center>\n",
        "<img src=\"https://storage.googleapis.com/kaggle-forum-message-attachments/703594/14673/DATAAC.jpeg\" alt=\"drawing\" width=\"500\"/>\n",
        "</center>\n",
        "\n",
        "**Before you begin:**\n",
        "- Be sure to click \"Copy to Drive\" to make sure you're working on your own personal version of the homework\n",
        "- Check the pinned FAQ post on Ed for updates! If you have been stuck, chances are other students have also faced similar problems.\n",
        "\n",
        "**Note:**  We will be manually checking your implementations and code for certain problems. If you incorrectly implemented a procedure using Scikit-learn (e.g. creating predictions on training dataset, incorrectly process training data prior to running certain machine learning models, hardcoding values, etc.), we will be enforcing a penalty system up to the maximum value of points allocated to the problem. (e.g. if your problem is worth 4 points, the maximum number of points that can be deducted is 4 points).\n",
        "  - **Note:** If your plot is not run or not present after we open your notebook, we will deduct the entire manually graded point value of the plot. (e.g. if your plot is worth 4 points, we will deduct 4 points).\n",
        "  - **Note:** If your `.py` file is hidden because it's too large, that's ok! We only care about your `.ipynb` file."
      ],
      "metadata": {
        "id": "hVUNvRa5bIvW"
      }
    },
    {
      "cell_type": "markdown",
      "source": [
        "# Part 0. Import and Setup"
      ],
      "metadata": {
        "id": "XjKROoTspFgL"
      }
    },
    {
      "cell_type": "markdown",
      "source": [
        "Import necessary libraries (do not import anything else!)"
      ],
      "metadata": {
        "id": "ZvjA4b4HpL88"
      }
    },
    {
      "cell_type": "code",
      "source": [
        "%%capture\n",
        "!pip3 install penngrader-client"
      ],
      "metadata": {
        "id": "y08C1JYkplJR"
      },
      "execution_count": 278,
      "outputs": []
    },
    {
      "cell_type": "code",
      "execution_count": 279,
      "metadata": {
        "id": "gW8F02E0CcUM"
      },
      "outputs": [],
      "source": [
        "import numpy as np\n",
        "import pandas as pd\n",
        "import seaborn as sns\n",
        "import matplotlib.pyplot as plt\n",
        "from sklearn.neighbors import KNeighborsClassifier\n",
        "from sklearn.linear_model import LogisticRegression\n",
        "from sklearn.model_selection import train_test_split, GridSearchCV, StratifiedKFold\n",
        "from sklearn.metrics import accuracy_score, precision_score, recall_score\n",
        "from sklearn.preprocessing import OneHotEncoder, OrdinalEncoder, StandardScaler\n",
        "from sklearn.ensemble import RandomForestClassifier\n",
        "import random\n",
        "import math\n",
        "from xgboost import XGBClassifier\n",
        "from penngrader.grader import *"
      ]
    },
    {
      "cell_type": "code",
      "source": [
        "!apt install zstd\n",
        "!wget -nc -O diabetes_prediction_dataset.csv.zst https://www.dropbox.com/scl/fi/p8qpv4eja0xp3cdk1tbm5/diabetes_prediction_dataset.csv.zst?rlkey=m4i34s7xdkj28qp4vuqxo6e1w&st=8ztjoyba&dl=0\n",
        "!unzstd -f diabetes_prediction_dataset.csv.zst\n",
        "!wget -nc -O games.csv.zst https://www.dropbox.com/scl/fi/43au9nv0bty84pqg6aw64/games.csv.zst?rlkey=k89euspbzgnonringupktifrd&st=swgk8p7v&dl=0\n",
        "!unzstd -f games.csv.zst\n",
        "!wget -nc -O medical_cost.csv.zst https://www.dropbox.com/scl/fi/8nz07htxxi07xilddsulx/medical_cost.csv.zst?rlkey=946kksokbm7u29rftvqhzzi0w&st=piwysilw&dl=0\n",
        "!unzstd -f medical_cost.csv.zst"
      ],
      "metadata": {
        "id": "E2eH58alq-Pe",
        "colab": {
          "base_uri": "https://localhost:8080/"
        },
        "outputId": "62177021-a09c-41dc-f9b9-7a8816963c32"
      },
      "execution_count": 280,
      "outputs": [
        {
          "output_type": "stream",
          "name": "stdout",
          "text": [
            "Reading package lists... Done\n",
            "Building dependency tree... Done\n",
            "Reading state information... Done\n",
            "zstd is already the newest version (1.4.8+dfsg-3build1).\n",
            "0 upgraded, 0 newly installed, 0 to remove and 49 not upgraded.\n",
            "File ‘diabetes_prediction_dataset.csv.zst’ already there; not retrieving.\n",
            "diabetes_prediction_dataset.csv.zst: 4130283 bytes \n",
            "File ‘games.csv.zst’ already there; not retrieving.\n",
            "games.csv.zst       : 7265422 bytes \n",
            "File ‘medical_cost.csv.zst’ already there; not retrieving.\n",
            "medical_cost.csv.zst: 55628 bytes \n"
          ]
        }
      ]
    },
    {
      "cell_type": "markdown",
      "source": [
        "###PennGrader Setup"
      ],
      "metadata": {
        "id": "Jnf6ndFiwC_q"
      }
    },
    {
      "cell_type": "code",
      "source": [
        "# PLEASE ENSURE YOUR PENN-ID IS ENTERED CORRECTLY. IF NOT, THE AUTOGRADER WON'T KNOW\n",
        "# TO ASSIGN POINTS TO YOU IN OUR BACKEND\n",
        "STUDENT_ID = 86393681 # YOUR PENN-ID GOES HERE AS AN INTEGER #\n",
        "SECRET = STUDENT_ID"
      ],
      "metadata": {
        "id": "4lDYWRSSwCht"
      },
      "execution_count": 281,
      "outputs": []
    },
    {
      "cell_type": "code",
      "source": [
        "%%writefile config.yaml\n",
        "\n",
        "grader_api_url: 'https://23whrwph9h.execute-api.us-east-1.amazonaws.com/default/Grader23'\n",
        "grader_api_key: 'flfkE736fA6Z8GxMDJe2q8Kfk8UDqjsG3GVqOFOa'"
      ],
      "metadata": {
        "id": "VkNysqz4wM5Q",
        "colab": {
          "base_uri": "https://localhost:8080/"
        },
        "outputId": "07694a99-0206-450a-9667-0fcee0622877"
      },
      "execution_count": 282,
      "outputs": [
        {
          "output_type": "stream",
          "name": "stdout",
          "text": [
            "Overwriting config.yaml\n"
          ]
        }
      ]
    },
    {
      "cell_type": "code",
      "source": [
        "%set_env HW_ID=cis5450_fall24_HW3"
      ],
      "metadata": {
        "id": "_1s7dHbqgTK_",
        "colab": {
          "base_uri": "https://localhost:8080/"
        },
        "outputId": "c5b90885-fa0d-44ac-adb3-2729684bd887"
      },
      "execution_count": 283,
      "outputs": [
        {
          "output_type": "stream",
          "name": "stdout",
          "text": [
            "env: HW_ID=cis5450_fall24_HW3\n"
          ]
        }
      ]
    },
    {
      "cell_type": "code",
      "source": [
        "grader = PennGrader('config.yaml', 'cis5450_fall24_HW3', STUDENT_ID, SECRET)"
      ],
      "metadata": {
        "id": "GTwhj0D6wS-C",
        "colab": {
          "base_uri": "https://localhost:8080/"
        },
        "outputId": "cdb0c692-142e-4af1-bf40-d48af996349c"
      },
      "execution_count": 284,
      "outputs": [
        {
          "output_type": "stream",
          "name": "stdout",
          "text": [
            "PennGrader initialized with Student ID: 86393681\n",
            "\n",
            "Make sure this correct or we will not be able to store your grade\n"
          ]
        }
      ]
    },
    {
      "cell_type": "markdown",
      "source": [
        "# Part 1: Hypothesis Testing via Simulation [17 Points Total]"
      ],
      "metadata": {
        "id": "aeYgjHfUsPN6"
      }
    },
    {
      "cell_type": "markdown",
      "source": [
        "## 1.1: Estimating Pi through Simulation [4 points]"
      ],
      "metadata": {
        "id": "gMoQmPP6scLo"
      }
    },
    {
      "cell_type": "markdown",
      "source": [
        "Consider a circle with radius 1/2 inside of a unit square:\n",
        "\n",
        "![circle.png](data:image/png;base64,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)\n",
        "\n",
        "We could compute the area of the circle with a well-known formula and the value of $\\pi$, but we can also compute both the area of the circle, and the mysterious value of $\\pi$, via simulation!\n",
        "\n",
        "If we randomly sample a point inside the unit square, the probability that the point falls within the circle is equal to the area of the circle divided by the area of the square. Thus, if we sample a total of $P_t$ points and $P_c$ of them are in the circle, we can write the area of the circle $A_c$ as:\n",
        "\n",
        "$A_c = \\frac{P_c}{P_t} = \\pi r^2 = \\frac{\\pi}{4}$\n",
        "\n",
        "Solving for $\\pi$ gives:\n",
        "\n",
        "$\\pi = \\frac{4 P_c}{P_t}$\n",
        "\n",
        "Below is some Python code that simulates picking a random point in the square, testing if that point is inside the circle, and keeping track of $P_c$ and $P_t$. Run this code to ensure it works, and see how long it takes. The simulation should sample 10 million points."
      ],
      "metadata": {
        "id": "7Z_7AfCt1BfV"
      }
    },
    {
      "cell_type": "code",
      "source": [
        "%%time\n",
        "def pt_in_circle(x, y):\n",
        "    return math.sqrt(x**2 + y**2) < 0.5\n",
        "\n",
        "p_c = 0\n",
        "p_t = 0\n",
        "\n",
        "for i in range(10_000_000):\n",
        "    # Sample x and y uniformly from -0.5 to 0.5\n",
        "    x = random.uniform(-0.5, 0.5)\n",
        "    y = random.uniform(-0.5, 0.5)\n",
        "    if pt_in_circle(x, y):\n",
        "        p_c += 1\n",
        "    p_t += 1\n",
        "\n",
        "# Estimate pi\n",
        "pi_estimate = 4 * p_c / p_t\n",
        "print(f\"Estimated value of pi: {pi_estimate}\")"
      ],
      "metadata": {
        "id": "Du4E2YVZ0zyZ",
        "colab": {
          "base_uri": "https://localhost:8080/"
        },
        "outputId": "56bff539-d120-4409-ace5-5d36d158329f"
      },
      "execution_count": 285,
      "outputs": [
        {
          "output_type": "stream",
          "name": "stdout",
          "text": [
            "Estimated value of pi: 3.1410688\n",
            "CPU times: user 21.6 s, sys: 51.8 ms, total: 21.6 s\n",
            "Wall time: 55.3 s\n"
          ]
        }
      ]
    },
    {
      "cell_type": "markdown",
      "source": [
        "Next, let's accelerate our simulation with vectorization! Using `numpy`, write a vectorized version of the simulation.\n",
        "\n",
        "Your solution must:\n",
        "* Contain no loops (`while`, `for`, etc.) or list comprehensions\n",
        "* Contain no if statements or conditionals\n",
        "* Only use built-in or numpy `np.` functions\n",
        "* Should make only a single call to `np.random`.\n",
        "\n",
        "*Note:* You will not get any credit if you violate any of the above instructions."
      ],
      "metadata": {
        "id": "9xyqNAps9oeW"
      }
    },
    {
      "cell_type": "code",
      "source": [
        "%%time\n",
        "import numpy as np\n",
        "\n",
        "# Sample 10,000,000 points uniformly from -0.5 to 0.5 for both x and y\n",
        "points = np.random.uniform(-0.5, 0.5, size=(10_000_000, 2))\n",
        "\n",
        "# Calculate the distances of all points from the origin\n",
        "distances = np.sqrt(np.sum(points**2, axis=1))\n",
        "\n",
        "# Count how many points are inside the circle (distance < 0.5)\n",
        "points_in_circle = np.sum(distances < 0.5)\n",
        "\n",
        "# Estimate pi\n",
        "pi_estimate = 4 * points_in_circle / len(points)\n",
        "\n",
        "print(f\"Estimated value of pi: {pi_estimate}\")\n"
      ],
      "metadata": {
        "id": "O2peWpeYAhCf",
        "colab": {
          "base_uri": "https://localhost:8080/"
        },
        "outputId": "e1a0c0d8-2016-4d0b-a408-45bf2fbf3b5f"
      },
      "execution_count": 286,
      "outputs": [
        {
          "output_type": "stream",
          "name": "stdout",
          "text": [
            "Estimated value of pi: 3.1421248\n",
            "CPU times: user 451 ms, sys: 168 ms, total: 619 ms\n",
            "Wall time: 619 ms\n"
          ]
        }
      ]
    },
    {
      "cell_type": "markdown",
      "source": [
        "## 1.2 Hypothesis Testing [13 Points]"
      ],
      "metadata": {
        "id": "5faaR2UvJXI-"
      }
    },
    {
      "cell_type": "markdown",
      "source": [
        "It is commonly believed that in many sports, the home team tends to have an advantage over the away team, often referred to as \"home field advantage.\" In this part, we will perform a hypothesis test to determine, from a statistical standpoint, if such an advantage exists in Major League Baseball (MLB) games. We will guide you through each step of the process, using the MLB Games Dataset, and conduct the test through simulation. For this part, we will be using vectorization only, so no `for` loops should be used!"
      ],
      "metadata": {
        "id": "GsehTa2ae-Fu"
      }
    },
    {
      "cell_type": "markdown",
      "source": [
        "### 1.2.1 Load Data"
      ],
      "metadata": {
        "id": "KZe8IGtwsP8l"
      }
    },
    {
      "cell_type": "markdown",
      "source": [
        "Before diving into the simulation, we need to load in the data first.\n",
        "\n",
        "**TODO:**\n",
        "\n",
        "\n",
        "*   Load `games.csv` and save the data to a dataframe called `games_df`.\n",
        "*   Inspect the first five rows. There are many columns in this dataframe, but think about which ones we will actually need for hypothesis testing.\n",
        "\n",
        "\n",
        "\n"
      ],
      "metadata": {
        "id": "FWtKz-agsSvb"
      }
    },
    {
      "cell_type": "code",
      "source": [
        "# DO NOT CHANGE\n",
        "# Import Data\n",
        "games_df = pd.read_csv(\"games.csv\")\n",
        "games_df.head()\n"
      ],
      "metadata": {
        "id": "z4a-bxkB3mTd",
        "colab": {
          "base_uri": "https://localhost:8080/",
          "height": 429
        },
        "outputId": "5331d1cc-e2f7-4847-fcda-deb8de672c9d"
      },
      "execution_count": 287,
      "outputs": [
        {
          "output_type": "execute_result",
          "data": {
            "text/plain": [
              "        Game away away-record awayaway-record home home-record  \\\n",
              "0  360403123  STL         0-1        0-1 Away  PIT         1-0   \n",
              "1  360403130  TOR         1-0        1-0 Away   TB         0-1   \n",
              "2  360403107  NYM         0-1        0-1 Away   KC         1-0   \n",
              "3  360404108   SF         1-0        1-0 Away  MIL         0-1   \n",
              "4  360404101  MIN         0-1        0-1 Away  BAL         1-0   \n",
              "\n",
              "  homehome-record  away-score  home-score postseason info  ...  \\\n",
              "0        1-0 Home         1.0         4.0             NaN  ...   \n",
              "1        0-1 Home         5.0         3.0             NaN  ...   \n",
              "2        1-0 Home         3.0         4.0             NaN  ...   \n",
              "3        0-1 Home        12.0         3.0             NaN  ...   \n",
              "4        1-0 Home         2.0         3.0             NaN  ...   \n",
              "\n",
              "   LOSS - Pitcher - Id  LOSS - Pitcher - Name  LOSS - Pitcher - AbbrName  \\\n",
              "0               5403.0        Adam Wainwright              A. Wainwright   \n",
              "1              31003.0           Chris Archer                  C. Archer   \n",
              "2              31214.0            Matt Harvey                  M. Harvey   \n",
              "3              31140.0           Wily Peralta                 W. Peralta   \n",
              "4              29265.0           Kevin Jepsen                  K. Jepsen   \n",
              "\n",
              "   LOSS - Pitcher - Record   SAVE - Pitcher - Stats  SAVE - Pitcher - Id  \\\n",
              "0                    (0-1)                      NaN                  NaN   \n",
              "1                    (0-1)  1.0 IP, 0 ER, 2 K, 0 BB              32693.0   \n",
              "2                    (0-1)  1.0 IP, 0 ER, 2 K, 1 BB              28957.0   \n",
              "3                    (0-1)                      NaN                  NaN   \n",
              "4                    (0-1)                      NaN                  NaN   \n",
              "\n",
              "   SAVE - Pitcher - Name  SAVE - Pitcher - AbbrName SAVE - Pitcher - Record  \\\n",
              "0                    NaN                        NaN                     NaN   \n",
              "1          Roberto Osuna                   R. Osuna                     (1)   \n",
              "2             Wade Davis                   W. Davis                     (1)   \n",
              "3                    NaN                        NaN                     NaN   \n",
              "4                    NaN                        NaN                     NaN   \n",
              "\n",
              "  Extra Innings  \n",
              "0           NaN  \n",
              "1           NaN  \n",
              "2           NaN  \n",
              "3           NaN  \n",
              "4           NaN  \n",
              "\n",
              "[5 rows x 43 columns]"
            ],
            "text/html": [
              "\n",
              "  <div id=\"df-aa6fd15e-af1d-474a-991c-67374136d68f\" class=\"colab-df-container\">\n",
              "    <div>\n",
              "<style scoped>\n",
              "    .dataframe tbody tr th:only-of-type {\n",
              "        vertical-align: middle;\n",
              "    }\n",
              "\n",
              "    .dataframe tbody tr th {\n",
              "        vertical-align: top;\n",
              "    }\n",
              "\n",
              "    .dataframe thead th {\n",
              "        text-align: right;\n",
              "    }\n",
              "</style>\n",
              "<table border=\"1\" class=\"dataframe\">\n",
              "  <thead>\n",
              "    <tr style=\"text-align: right;\">\n",
              "      <th></th>\n",
              "      <th>Game</th>\n",
              "      <th>away</th>\n",
              "      <th>away-record</th>\n",
              "      <th>awayaway-record</th>\n",
              "      <th>home</th>\n",
              "      <th>home-record</th>\n",
              "      <th>homehome-record</th>\n",
              "      <th>away-score</th>\n",
              "      <th>home-score</th>\n",
              "      <th>postseason info</th>\n",
              "      <th>...</th>\n",
              "      <th>LOSS - Pitcher - Id</th>\n",
              "      <th>LOSS - Pitcher - Name</th>\n",
              "      <th>LOSS - Pitcher - AbbrName</th>\n",
              "      <th>LOSS - Pitcher - Record</th>\n",
              "      <th>SAVE - Pitcher - Stats</th>\n",
              "      <th>SAVE - Pitcher - Id</th>\n",
              "      <th>SAVE - Pitcher - Name</th>\n",
              "      <th>SAVE - Pitcher - AbbrName</th>\n",
              "      <th>SAVE - Pitcher - Record</th>\n",
              "      <th>Extra Innings</th>\n",
              "    </tr>\n",
              "  </thead>\n",
              "  <tbody>\n",
              "    <tr>\n",
              "      <th>0</th>\n",
              "      <td>360403123</td>\n",
              "      <td>STL</td>\n",
              "      <td>0-1</td>\n",
              "      <td>0-1 Away</td>\n",
              "      <td>PIT</td>\n",
              "      <td>1-0</td>\n",
              "      <td>1-0 Home</td>\n",
              "      <td>1.0</td>\n",
              "      <td>4.0</td>\n",
              "      <td>NaN</td>\n",
              "      <td>...</td>\n",
              "      <td>5403.0</td>\n",
              "      <td>Adam Wainwright</td>\n",
              "      <td>A. Wainwright</td>\n",
              "      <td>(0-1)</td>\n",
              "      <td>NaN</td>\n",
              "      <td>NaN</td>\n",
              "      <td>NaN</td>\n",
              "      <td>NaN</td>\n",
              "      <td>NaN</td>\n",
              "      <td>NaN</td>\n",
              "    </tr>\n",
              "    <tr>\n",
              "      <th>1</th>\n",
              "      <td>360403130</td>\n",
              "      <td>TOR</td>\n",
              "      <td>1-0</td>\n",
              "      <td>1-0 Away</td>\n",
              "      <td>TB</td>\n",
              "      <td>0-1</td>\n",
              "      <td>0-1 Home</td>\n",
              "      <td>5.0</td>\n",
              "      <td>3.0</td>\n",
              "      <td>NaN</td>\n",
              "      <td>...</td>\n",
              "      <td>31003.0</td>\n",
              "      <td>Chris Archer</td>\n",
              "      <td>C. Archer</td>\n",
              "      <td>(0-1)</td>\n",
              "      <td>1.0 IP, 0 ER, 2 K, 0 BB</td>\n",
              "      <td>32693.0</td>\n",
              "      <td>Roberto Osuna</td>\n",
              "      <td>R. Osuna</td>\n",
              "      <td>(1)</td>\n",
              "      <td>NaN</td>\n",
              "    </tr>\n",
              "    <tr>\n",
              "      <th>2</th>\n",
              "      <td>360403107</td>\n",
              "      <td>NYM</td>\n",
              "      <td>0-1</td>\n",
              "      <td>0-1 Away</td>\n",
              "      <td>KC</td>\n",
              "      <td>1-0</td>\n",
              "      <td>1-0 Home</td>\n",
              "      <td>3.0</td>\n",
              "      <td>4.0</td>\n",
              "      <td>NaN</td>\n",
              "      <td>...</td>\n",
              "      <td>31214.0</td>\n",
              "      <td>Matt Harvey</td>\n",
              "      <td>M. Harvey</td>\n",
              "      <td>(0-1)</td>\n",
              "      <td>1.0 IP, 0 ER, 2 K, 1 BB</td>\n",
              "      <td>28957.0</td>\n",
              "      <td>Wade Davis</td>\n",
              "      <td>W. Davis</td>\n",
              "      <td>(1)</td>\n",
              "      <td>NaN</td>\n",
              "    </tr>\n",
              "    <tr>\n",
              "      <th>3</th>\n",
              "      <td>360404108</td>\n",
              "      <td>SF</td>\n",
              "      <td>1-0</td>\n",
              "      <td>1-0 Away</td>\n",
              "      <td>MIL</td>\n",
              "      <td>0-1</td>\n",
              "      <td>0-1 Home</td>\n",
              "      <td>12.0</td>\n",
              "      <td>3.0</td>\n",
              "      <td>NaN</td>\n",
              "      <td>...</td>\n",
              "      <td>31140.0</td>\n",
              "      <td>Wily Peralta</td>\n",
              "      <td>W. Peralta</td>\n",
              "      <td>(0-1)</td>\n",
              "      <td>NaN</td>\n",
              "      <td>NaN</td>\n",
              "      <td>NaN</td>\n",
              "      <td>NaN</td>\n",
              "      <td>NaN</td>\n",
              "      <td>NaN</td>\n",
              "    </tr>\n",
              "    <tr>\n",
              "      <th>4</th>\n",
              "      <td>360404101</td>\n",
              "      <td>MIN</td>\n",
              "      <td>0-1</td>\n",
              "      <td>0-1 Away</td>\n",
              "      <td>BAL</td>\n",
              "      <td>1-0</td>\n",
              "      <td>1-0 Home</td>\n",
              "      <td>2.0</td>\n",
              "      <td>3.0</td>\n",
              "      <td>NaN</td>\n",
              "      <td>...</td>\n",
              "      <td>29265.0</td>\n",
              "      <td>Kevin Jepsen</td>\n",
              "      <td>K. Jepsen</td>\n",
              "      <td>(0-1)</td>\n",
              "      <td>NaN</td>\n",
              "      <td>NaN</td>\n",
              "      <td>NaN</td>\n",
              "      <td>NaN</td>\n",
              "      <td>NaN</td>\n",
              "      <td>NaN</td>\n",
              "    </tr>\n",
              "  </tbody>\n",
              "</table>\n",
              "<p>5 rows × 43 columns</p>\n",
              "</div>\n",
              "    <div class=\"colab-df-buttons\">\n",
              "\n",
              "  <div class=\"colab-df-container\">\n",
              "    <button class=\"colab-df-convert\" onclick=\"convertToInteractive('df-aa6fd15e-af1d-474a-991c-67374136d68f')\"\n",
              "            title=\"Convert this dataframe to an interactive table.\"\n",
              "            style=\"display:none;\">\n",
              "\n",
              "  <svg xmlns=\"http://www.w3.org/2000/svg\" height=\"24px\" viewBox=\"0 -960 960 960\">\n",
              "    <path d=\"M120-120v-720h720v720H120Zm60-500h600v-160H180v160Zm220 220h160v-160H400v160Zm0 220h160v-160H400v160ZM180-400h160v-160H180v160Zm440 0h160v-160H620v160ZM180-180h160v-160H180v160Zm440 0h160v-160H620v160Z\"/>\n",
              "  </svg>\n",
              "    </button>\n",
              "\n",
              "  <style>\n",
              "    .colab-df-container {\n",
              "      display:flex;\n",
              "      gap: 12px;\n",
              "    }\n",
              "\n",
              "    .colab-df-convert {\n",
              "      background-color: #E8F0FE;\n",
              "      border: none;\n",
              "      border-radius: 50%;\n",
              "      cursor: pointer;\n",
              "      display: none;\n",
              "      fill: #1967D2;\n",
              "      height: 32px;\n",
              "      padding: 0 0 0 0;\n",
              "      width: 32px;\n",
              "    }\n",
              "\n",
              "    .colab-df-convert:hover {\n",
              "      background-color: #E2EBFA;\n",
              "      box-shadow: 0px 1px 2px rgba(60, 64, 67, 0.3), 0px 1px 3px 1px rgba(60, 64, 67, 0.15);\n",
              "      fill: #174EA6;\n",
              "    }\n",
              "\n",
              "    .colab-df-buttons div {\n",
              "      margin-bottom: 4px;\n",
              "    }\n",
              "\n",
              "    [theme=dark] .colab-df-convert {\n",
              "      background-color: #3B4455;\n",
              "      fill: #D2E3FC;\n",
              "    }\n",
              "\n",
              "    [theme=dark] .colab-df-convert:hover {\n",
              "      background-color: #434B5C;\n",
              "      box-shadow: 0px 1px 3px 1px rgba(0, 0, 0, 0.15);\n",
              "      filter: drop-shadow(0px 1px 2px rgba(0, 0, 0, 0.3));\n",
              "      fill: #FFFFFF;\n",
              "    }\n",
              "  </style>\n",
              "\n",
              "    <script>\n",
              "      const buttonEl =\n",
              "        document.querySelector('#df-aa6fd15e-af1d-474a-991c-67374136d68f button.colab-df-convert');\n",
              "      buttonEl.style.display =\n",
              "        google.colab.kernel.accessAllowed ? 'block' : 'none';\n",
              "\n",
              "      async function convertToInteractive(key) {\n",
              "        const element = document.querySelector('#df-aa6fd15e-af1d-474a-991c-67374136d68f');\n",
              "        const dataTable =\n",
              "          await google.colab.kernel.invokeFunction('convertToInteractive',\n",
              "                                                    [key], {});\n",
              "        if (!dataTable) return;\n",
              "\n",
              "        const docLinkHtml = 'Like what you see? Visit the ' +\n",
              "          '<a target=\"_blank\" href=https://colab.research.google.com/notebooks/data_table.ipynb>data table notebook</a>'\n",
              "          + ' to learn more about interactive tables.';\n",
              "        element.innerHTML = '';\n",
              "        dataTable['output_type'] = 'display_data';\n",
              "        await google.colab.output.renderOutput(dataTable, element);\n",
              "        const docLink = document.createElement('div');\n",
              "        docLink.innerHTML = docLinkHtml;\n",
              "        element.appendChild(docLink);\n",
              "      }\n",
              "    </script>\n",
              "  </div>\n",
              "\n",
              "\n",
              "<div id=\"df-e0825179-5fc1-453c-88c6-ac59dfbfe8c5\">\n",
              "  <button class=\"colab-df-quickchart\" onclick=\"quickchart('df-e0825179-5fc1-453c-88c6-ac59dfbfe8c5')\"\n",
              "            title=\"Suggest charts\"\n",
              "            style=\"display:none;\">\n",
              "\n",
              "<svg xmlns=\"http://www.w3.org/2000/svg\" height=\"24px\"viewBox=\"0 0 24 24\"\n",
              "     width=\"24px\">\n",
              "    <g>\n",
              "        <path d=\"M19 3H5c-1.1 0-2 .9-2 2v14c0 1.1.9 2 2 2h14c1.1 0 2-.9 2-2V5c0-1.1-.9-2-2-2zM9 17H7v-7h2v7zm4 0h-2V7h2v10zm4 0h-2v-4h2v4z\"/>\n",
              "    </g>\n",
              "</svg>\n",
              "  </button>\n",
              "\n",
              "<style>\n",
              "  .colab-df-quickchart {\n",
              "      --bg-color: #E8F0FE;\n",
              "      --fill-color: #1967D2;\n",
              "      --hover-bg-color: #E2EBFA;\n",
              "      --hover-fill-color: #174EA6;\n",
              "      --disabled-fill-color: #AAA;\n",
              "      --disabled-bg-color: #DDD;\n",
              "  }\n",
              "\n",
              "  [theme=dark] .colab-df-quickchart {\n",
              "      --bg-color: #3B4455;\n",
              "      --fill-color: #D2E3FC;\n",
              "      --hover-bg-color: #434B5C;\n",
              "      --hover-fill-color: #FFFFFF;\n",
              "      --disabled-bg-color: #3B4455;\n",
              "      --disabled-fill-color: #666;\n",
              "  }\n",
              "\n",
              "  .colab-df-quickchart {\n",
              "    background-color: var(--bg-color);\n",
              "    border: none;\n",
              "    border-radius: 50%;\n",
              "    cursor: pointer;\n",
              "    display: none;\n",
              "    fill: var(--fill-color);\n",
              "    height: 32px;\n",
              "    padding: 0;\n",
              "    width: 32px;\n",
              "  }\n",
              "\n",
              "  .colab-df-quickchart:hover {\n",
              "    background-color: var(--hover-bg-color);\n",
              "    box-shadow: 0 1px 2px rgba(60, 64, 67, 0.3), 0 1px 3px 1px rgba(60, 64, 67, 0.15);\n",
              "    fill: var(--button-hover-fill-color);\n",
              "  }\n",
              "\n",
              "  .colab-df-quickchart-complete:disabled,\n",
              "  .colab-df-quickchart-complete:disabled:hover {\n",
              "    background-color: var(--disabled-bg-color);\n",
              "    fill: var(--disabled-fill-color);\n",
              "    box-shadow: none;\n",
              "  }\n",
              "\n",
              "  .colab-df-spinner {\n",
              "    border: 2px solid var(--fill-color);\n",
              "    border-color: transparent;\n",
              "    border-bottom-color: var(--fill-color);\n",
              "    animation:\n",
              "      spin 1s steps(1) infinite;\n",
              "  }\n",
              "\n",
              "  @keyframes spin {\n",
              "    0% {\n",
              "      border-color: transparent;\n",
              "      border-bottom-color: var(--fill-color);\n",
              "      border-left-color: var(--fill-color);\n",
              "    }\n",
              "    20% {\n",
              "      border-color: transparent;\n",
              "      border-left-color: var(--fill-color);\n",
              "      border-top-color: var(--fill-color);\n",
              "    }\n",
              "    30% {\n",
              "      border-color: transparent;\n",
              "      border-left-color: var(--fill-color);\n",
              "      border-top-color: var(--fill-color);\n",
              "      border-right-color: var(--fill-color);\n",
              "    }\n",
              "    40% {\n",
              "      border-color: transparent;\n",
              "      border-right-color: var(--fill-color);\n",
              "      border-top-color: var(--fill-color);\n",
              "    }\n",
              "    60% {\n",
              "      border-color: transparent;\n",
              "      border-right-color: var(--fill-color);\n",
              "    }\n",
              "    80% {\n",
              "      border-color: transparent;\n",
              "      border-right-color: var(--fill-color);\n",
              "      border-bottom-color: var(--fill-color);\n",
              "    }\n",
              "    90% {\n",
              "      border-color: transparent;\n",
              "      border-bottom-color: var(--fill-color);\n",
              "    }\n",
              "  }\n",
              "</style>\n",
              "\n",
              "  <script>\n",
              "    async function quickchart(key) {\n",
              "      const quickchartButtonEl =\n",
              "        document.querySelector('#' + key + ' button');\n",
              "      quickchartButtonEl.disabled = true;  // To prevent multiple clicks.\n",
              "      quickchartButtonEl.classList.add('colab-df-spinner');\n",
              "      try {\n",
              "        const charts = await google.colab.kernel.invokeFunction(\n",
              "            'suggestCharts', [key], {});\n",
              "      } catch (error) {\n",
              "        console.error('Error during call to suggestCharts:', error);\n",
              "      }\n",
              "      quickchartButtonEl.classList.remove('colab-df-spinner');\n",
              "      quickchartButtonEl.classList.add('colab-df-quickchart-complete');\n",
              "    }\n",
              "    (() => {\n",
              "      let quickchartButtonEl =\n",
              "        document.querySelector('#df-e0825179-5fc1-453c-88c6-ac59dfbfe8c5 button');\n",
              "      quickchartButtonEl.style.display =\n",
              "        google.colab.kernel.accessAllowed ? 'block' : 'none';\n",
              "    })();\n",
              "  </script>\n",
              "</div>\n",
              "\n",
              "    </div>\n",
              "  </div>\n"
            ],
            "application/vnd.google.colaboratory.intrinsic+json": {
              "type": "dataframe",
              "variable_name": "games_df"
            }
          },
          "metadata": {},
          "execution_count": 287
        }
      ]
    },
    {
      "cell_type": "markdown",
      "source": [
        "In lecture, you have learned that in hypothesis testing, we start by assuming a baseline called the null hypothesis. For this test, the null hypothesis ($H_0$) is that home field advantage does not exist in MLB games. This means that, under the null hypothesis, the probability of the home team winning is equal to the probability of the away team winning (i.e., 50%).\n",
        "\n",
        "As a brief review, to determine whether we can reject or fail to reject the null hypothesis, we will:\n",
        "\n",
        "1.   Set up the hypotheses:\n",
        "  * $H_0$: The probability of the home team winning is 50% (no home field advantage).\n",
        "  * $H_a$ (alternative hypothesis): The probability of the home team winning is greater than 50% (home field advantage exists).\n",
        "\n",
        "2.   Analyze the data: We will calculate the observed proportion of home team wins using the MLB Games Dataset.\n",
        "\n",
        "3. Simulate random outcomes: We will simulate a large number of seasons where home teams win exactly 50% of the time, assuming the null hypothesis is true. In lecture you saw the Gaussian distribution. Here, the nature of the data requires us to draw from the binomial distribution.\n",
        "\n",
        "4. Compare observed results to simulations: We will determine how often the simulated results produce home win rates as extreme or more extreme than the observed data. This will give us a **p-value**, which tells us the likelihood of observing the current data under the null hypothesis.\n",
        "\n",
        "5. Make a decision: Based on the p-value, we will decide whether to reject or fail to reject the null hypothesis:\n",
        "  * If the p-value is below a threshold (in this case we'll use 0.05), we will reject the null hypothesis and conclude that home field advantage likely exists. Intuitively, a small p-value means that the data we observed is extremely unlikely to occur under the null hypothesis.\n",
        "  * If the p-value is higher, we will fail to reject the null hypothesis, meaning the evidence is not strong enough to suggest home field advantage."
      ],
      "metadata": {
        "id": "I2Ypwpl5uxxk"
      }
    },
    {
      "cell_type": "markdown",
      "source": [
        "### 1.2.2 Calculate Original Test Statistic [3 Points]\n",
        "\n",
        "We will now move on to Step 2, which is to calculate the original test statistic, i.e., the home win rate of the given data.\n",
        "\n",
        "**TODO:**\n",
        "\n",
        "*   Under special circumstances, there can be a tie. For this part, just drop games that ended in a tie.\n",
        "*   Create a column called `home_win` that is a 1 if the home team won that game and 0 otherwise.\n",
        "*   Calculate the proportion of times that the home team wins and store it in `home_win_rate`"
      ],
      "metadata": {
        "id": "gyqjR-1GxD3Q"
      }
    },
    {
      "cell_type": "code",
      "source": [
        "# Drop ties and reset index\n",
        "games_df = games_df[games_df['home-score'] != games_df['away-score']]\n",
        "games_df = games_df.reset_index(drop = True)\n",
        "\n",
        "# Create a column that is 1 if the home team won\n",
        "games_df['home_win'] = (games_df['home-score'] > games_df['away-score']).astype(int)\n",
        "\n",
        "# Calculate original test statistic\n",
        "home_win_rate = games_df['home_win'].mean()"
      ],
      "metadata": {
        "id": "qz8ZOSAP4r87"
      },
      "execution_count": 350,
      "outputs": []
    },
    {
      "cell_type": "code",
      "source": [
        "# Grader Cell (3 points)\n",
        "grader.grade(test_case_id = 'original_test_statistic', answer = (games_df['home_win'], home_win_rate))"
      ],
      "metadata": {
        "id": "XOH563HRyuoi",
        "colab": {
          "base_uri": "https://localhost:8080/"
        },
        "outputId": "2a77d6c7-ddf8-4de0-8cb4-9ada02339962"
      },
      "execution_count": 351,
      "outputs": [
        {
          "output_type": "stream",
          "name": "stdout",
          "text": [
            "Correct! You earned 3/3 points. You are a star!\n",
            "\n",
            "Your submission has been successfully recorded in the gradebook.\n"
          ]
        }
      ]
    },
    {
      "cell_type": "markdown",
      "source": [
        "### 1.2.3 Simulation and Plotting [7 points] (7 manually graded)\n",
        "\n",
        "Now we will simulate the null world to get a distribution.\n",
        "\n",
        "**TODO:**\n",
        "* Simulate 10,000,000 trials\n",
        "* Each trial should be drawn from a binomial distribution. If you are unfamiliar with the binomial distribution, take a look at the numpy documentation and pay careful attention to what your `n` and `p` should be in this case. Recall what it means when we are sampling from the null world.\n",
        "* Calculate the simulated proportion by dividing by total games\n",
        "\n",
        "*Note:* You should be using `numpy` vectorization"
      ],
      "metadata": {
        "id": "hYyfpkliD1i0"
      }
    },
    {
      "cell_type": "code",
      "source": [
        "# Simulate random home win outcomes for each game across all simulations\n",
        "num_games = len(games_df)\n",
        "num_simulations = 10_000_000\n",
        "new_home_win_rate = 0.5\n",
        "simulated_home_wins = np.random.binomial(n=num_games, p=new_home_win_rate, size=10_000_000)\n",
        "\n",
        "# Calculate the simulated proportion of home wins\n",
        "simulated_win_rates = simulated_home_wins /num_games\n"
      ],
      "metadata": {
        "id": "xuuZWZqb6HNa"
      },
      "execution_count": 352,
      "outputs": []
    },
    {
      "cell_type": "markdown",
      "source": [
        "Now, let's visualize the distribution of our simulation.\n",
        "\n",
        "**Task:**\n",
        "\n",
        "\n",
        "*   Plot a histogram of the distribution of the test statistic in the null world. Use 50 bins.\n",
        "*   Title the plot: *Distribution of Simulated Home Winrate*\n",
        "*   Label the x-axis: *Home Winrate*\n",
        "*   Label the y-axis: *Frequency*\n",
        "*   Add a red vertical line to indicate the original test statistic. Label this vertical line \"Observed Home Winrate: {home_win_rate}\". Round to four decimal points.\n",
        "*   Add a legend to your plot.\n",
        "\n",
        "*Hint:* Take a look at `matplotlib.pyplot.axvline`\n",
        "\n"
      ],
      "metadata": {
        "id": "9au-EIYYnSrf"
      }
    },
    {
      "cell_type": "code",
      "source": [
        "import numpy as np\n",
        "import matplotlib.pyplot as plt\n",
        "\n",
        "# Plot the histogram\n",
        "plt.figure(figsize=(10, 6))\n",
        "plt.hist(simulated_win_rates, bins=50, alpha=0.75, color='blue', edgecolor='black')\n",
        "\n",
        "# Add the red line with higher zorder (ensures it is rendered on top)\n",
        "plt.axvline(x=home_win_rate, color='red', linestyle='dashed', linewidth=2,\n",
        "            label=f'Observed Home Winrate: {home_win_rate:.4f}', zorder=10)\n",
        "\n",
        "# Adjust the x-axis to ensure all elements are visible\n",
        "plt.xlim(min(min(simulated_win_rates), home_win_rate) - 0.01,\n",
        "         max(max(simulated_win_rates), home_win_rate) + 0.01)\n",
        "\n",
        "# Add title and labels\n",
        "plt.title('Distribution of Simulated Home Winrate')\n",
        "plt.xlabel('Home Winrate')\n",
        "plt.ylabel('Frequency')\n",
        "\n",
        "# Add a legend\n",
        "plt.legend()\n",
        "\n",
        "# Show the plot\n",
        "plt.show()\n",
        "\n",
        "\n",
        "\n",
        "\n"
      ],
      "metadata": {
        "id": "-NXwgiCZ6iYe",
        "colab": {
          "base_uri": "https://localhost:8080/",
          "height": 564
        },
        "outputId": "ee615bd0-8b46-4540-f038-0dcfdc58b43e"
      },
      "execution_count": 361,
      "outputs": [
        {
          "output_type": "display_data",
          "data": {
            "text/plain": [
              "<Figure size 1000x600 with 1 Axes>"
            ],
            "image/png": "[encoded data removed]"
          },
          "metadata": {}
        }
      ]
    },
    {
      "cell_type": "markdown",
      "source": [
        "### 1.2.4 Calculate p-value [3 points] (2 manually graded)\n",
        "\n",
        "Finally, we can calculate the simulated p-value. Remember what the p-value represents, and use your simulated win rates to calculate it."
      ],
      "metadata": {
        "id": "cOTtGMmVPYI7"
      }
    },
    {
      "cell_type": "code",
      "source": [
        "# Calculate the p-value\n",
        "simulated_p_value = (simulated_win_rates >= home_win_rate).mean()\n",
        "print(f\"Simulated p-value: {simulated_p_value}\")"
      ],
      "metadata": {
        "id": "60ZJ1_u57XJV",
        "colab": {
          "base_uri": "https://localhost:8080/"
        },
        "outputId": "a50a94fb-1862-4e90-ab62-8f2ae8197b2e"
      },
      "execution_count": 354,
      "outputs": [
        {
          "output_type": "stream",
          "name": "stdout",
          "text": [
            "Simulated p-value: 0.0\n"
          ]
        }
      ]
    },
    {
      "cell_type": "code",
      "source": [
        "# Grader Cell (1 points)\n",
        "grader.grade(test_case_id = 'test_p_value', answer = simulated_p_value)"
      ],
      "metadata": {
        "id": "uyOkoRF3XQN8",
        "colab": {
          "base_uri": "https://localhost:8080/"
        },
        "outputId": "817b3d4b-e815-486d-a8a5-0fad647f75b0"
      },
      "execution_count": 355,
      "outputs": [
        {
          "output_type": "stream",
          "name": "stdout",
          "text": [
            "Correct! You earned 1/1 points. You are a star!\n",
            "\n",
            "Your submission has been successfully recorded in the gradebook.\n"
          ]
        }
      ]
    },
    {
      "cell_type": "markdown",
      "source": [
        "After calculating the p-value, **briefly** describe what it represents. Does the p-value represent exactly what you might get if you were to calculate it mathematically? State whether we should reject or fail to reject the null hypothesis."
      ],
      "metadata": {
        "id": "uMNSg7ZDYAwf"
      }
    },
    {
      "cell_type": "markdown",
      "source": [
        "**Answer:**  We are comparing the simulated win rates under the null hypothesis to the observed home win rate. Since P value is 0 we can reject the Null Hypothesis."
      ],
      "metadata": {
        "id": "o4Dc5R5AZJ_R"
      }
    },
    {
      "cell_type": "markdown",
      "source": [
        "# Part 2. Linear Regression and Hypothesis Testing [Total 40 points]"
      ],
      "metadata": {
        "id": "7fz87q7JuVIO"
      }
    },
    {
      "cell_type": "markdown",
      "source": [
        "## 2.1 Load and Proprocess regression data [20 Points]\n",
        "In this section, we will use the [medical cost dataset](https://www.kaggle.com/datasets/mirichoi0218/insurance/data) to explore linear regression, interpret its results, and perform coefficients hypothesis testings.\n",
        "\n",
        "In supervised machine learning, regression and classification are two foundational tasks. While classification focuses on predicting discrete labels or categories, regression is concerned with predicting continuous values. One of the simplest and most widely used techniques for regression is linear regression, which models the relationship between input features and a continuous target variable by fitting a linear equation to the data."
      ],
      "metadata": {
        "id": "ADxjKgUpug-g"
      }
    },
    {
      "cell_type": "code",
      "source": [
        "# DO NOT CHANGE\n",
        "# Import Data\n",
        "medical_cost_df = pd.read_csv('medical_cost.csv')\n",
        "medical_cost_df.head()"
      ],
      "metadata": {
        "id": "EBYedIcgvgnt",
        "colab": {
          "base_uri": "https://localhost:8080/",
          "height": 206
        },
        "outputId": "81290582-2641-4f28-8a83-277bfc232fc8"
      },
      "execution_count": 205,
      "outputs": [
        {
          "output_type": "execute_result",
          "data": {
            "text/plain": [
              "   age     sex     bmi  children smoker     region      charges\n",
              "0   19  female  27.900         0    yes  southwest  16884.92400\n",
              "1   18    male  33.770         1     no  southeast   1725.55230\n",
              "2   28    male  33.000         3     no  southeast   4449.46200\n",
              "3   33    male  22.705         0     no  northwest  21984.47061\n",
              "4   32    male  28.880         0     no  northwest   3866.85520"
            ],
            "text/html": [
              "\n",
              "  <div id=\"df-1a5a896f-90b3-4995-86aa-e758cf11e7d8\" class=\"colab-df-container\">\n",
              "    <div>\n",
              "<style scoped>\n",
              "    .dataframe tbody tr th:only-of-type {\n",
              "        vertical-align: middle;\n",
              "    }\n",
              "\n",
              "    .dataframe tbody tr th {\n",
              "        vertical-align: top;\n",
              "    }\n",
              "\n",
              "    .dataframe thead th {\n",
              "        text-align: right;\n",
              "    }\n",
              "</style>\n",
              "<table border=\"1\" class=\"dataframe\">\n",
              "  <thead>\n",
              "    <tr style=\"text-align: right;\">\n",
              "      <th></th>\n",
              "      <th>age</th>\n",
              "      <th>sex</th>\n",
              "      <th>bmi</th>\n",
              "      <th>children</th>\n",
              "      <th>smoker</th>\n",
              "      <th>region</th>\n",
              "      <th>charges</th>\n",
              "    </tr>\n",
              "  </thead>\n",
              "  <tbody>\n",
              "    <tr>\n",
              "      <th>0</th>\n",
              "      <td>19</td>\n",
              "      <td>female</td>\n",
              "      <td>27.900</td>\n",
              "      <td>0</td>\n",
              "      <td>yes</td>\n",
              "      <td>southwest</td>\n",
              "      <td>16884.92400</td>\n",
              "    </tr>\n",
              "    <tr>\n",
              "      <th>1</th>\n",
              "      <td>18</td>\n",
              "      <td>male</td>\n",
              "      <td>33.770</td>\n",
              "      <td>1</td>\n",
              "      <td>no</td>\n",
              "      <td>southeast</td>\n",
              "      <td>1725.55230</td>\n",
              "    </tr>\n",
              "    <tr>\n",
              "      <th>2</th>\n",
              "      <td>28</td>\n",
              "      <td>male</td>\n",
              "      <td>33.000</td>\n",
              "      <td>3</td>\n",
              "      <td>no</td>\n",
              "      <td>southeast</td>\n",
              "      <td>4449.46200</td>\n",
              "    </tr>\n",
              "    <tr>\n",
              "      <th>3</th>\n",
              "      <td>33</td>\n",
              "      <td>male</td>\n",
              "      <td>22.705</td>\n",
              "      <td>0</td>\n",
              "      <td>no</td>\n",
              "      <td>northwest</td>\n",
              "      <td>21984.47061</td>\n",
              "    </tr>\n",
              "    <tr>\n",
              "      <th>4</th>\n",
              "      <td>32</td>\n",
              "      <td>male</td>\n",
              "      <td>28.880</td>\n",
              "      <td>0</td>\n",
              "      <td>no</td>\n",
              "      <td>northwest</td>\n",
              "      <td>3866.85520</td>\n",
              "    </tr>\n",
              "  </tbody>\n",
              "</table>\n",
              "</div>\n",
              "    <div class=\"colab-df-buttons\">\n",
              "\n",
              "  <div class=\"colab-df-container\">\n",
              "    <button class=\"colab-df-convert\" onclick=\"convertToInteractive('df-1a5a896f-90b3-4995-86aa-e758cf11e7d8')\"\n",
              "            title=\"Convert this dataframe to an interactive table.\"\n",
              "            style=\"display:none;\">\n",
              "\n",
              "  <svg xmlns=\"http://www.w3.org/2000/svg\" height=\"24px\" viewBox=\"0 -960 960 960\">\n",
              "    <path d=\"M120-120v-720h720v720H120Zm60-500h600v-160H180v160Zm220 220h160v-160H400v160Zm0 220h160v-160H400v160ZM180-400h160v-160H180v160Zm440 0h160v-160H620v160ZM180-180h160v-160H180v160Zm440 0h160v-160H620v160Z\"/>\n",
              "  </svg>\n",
              "    </button>\n",
              "\n",
              "  <style>\n",
              "    .colab-df-container {\n",
              "      display:flex;\n",
              "      gap: 12px;\n",
              "    }\n",
              "\n",
              "    .colab-df-convert {\n",
              "      background-color: #E8F0FE;\n",
              "      border: none;\n",
              "      border-radius: 50%;\n",
              "      cursor: pointer;\n",
              "      display: none;\n",
              "      fill: #1967D2;\n",
              "      height: 32px;\n",
              "      padding: 0 0 0 0;\n",
              "      width: 32px;\n",
              "    }\n",
              "\n",
              "    .colab-df-convert:hover {\n",
              "      background-color: #E2EBFA;\n",
              "      box-shadow: 0px 1px 2px rgba(60, 64, 67, 0.3), 0px 1px 3px 1px rgba(60, 64, 67, 0.15);\n",
              "      fill: #174EA6;\n",
              "    }\n",
              "\n",
              "    .colab-df-buttons div {\n",
              "      margin-bottom: 4px;\n",
              "    }\n",
              "\n",
              "    [theme=dark] .colab-df-convert {\n",
              "      background-color: #3B4455;\n",
              "      fill: #D2E3FC;\n",
              "    }\n",
              "\n",
              "    [theme=dark] .colab-df-convert:hover {\n",
              "      background-color: #434B5C;\n",
              "      box-shadow: 0px 1px 3px 1px rgba(0, 0, 0, 0.15);\n",
              "      filter: drop-shadow(0px 1px 2px rgba(0, 0, 0, 0.3));\n",
              "      fill: #FFFFFF;\n",
              "    }\n",
              "  </style>\n",
              "\n",
              "    <script>\n",
              "      const buttonEl =\n",
              "        document.querySelector('#df-1a5a896f-90b3-4995-86aa-e758cf11e7d8 button.colab-df-convert');\n",
              "      buttonEl.style.display =\n",
              "        google.colab.kernel.accessAllowed ? 'block' : 'none';\n",
              "\n",
              "      async function convertToInteractive(key) {\n",
              "        const element = document.querySelector('#df-1a5a896f-90b3-4995-86aa-e758cf11e7d8');\n",
              "        const dataTable =\n",
              "          await google.colab.kernel.invokeFunction('convertToInteractive',\n",
              "                                                    [key], {});\n",
              "        if (!dataTable) return;\n",
              "\n",
              "        const docLinkHtml = 'Like what you see? Visit the ' +\n",
              "          '<a target=\"_blank\" href=https://colab.research.google.com/notebooks/data_table.ipynb>data table notebook</a>'\n",
              "          + ' to learn more about interactive tables.';\n",
              "        element.innerHTML = '';\n",
              "        dataTable['output_type'] = 'display_data';\n",
              "        await google.colab.output.renderOutput(dataTable, element);\n",
              "        const docLink = document.createElement('div');\n",
              "        docLink.innerHTML = docLinkHtml;\n",
              "        element.appendChild(docLink);\n",
              "      }\n",
              "    </script>\n",
              "  </div>\n",
              "\n",
              "\n",
              "<div id=\"df-5e87c863-e9eb-441a-b168-474d2a148496\">\n",
              "  <button class=\"colab-df-quickchart\" onclick=\"quickchart('df-5e87c863-e9eb-441a-b168-474d2a148496')\"\n",
              "            title=\"Suggest charts\"\n",
              "            style=\"display:none;\">\n",
              "\n",
              "<svg xmlns=\"http://www.w3.org/2000/svg\" height=\"24px\"viewBox=\"0 0 24 24\"\n",
              "     width=\"24px\">\n",
              "    <g>\n",
              "        <path d=\"M19 3H5c-1.1 0-2 .9-2 2v14c0 1.1.9 2 2 2h14c1.1 0 2-.9 2-2V5c0-1.1-.9-2-2-2zM9 17H7v-7h2v7zm4 0h-2V7h2v10zm4 0h-2v-4h2v4z\"/>\n",
              "    </g>\n",
              "</svg>\n",
              "  </button>\n",
              "\n",
              "<style>\n",
              "  .colab-df-quickchart {\n",
              "      --bg-color: #E8F0FE;\n",
              "      --fill-color: #1967D2;\n",
              "      --hover-bg-color: #E2EBFA;\n",
              "      --hover-fill-color: #174EA6;\n",
              "      --disabled-fill-color: #AAA;\n",
              "      --disabled-bg-color: #DDD;\n",
              "  }\n",
              "\n",
              "  [theme=dark] .colab-df-quickchart {\n",
              "      --bg-color: #3B4455;\n",
              "      --fill-color: #D2E3FC;\n",
              "      --hover-bg-color: #434B5C;\n",
              "      --hover-fill-color: #FFFFFF;\n",
              "      --disabled-bg-color: #3B4455;\n",
              "      --disabled-fill-color: #666;\n",
              "  }\n",
              "\n",
              "  .colab-df-quickchart {\n",
              "    background-color: var(--bg-color);\n",
              "    border: none;\n",
              "    border-radius: 50%;\n",
              "    cursor: pointer;\n",
              "    display: none;\n",
              "    fill: var(--fill-color);\n",
              "    height: 32px;\n",
              "    padding: 0;\n",
              "    width: 32px;\n",
              "  }\n",
              "\n",
              "  .colab-df-quickchart:hover {\n",
              "    background-color: var(--hover-bg-color);\n",
              "    box-shadow: 0 1px 2px rgba(60, 64, 67, 0.3), 0 1px 3px 1px rgba(60, 64, 67, 0.15);\n",
              "    fill: var(--button-hover-fill-color);\n",
              "  }\n",
              "\n",
              "  .colab-df-quickchart-complete:disabled,\n",
              "  .colab-df-quickchart-complete:disabled:hover {\n",
              "    background-color: var(--disabled-bg-color);\n",
              "    fill: var(--disabled-fill-color);\n",
              "    box-shadow: none;\n",
              "  }\n",
              "\n",
              "  .colab-df-spinner {\n",
              "    border: 2px solid var(--fill-color);\n",
              "    border-color: transparent;\n",
              "    border-bottom-color: var(--fill-color);\n",
              "    animation:\n",
              "      spin 1s steps(1) infinite;\n",
              "  }\n",
              "\n",
              "  @keyframes spin {\n",
              "    0% {\n",
              "      border-color: transparent;\n",
              "      border-bottom-color: var(--fill-color);\n",
              "      border-left-color: var(--fill-color);\n",
              "    }\n",
              "    20% {\n",
              "      border-color: transparent;\n",
              "      border-left-color: var(--fill-color);\n",
              "      border-top-color: var(--fill-color);\n",
              "    }\n",
              "    30% {\n",
              "      border-color: transparent;\n",
              "      border-left-color: var(--fill-color);\n",
              "      border-top-color: var(--fill-color);\n",
              "      border-right-color: var(--fill-color);\n",
              "    }\n",
              "    40% {\n",
              "      border-color: transparent;\n",
              "      border-right-color: var(--fill-color);\n",
              "      border-top-color: var(--fill-color);\n",
              "    }\n",
              "    60% {\n",
              "      border-color: transparent;\n",
              "      border-right-color: var(--fill-color);\n",
              "    }\n",
              "    80% {\n",
              "      border-color: transparent;\n",
              "      border-right-color: var(--fill-color);\n",
              "      border-bottom-color: var(--fill-color);\n",
              "    }\n",
              "    90% {\n",
              "      border-color: transparent;\n",
              "      border-bottom-color: var(--fill-color);\n",
              "    }\n",
              "  }\n",
              "</style>\n",
              "\n",
              "  <script>\n",
              "    async function quickchart(key) {\n",
              "      const quickchartButtonEl =\n",
              "        document.querySelector('#' + key + ' button');\n",
              "      quickchartButtonEl.disabled = true;  // To prevent multiple clicks.\n",
              "      quickchartButtonEl.classList.add('colab-df-spinner');\n",
              "      try {\n",
              "        const charts = await google.colab.kernel.invokeFunction(\n",
              "            'suggestCharts', [key], {});\n",
              "      } catch (error) {\n",
              "        console.error('Error during call to suggestCharts:', error);\n",
              "      }\n",
              "      quickchartButtonEl.classList.remove('colab-df-spinner');\n",
              "      quickchartButtonEl.classList.add('colab-df-quickchart-complete');\n",
              "    }\n",
              "    (() => {\n",
              "      let quickchartButtonEl =\n",
              "        document.querySelector('#df-5e87c863-e9eb-441a-b168-474d2a148496 button');\n",
              "      quickchartButtonEl.style.display =\n",
              "        google.colab.kernel.accessAllowed ? 'block' : 'none';\n",
              "    })();\n",
              "  </script>\n",
              "</div>\n",
              "\n",
              "    </div>\n",
              "  </div>\n"
            ],
            "application/vnd.google.colaboratory.intrinsic+json": {
              "type": "dataframe",
              "variable_name": "medical_cost_df",
              "summary": "{\n  \"name\": \"medical_cost_df\",\n  \"rows\": 1338,\n  \"fields\": [\n    {\n      \"column\": \"age\",\n      \"properties\": {\n        \"dtype\": \"number\",\n        \"std\": 14,\n        \"min\": 18,\n        \"max\": 64,\n        \"num_unique_values\": 47,\n        \"samples\": [\n          21,\n          45,\n          36\n        ],\n        \"semantic_type\": \"\",\n        \"description\": \"\"\n      }\n    },\n    {\n      \"column\": \"sex\",\n      \"properties\": {\n        \"dtype\": \"category\",\n        \"num_unique_values\": 2,\n        \"samples\": [\n          \"male\",\n          \"female\"\n        ],\n        \"semantic_type\": \"\",\n        \"description\": \"\"\n      }\n    },\n    {\n      \"column\": \"bmi\",\n      \"properties\": {\n        \"dtype\": \"number\",\n        \"std\": 6.098186911679017,\n        \"min\": 15.96,\n        \"max\": 53.13,\n        \"num_unique_values\": 548,\n        \"samples\": [\n          23.18,\n          26.885\n        ],\n        \"semantic_type\": \"\",\n        \"description\": \"\"\n      }\n    },\n    {\n      \"column\": \"children\",\n      \"properties\": {\n        \"dtype\": \"number\",\n        \"std\": 1,\n        \"min\": 0,\n        \"max\": 5,\n        \"num_unique_values\": 6,\n        \"samples\": [\n          0,\n          1\n        ],\n        \"semantic_type\": \"\",\n        \"description\": \"\"\n      }\n    },\n    {\n      \"column\": \"smoker\",\n      \"properties\": {\n        \"dtype\": \"category\",\n        \"num_unique_values\": 2,\n        \"samples\": [\n          \"no\",\n          \"yes\"\n        ],\n        \"semantic_type\": \"\",\n        \"description\": \"\"\n      }\n    },\n    {\n      \"column\": \"region\",\n      \"properties\": {\n        \"dtype\": \"category\",\n        \"num_unique_values\": 4,\n        \"samples\": [\n          \"southeast\",\n          \"northeast\"\n        ],\n        \"semantic_type\": \"\",\n        \"description\": \"\"\n      }\n    },\n    {\n      \"column\": \"charges\",\n      \"properties\": {\n        \"dtype\": \"number\",\n        \"std\": 12110.011236693994,\n        \"min\": 1121.8739,\n        \"max\": 63770.42801,\n        \"num_unique_values\": 1337,\n        \"samples\": [\n          8688.85885,\n          5708.867\n        ],\n        \"semantic_type\": \"\",\n        \"description\": \"\"\n      }\n    }\n  ]\n}"
            }
          },
          "metadata": {},
          "execution_count": 205
        }
      ]
    },
    {
      "cell_type": "markdown",
      "source": [
        "### 2.1.1 Train-Test-Split [2 points]\n",
        "\n",
        "The overall goal of this regression tasks is the use the independent variables we have (age, sex, bmi, children number, smoker, and region) to make a prediction on charges.<br>\n",
        "**Features / Independent Variables** (before any feature processing): age, sex, bmi, children, smoker, region<br>\n",
        "**Target Variable:** charges\n",
        "\n",
        "\n",
        "---\n",
        "\n",
        "\n",
        "Conduct a train-test split, assigning **80%** of the data to the training set and the remaining **20%** to the testing set. This ensures that the encoding and scaling we perform later are fitted only on the training data, preventing any spillover from the test data.\n",
        "\n",
        "- Name the outputs as `X_train`, `X_test`, `y_train`, and `y_test`.\n",
        "- Set the variable **random_seed** to 42, and then pass the argument `random_state = 42` in the function to fix the random state, ensuring consistency in our results.\n",
        "\n",
        "The documentation of train_test_split can be found: https://scikit-learn.org/stable/modules/generated/sklearn.model_selection.train_test_split.html"
      ],
      "metadata": {
        "id": "i8FvvT831xd2"
      }
    },
    {
      "cell_type": "code",
      "source": [
        "from IPython.display import clear_output\n",
        "clear_output()"
      ],
      "metadata": {
        "id": "GlcHqcddYM6O"
      },
      "execution_count": 206,
      "outputs": []
    },
    {
      "cell_type": "code",
      "source": [
        "import pandas as pd\n",
        "from sklearn.model_selection import train_test_split\n",
        "\n",
        "# TODO: perform train_test_split on medical_cost_df\n",
        "X = medical_cost_df.drop('charges', axis=1)  # Features\n",
        "y = medical_cost_df['charges']  # Target variable\n",
        "\n",
        "X_train, X_test, y_train, y_test = train_test_split(X, y, test_size=0.2, random_state=42)\n"
      ],
      "metadata": {
        "id": "9WwJrqVj1htR"
      },
      "execution_count": 207,
      "outputs": []
    },
    {
      "cell_type": "code",
      "source": [
        "# Grader Cell (2 points)\n",
        "grader.grade(test_case_id = 'mc_train_test_split', answer = (X_train, X_test, y_train, y_test))"
      ],
      "metadata": {
        "id": "l6gfK1Bc4Nof",
        "colab": {
          "base_uri": "https://localhost:8080/"
        },
        "outputId": "df6749e7-174e-43c1-c0d8-378cbb0a871f"
      },
      "execution_count": 208,
      "outputs": [
        {
          "output_type": "stream",
          "name": "stdout",
          "text": [
            "Correct! You earned 2/2 points. You are a star!\n",
            "\n",
            "Your submission has been successfully recorded in the gradebook.\n"
          ]
        }
      ]
    },
    {
      "cell_type": "markdown",
      "source": [
        "### 2.1.2 Encode [5 points]\n",
        "For linear regression to run, it only accepts numerical values, so we need to convert all non-numerical columns in the `X_train` and `X_test` into numerical ones. There are several encoding methods available for this process, such as [LabelEncoder](https://scikit-learn.org/dev/modules/generated/sklearn.preprocessing.LabelEncoder.html), [OneHotEncoder](https://scikit-learn.org/stable/modules/generated/sklearn.preprocessing.OneHotEncoder.html), and [OrdinalEncoder](https://scikit-learn.org/dev/modules/generated/sklearn.preprocessing.OrdinalEncoder.html). You can explore the differences between these methods through the following articles: [Article 1](https://medium.com/@chandradip93/difference-between-one-hot-encoding-and-label-encorder-5ad16ea719bc#:~:text=In%20summary%2C%20LabelEncoder%20assigns%20a,column%20represents%20a%20unique%20category) and [Article 2](https://www.geeksforgeeks.org/what-is-the-difference-between-ordinalencoder-and-labelencoder/).\n",
        "\n",
        "For this dataset, we will be using [OneHotEncoder](https://scikit-learn.org/stable/modules/generated/sklearn.preprocessing.OneHotEncoder.html) because there is no ordinal information we want to preserve, and binary encoding will better support our later interpretations.\n",
        "\n",
        "Note:\n",
        "- The onehotencoder object instantiated should be only fitted on the training data\n",
        "- Include `sparse_output = False` when initializing `OneHotEncoder` to get a dense matrix. Depending on your version of scikit-learn, this argument may be `sparse = False`\n",
        "- Include `drop = 'first'` in the `OneHotEncoder` initialization to avoid multicollinearity in the linear regression model"
      ],
      "metadata": {
        "id": "GiyUQ1VxywiW"
      }
    },
    {
      "cell_type": "code",
      "source": [
        "# DO NOT EDIT\n",
        "# use this order of columns in the transformation below\n",
        "to_encode = ['sex', 'smoker', 'region'] # columns that need to encode\n",
        "not_encode = ['age', 'bmi', 'children']"
      ],
      "metadata": {
        "id": "GYg5bTCJ93oR"
      },
      "execution_count": 209,
      "outputs": []
    },
    {
      "cell_type": "code",
      "source": [
        "# TODO: instantiate OneHotEncoder object,\n",
        "encoder = OneHotEncoder(drop='first', sparse_output=False)\n",
        "\n",
        "# TODO: fit & transform on the relevant columns from X_train\n",
        "# TODO: transform on the relevant columns from X_test\n",
        "X_train_encoded = encoder.fit_transform(X_train[to_encode])\n",
        "X_test_encoded = encoder.transform(X_test[to_encode])\n",
        "\n",
        "# Reset index of numerical columns to ensure proper concatenation\n",
        "X_train_numeric = X_train[not_encode].reset_index(drop=True)\n",
        "X_test_numeric = X_test[not_encode].reset_index(drop=True)\n",
        "\n"
      ],
      "metadata": {
        "id": "DkNR62lzywB7"
      },
      "execution_count": 210,
      "outputs": []
    },
    {
      "cell_type": "code",
      "source": [
        "# TODO: Convert the encoded NumPy array back into a DataFrame with column names\n",
        "#       use the get_feature_names_out method from the ohe object to get column names for the df\n",
        "X_train_encoded_df = pd.DataFrame(X_train_encoded, columns=encoder.get_feature_names_out(to_encode))\n",
        "X_test_encoded_df = pd.DataFrame(X_test_encoded, columns=encoder.get_feature_names_out(to_encode))"
      ],
      "metadata": {
        "id": "iKvS_doUA3-1"
      },
      "execution_count": 211,
      "outputs": []
    },
    {
      "cell_type": "code",
      "source": [
        "# DO NOT EDIT\n",
        "# concatenate the encoded columns with those that do not need to be transformed\n",
        "X_train_encoded_full = pd.concat([X_train_encoded_df, pd.DataFrame(X_train[not_encode]).reset_index(drop = True)], axis = 1)\n",
        "X_test_encoded_full = pd.concat([X_test_encoded_df, pd.DataFrame(X_test[not_encode]).reset_index(drop = True)], axis = 1)"
      ],
      "metadata": {
        "id": "1y3pz8BM-L14"
      },
      "execution_count": 212,
      "outputs": []
    },
    {
      "cell_type": "code",
      "source": [
        "# Grader Cell (5 points)\n",
        "grader.grade(test_case_id = 'mc_ohe', answer = (X_train_encoded_df, X_test_encoded_df, X_train_encoded_full, X_test_encoded_full))"
      ],
      "metadata": {
        "id": "CB3gxw2_ycz8",
        "colab": {
          "base_uri": "https://localhost:8080/"
        },
        "outputId": "99ff23e5-6507-473b-ff4f-31c0b8c7c73e"
      },
      "execution_count": 213,
      "outputs": [
        {
          "output_type": "stream",
          "name": "stdout",
          "text": [
            "Correct! You earned 5/5 points. You are a star!\n",
            "\n",
            "Your submission has been successfully recorded in the gradebook.\n"
          ]
        }
      ]
    },
    {
      "cell_type": "markdown",
      "source": [
        "### 2.1.3 Scaling [3 points]\n",
        "\n",
        "As the final step in data pre-processing, we will prepare a scaled version of the data. Scaling refers to the process of mapping your features to a new range of values. This often helps machine learning models learn and converge faster. Some machine learning models are not *scale invariant*, meaning their ability to learn from the data can be impacted by the scale of the features. For example, models might give more influence to features with larger scales, implying that these features are more important than others, even when they should be treated with similar importance. Scaling features helps mitigate this issue.\n",
        "\n",
        "There are several strategies for scaling, but in this section we will use **Standardization** on our continuous numerical features. Standardizing the data ensures that each feature is centered around zero ($\\mu=0$) and has unit variance ($\\sigma^2=1$).\n",
        "\n",
        "**Task:**\n",
        "\n",
        "* Apply standardization to the original numerical columns in both the training and testing datasets using `StandardScaler` from sklearn\n",
        "  * Make sure to include only the original numerical columns and not the newly encoded ones\n",
        "* Store the results in `X_train_scaled` and `X_test_scaled`\n",
        "\n",
        "**Note:**\n",
        "\n",
        "* Prevent data leakage by ensuring that scaling parameters are learned only from the training set.\n",
        "* While we only transform the original numerical columns, `X_train_scaled` and `X_test_scaled` should have the same shape as `X_train_encoded_full` and `X_test_encoded_full` from the end of section 2.1.2."
      ],
      "metadata": {
        "id": "xlPKb9HkCwe_"
      }
    },
    {
      "cell_type": "code",
      "source": [
        "# DO NOT EDIT\n",
        "X_train_scaled = X_train_encoded_full.copy(deep = True)\n",
        "X_test_scaled = X_test_encoded_full.copy(deep = True)"
      ],
      "metadata": {
        "id": "FT91jh6oIAzv"
      },
      "execution_count": 214,
      "outputs": []
    },
    {
      "cell_type": "code",
      "source": [
        "from sklearn.preprocessing import StandardScaler\n",
        "\n",
        "# Instantiate a StandardScaler object\n",
        "scaler = StandardScaler()\n",
        "\n",
        "# Fit and transform the scaler on the numerical columns from the training data\n",
        "# Replacing X_train_final with X_train_encoded_full\n",
        "X_train_scaled[not_encode] = scaler.fit_transform(X_train_encoded_full[not_encode])\n",
        "\n",
        "# Transform the numerical columns from the test data using the same scaler\n",
        "# Replacing X_test_final with X_test_encoded_full\n",
        "X_test_scaled[not_encode] = scaler.transform(X_test_encoded_full[not_encode])"
      ],
      "metadata": {
        "id": "2YBCuyttDpPj"
      },
      "execution_count": 215,
      "outputs": []
    },
    {
      "source": [
        "from sklearn.preprocessing import StandardScaler\n",
        "\n",
        "# Instantiate a StandardScaler object\n",
        "scaler = StandardScaler()\n",
        "\n",
        "# Fit and transform the scaler on the numerical columns from the training data\n",
        "# Replacing X_train_final with X_train_encoded_full\n",
        "X_train_scaled[not_encode] = scaler.fit_transform(X_train_encoded_full[not_encode])\n",
        "\n",
        "# Transform the numerical columns from the test data using the same scaler\n",
        "# Replacing X_test_final with X_test_encoded_full\n",
        "X_test_scaled[not_encode] = scaler.transform(X_test_encoded_full[not_encode])"
      ],
      "cell_type": "code",
      "metadata": {
        "id": "zpdXkXj68Zwx"
      },
      "execution_count": 216,
      "outputs": []
    },
    {
      "cell_type": "markdown",
      "source": [
        "print the head of your df to see if the transformed columns' values make sense"
      ],
      "metadata": {
        "id": "d7hht98RJ_xe"
      }
    },
    {
      "cell_type": "code",
      "source": [
        "X_train_scaled.head()"
      ],
      "metadata": {
        "id": "gwqsQVMtYeym",
        "colab": {
          "base_uri": "https://localhost:8080/",
          "height": 206
        },
        "outputId": "eab38795-e69d-4c44-a7f0-bce626566b55"
      },
      "execution_count": 217,
      "outputs": [
        {
          "output_type": "execute_result",
          "data": {
            "text/plain": [
              "   sex_male  smoker_yes  region_northwest  region_southeast  region_southwest  \\\n",
              "0       0.0         0.0               1.0               0.0               0.0   \n",
              "1       0.0         0.0               0.0               0.0               0.0   \n",
              "2       0.0         0.0               0.0               1.0               0.0   \n",
              "3       0.0         0.0               0.0               1.0               0.0   \n",
              "4       0.0         0.0               1.0               0.0               0.0   \n",
              "\n",
              "        age       bmi  children  \n",
              "0  0.472227 -1.756525  0.734336  \n",
              "1  0.543313 -1.033082 -0.911192  \n",
              "2  0.898745 -0.943687 -0.911192  \n",
              "3 -0.025379  0.622393  3.202629  \n",
              "4  1.040918 -1.504893  1.557100  "
            ],
            "text/html": [
              "\n",
              "  <div id=\"df-7eedb1a5-9900-4640-aace-6089508b4445\" class=\"colab-df-container\">\n",
              "    <div>\n",
              "<style scoped>\n",
              "    .dataframe tbody tr th:only-of-type {\n",
              "        vertical-align: middle;\n",
              "    }\n",
              "\n",
              "    .dataframe tbody tr th {\n",
              "        vertical-align: top;\n",
              "    }\n",
              "\n",
              "    .dataframe thead th {\n",
              "        text-align: right;\n",
              "    }\n",
              "</style>\n",
              "<table border=\"1\" class=\"dataframe\">\n",
              "  <thead>\n",
              "    <tr style=\"text-align: right;\">\n",
              "      <th></th>\n",
              "      <th>sex_male</th>\n",
              "      <th>smoker_yes</th>\n",
              "      <th>region_northwest</th>\n",
              "      <th>region_southeast</th>\n",
              "      <th>region_southwest</th>\n",
              "      <th>age</th>\n",
              "      <th>bmi</th>\n",
              "      <th>children</th>\n",
              "    </tr>\n",
              "  </thead>\n",
              "  <tbody>\n",
              "    <tr>\n",
              "      <th>0</th>\n",
              "      <td>0.0</td>\n",
              "      <td>0.0</td>\n",
              "      <td>1.0</td>\n",
              "      <td>0.0</td>\n",
              "      <td>0.0</td>\n",
              "      <td>0.472227</td>\n",
              "      <td>-1.756525</td>\n",
              "      <td>0.734336</td>\n",
              "    </tr>\n",
              "    <tr>\n",
              "      <th>1</th>\n",
              "      <td>0.0</td>\n",
              "      <td>0.0</td>\n",
              "      <td>0.0</td>\n",
              "      <td>0.0</td>\n",
              "      <td>0.0</td>\n",
              "      <td>0.543313</td>\n",
              "      <td>-1.033082</td>\n",
              "      <td>-0.911192</td>\n",
              "    </tr>\n",
              "    <tr>\n",
              "      <th>2</th>\n",
              "      <td>0.0</td>\n",
              "      <td>0.0</td>\n",
              "      <td>0.0</td>\n",
              "      <td>1.0</td>\n",
              "      <td>0.0</td>\n",
              "      <td>0.898745</td>\n",
              "      <td>-0.943687</td>\n",
              "      <td>-0.911192</td>\n",
              "    </tr>\n",
              "    <tr>\n",
              "      <th>3</th>\n",
              "      <td>0.0</td>\n",
              "      <td>0.0</td>\n",
              "      <td>0.0</td>\n",
              "      <td>1.0</td>\n",
              "      <td>0.0</td>\n",
              "      <td>-0.025379</td>\n",
              "      <td>0.622393</td>\n",
              "      <td>3.202629</td>\n",
              "    </tr>\n",
              "    <tr>\n",
              "      <th>4</th>\n",
              "      <td>0.0</td>\n",
              "      <td>0.0</td>\n",
              "      <td>1.0</td>\n",
              "      <td>0.0</td>\n",
              "      <td>0.0</td>\n",
              "      <td>1.040918</td>\n",
              "      <td>-1.504893</td>\n",
              "      <td>1.557100</td>\n",
              "    </tr>\n",
              "  </tbody>\n",
              "</table>\n",
              "</div>\n",
              "    <div class=\"colab-df-buttons\">\n",
              "\n",
              "  <div class=\"colab-df-container\">\n",
              "    <button class=\"colab-df-convert\" onclick=\"convertToInteractive('df-7eedb1a5-9900-4640-aace-6089508b4445')\"\n",
              "            title=\"Convert this dataframe to an interactive table.\"\n",
              "            style=\"display:none;\">\n",
              "\n",
              "  <svg xmlns=\"http://www.w3.org/2000/svg\" height=\"24px\" viewBox=\"0 -960 960 960\">\n",
              "    <path d=\"M120-120v-720h720v720H120Zm60-500h600v-160H180v160Zm220 220h160v-160H400v160Zm0 220h160v-160H400v160ZM180-400h160v-160H180v160Zm440 0h160v-160H620v160ZM180-180h160v-160H180v160Zm440 0h160v-160H620v160Z\"/>\n",
              "  </svg>\n",
              "    </button>\n",
              "\n",
              "  <style>\n",
              "    .colab-df-container {\n",
              "      display:flex;\n",
              "      gap: 12px;\n",
              "    }\n",
              "\n",
              "    .colab-df-convert {\n",
              "      background-color: #E8F0FE;\n",
              "      border: none;\n",
              "      border-radius: 50%;\n",
              "      cursor: pointer;\n",
              "      display: none;\n",
              "      fill: #1967D2;\n",
              "      height: 32px;\n",
              "      padding: 0 0 0 0;\n",
              "      width: 32px;\n",
              "    }\n",
              "\n",
              "    .colab-df-convert:hover {\n",
              "      background-color: #E2EBFA;\n",
              "      box-shadow: 0px 1px 2px rgba(60, 64, 67, 0.3), 0px 1px 3px 1px rgba(60, 64, 67, 0.15);\n",
              "      fill: #174EA6;\n",
              "    }\n",
              "\n",
              "    .colab-df-buttons div {\n",
              "      margin-bottom: 4px;\n",
              "    }\n",
              "\n",
              "    [theme=dark] .colab-df-convert {\n",
              "      background-color: #3B4455;\n",
              "      fill: #D2E3FC;\n",
              "    }\n",
              "\n",
              "    [theme=dark] .colab-df-convert:hover {\n",
              "      background-color: #434B5C;\n",
              "      box-shadow: 0px 1px 3px 1px rgba(0, 0, 0, 0.15);\n",
              "      filter: drop-shadow(0px 1px 2px rgba(0, 0, 0, 0.3));\n",
              "      fill: #FFFFFF;\n",
              "    }\n",
              "  </style>\n",
              "\n",
              "    <script>\n",
              "      const buttonEl =\n",
              "        document.querySelector('#df-7eedb1a5-9900-4640-aace-6089508b4445 button.colab-df-convert');\n",
              "      buttonEl.style.display =\n",
              "        google.colab.kernel.accessAllowed ? 'block' : 'none';\n",
              "\n",
              "      async function convertToInteractive(key) {\n",
              "        const element = document.querySelector('#df-7eedb1a5-9900-4640-aace-6089508b4445');\n",
              "        const dataTable =\n",
              "          await google.colab.kernel.invokeFunction('convertToInteractive',\n",
              "                                                    [key], {});\n",
              "        if (!dataTable) return;\n",
              "\n",
              "        const docLinkHtml = 'Like what you see? Visit the ' +\n",
              "          '<a target=\"_blank\" href=https://colab.research.google.com/notebooks/data_table.ipynb>data table notebook</a>'\n",
              "          + ' to learn more about interactive tables.';\n",
              "        element.innerHTML = '';\n",
              "        dataTable['output_type'] = 'display_data';\n",
              "        await google.colab.output.renderOutput(dataTable, element);\n",
              "        const docLink = document.createElement('div');\n",
              "        docLink.innerHTML = docLinkHtml;\n",
              "        element.appendChild(docLink);\n",
              "      }\n",
              "    </script>\n",
              "  </div>\n",
              "\n",
              "\n",
              "<div id=\"df-56f9be66-6a2b-40cd-886d-9ad07134ed5d\">\n",
              "  <button class=\"colab-df-quickchart\" onclick=\"quickchart('df-56f9be66-6a2b-40cd-886d-9ad07134ed5d')\"\n",
              "            title=\"Suggest charts\"\n",
              "            style=\"display:none;\">\n",
              "\n",
              "<svg xmlns=\"http://www.w3.org/2000/svg\" height=\"24px\"viewBox=\"0 0 24 24\"\n",
              "     width=\"24px\">\n",
              "    <g>\n",
              "        <path d=\"M19 3H5c-1.1 0-2 .9-2 2v14c0 1.1.9 2 2 2h14c1.1 0 2-.9 2-2V5c0-1.1-.9-2-2-2zM9 17H7v-7h2v7zm4 0h-2V7h2v10zm4 0h-2v-4h2v4z\"/>\n",
              "    </g>\n",
              "</svg>\n",
              "  </button>\n",
              "\n",
              "<style>\n",
              "  .colab-df-quickchart {\n",
              "      --bg-color: #E8F0FE;\n",
              "      --fill-color: #1967D2;\n",
              "      --hover-bg-color: #E2EBFA;\n",
              "      --hover-fill-color: #174EA6;\n",
              "      --disabled-fill-color: #AAA;\n",
              "      --disabled-bg-color: #DDD;\n",
              "  }\n",
              "\n",
              "  [theme=dark] .colab-df-quickchart {\n",
              "      --bg-color: #3B4455;\n",
              "      --fill-color: #D2E3FC;\n",
              "      --hover-bg-color: #434B5C;\n",
              "      --hover-fill-color: #FFFFFF;\n",
              "      --disabled-bg-color: #3B4455;\n",
              "      --disabled-fill-color: #666;\n",
              "  }\n",
              "\n",
              "  .colab-df-quickchart {\n",
              "    background-color: var(--bg-color);\n",
              "    border: none;\n",
              "    border-radius: 50%;\n",
              "    cursor: pointer;\n",
              "    display: none;\n",
              "    fill: var(--fill-color);\n",
              "    height: 32px;\n",
              "    padding: 0;\n",
              "    width: 32px;\n",
              "  }\n",
              "\n",
              "  .colab-df-quickchart:hover {\n",
              "    background-color: var(--hover-bg-color);\n",
              "    box-shadow: 0 1px 2px rgba(60, 64, 67, 0.3), 0 1px 3px 1px rgba(60, 64, 67, 0.15);\n",
              "    fill: var(--button-hover-fill-color);\n",
              "  }\n",
              "\n",
              "  .colab-df-quickchart-complete:disabled,\n",
              "  .colab-df-quickchart-complete:disabled:hover {\n",
              "    background-color: var(--disabled-bg-color);\n",
              "    fill: var(--disabled-fill-color);\n",
              "    box-shadow: none;\n",
              "  }\n",
              "\n",
              "  .colab-df-spinner {\n",
              "    border: 2px solid var(--fill-color);\n",
              "    border-color: transparent;\n",
              "    border-bottom-color: var(--fill-color);\n",
              "    animation:\n",
              "      spin 1s steps(1) infinite;\n",
              "  }\n",
              "\n",
              "  @keyframes spin {\n",
              "    0% {\n",
              "      border-color: transparent;\n",
              "      border-bottom-color: var(--fill-color);\n",
              "      border-left-color: var(--fill-color);\n",
              "    }\n",
              "    20% {\n",
              "      border-color: transparent;\n",
              "      border-left-color: var(--fill-color);\n",
              "      border-top-color: var(--fill-color);\n",
              "    }\n",
              "    30% {\n",
              "      border-color: transparent;\n",
              "      border-left-color: var(--fill-color);\n",
              "      border-top-color: var(--fill-color);\n",
              "      border-right-color: var(--fill-color);\n",
              "    }\n",
              "    40% {\n",
              "      border-color: transparent;\n",
              "      border-right-color: var(--fill-color);\n",
              "      border-top-color: var(--fill-color);\n",
              "    }\n",
              "    60% {\n",
              "      border-color: transparent;\n",
              "      border-right-color: var(--fill-color);\n",
              "    }\n",
              "    80% {\n",
              "      border-color: transparent;\n",
              "      border-right-color: var(--fill-color);\n",
              "      border-bottom-color: var(--fill-color);\n",
              "    }\n",
              "    90% {\n",
              "      border-color: transparent;\n",
              "      border-bottom-color: var(--fill-color);\n",
              "    }\n",
              "  }\n",
              "</style>\n",
              "\n",
              "  <script>\n",
              "    async function quickchart(key) {\n",
              "      const quickchartButtonEl =\n",
              "        document.querySelector('#' + key + ' button');\n",
              "      quickchartButtonEl.disabled = true;  // To prevent multiple clicks.\n",
              "      quickchartButtonEl.classList.add('colab-df-spinner');\n",
              "      try {\n",
              "        const charts = await google.colab.kernel.invokeFunction(\n",
              "            'suggestCharts', [key], {});\n",
              "      } catch (error) {\n",
              "        console.error('Error during call to suggestCharts:', error);\n",
              "      }\n",
              "      quickchartButtonEl.classList.remove('colab-df-spinner');\n",
              "      quickchartButtonEl.classList.add('colab-df-quickchart-complete');\n",
              "    }\n",
              "    (() => {\n",
              "      let quickchartButtonEl =\n",
              "        document.querySelector('#df-56f9be66-6a2b-40cd-886d-9ad07134ed5d button');\n",
              "      quickchartButtonEl.style.display =\n",
              "        google.colab.kernel.accessAllowed ? 'block' : 'none';\n",
              "    })();\n",
              "  </script>\n",
              "</div>\n",
              "\n",
              "    </div>\n",
              "  </div>\n"
            ],
            "application/vnd.google.colaboratory.intrinsic+json": {
              "type": "dataframe",
              "variable_name": "X_train_scaled",
              "summary": "{\n  \"name\": \"X_train_scaled\",\n  \"rows\": 1070,\n  \"fields\": [\n    {\n      \"column\": \"sex_male\",\n      \"properties\": {\n        \"dtype\": \"number\",\n        \"std\": 0.5000861067809148,\n        \"min\": 0.0,\n        \"max\": 1.0,\n        \"num_unique_values\": 2,\n        \"samples\": [\n          1.0,\n          0.0\n        ],\n        \"semantic_type\": \"\",\n        \"description\": \"\"\n      }\n    },\n    {\n      \"column\": \"smoker_yes\",\n      \"properties\": {\n        \"dtype\": \"number\",\n        \"std\": 0.40433381343257446,\n        \"min\": 0.0,\n        \"max\": 1.0,\n        \"num_unique_values\": 2,\n        \"samples\": [\n          1.0,\n          0.0\n        ],\n        \"semantic_type\": \"\",\n        \"description\": \"\"\n      }\n    },\n    {\n      \"column\": \"region_northwest\",\n      \"properties\": {\n        \"dtype\": \"number\",\n        \"std\": 0.42682656722974804,\n        \"min\": 0.0,\n        \"max\": 1.0,\n        \"num_unique_values\": 2,\n        \"samples\": [\n          0.0,\n          1.0\n        ],\n        \"semantic_type\": \"\",\n        \"description\": \"\"\n      }\n    },\n    {\n      \"column\": \"region_southeast\",\n      \"properties\": {\n        \"dtype\": \"number\",\n        \"std\": 0.4412653665889852,\n        \"min\": 0.0,\n        \"max\": 1.0,\n        \"num_unique_values\": 2,\n        \"samples\": [\n          1.0,\n          0.0\n        ],\n        \"semantic_type\": \"\",\n        \"description\": \"\"\n      }\n    },\n    {\n      \"column\": \"region_southwest\",\n      \"properties\": {\n        \"dtype\": \"number\",\n        \"std\": 0.4313092208243099,\n        \"min\": 0.0,\n        \"max\": 1.0,\n        \"num_unique_values\": 2,\n        \"samples\": [\n          1.0,\n          0.0\n        ],\n        \"semantic_type\": \"\",\n        \"description\": \"\"\n      }\n    },\n    {\n      \"column\": \"age\",\n      \"properties\": {\n        \"dtype\": \"number\",\n        \"std\": 1.0004676175144491,\n        \"min\": -1.5181936033554047,\n        \"max\": 1.7517822918464598,\n        \"num_unique_values\": 47,\n        \"samples\": [\n          -0.30972425078080257,\n          -0.4518971157895793\n        ],\n        \"semantic_type\": \"\",\n        \"description\": \"\"\n      }\n    },\n    {\n      \"column\": \"bmi\",\n      \"properties\": {\n        \"dtype\": \"number\",\n        \"std\": 1.0004676175144505,\n        \"min\": -2.4170598053385657,\n        \"max\": 3.7363421711116276,\n        \"num_unique_values\": 494,\n        \"samples\": [\n          -0.53975072777749,\n          0.13071679992289442\n        ],\n        \"semantic_type\": \"\",\n        \"description\": \"\"\n      }\n    },\n    {\n      \"column\": \"children\",\n      \"properties\": {\n        \"dtype\": \"number\",\n        \"std\": 1.000467617514455,\n        \"min\": -0.9111921126101178,\n        \"max\": 3.202628817739359,\n        \"num_unique_values\": 6,\n        \"samples\": [\n          0.734336259529673,\n          -0.9111921126101178\n        ],\n        \"semantic_type\": \"\",\n        \"description\": \"\"\n      }\n    }\n  ]\n}"
            }
          },
          "metadata": {},
          "execution_count": 217
        }
      ]
    },
    {
      "cell_type": "code",
      "source": [
        "# Grader Cell (3 points)\n",
        "grader.grade(test_case_id = 'mc_scaling', answer = (X_train_scaled, X_test_scaled))"
      ],
      "metadata": {
        "id": "PKwpnVQIKJoQ",
        "colab": {
          "base_uri": "https://localhost:8080/"
        },
        "outputId": "35205a90-75b4-416e-915b-f51d669e65b6"
      },
      "execution_count": 218,
      "outputs": [
        {
          "output_type": "stream",
          "name": "stdout",
          "text": [
            "Correct! You earned 3/3 points. You are a star!\n",
            "\n",
            "Your submission has been successfully recorded in the gradebook.\n"
          ]
        }
      ]
    },
    {
      "cell_type": "markdown",
      "source": [
        "### 2.1.4 Unregularized [5 points]\n",
        "\n",
        "Use the `LinearRegression` class ([documentation](https://scikit-learn.org/stable/modules/generated/sklearn.linear_model.LinearRegression.html)) in scikit-learn to perform Linear Regression. Initialize a Linear regression model named `lr` with default parameters, fit the model to the training set (**unscaled**), and then make predictions on the testing set.\n",
        "\n",
        "Save your test predictions in an array named `y_pred_lr`, and report your [R-squared score](https://scikit-learn.org/stable/modules/generated/sklearn.linear_model.LinearRegression.html#sklearn.linear_model.LinearRegression.score) for both train and test predictions"
      ],
      "metadata": {
        "id": "FMEa44Fk8kIB"
      }
    },
    {
      "cell_type": "code",
      "source": [
        "from sklearn.linear_model import LinearRegression\n",
        "from sklearn.metrics import r2_score\n",
        "\n",
        "# TO-DO: Initialize model with default parameters and fit it on the training set\n",
        "model = LinearRegression()\n",
        "model.fit(X_train_scaled, y_train)\n",
        "\n",
        "# TO-DO: Use the model to predict on the test set and save these predictions as `y_pred_lr`\n",
        "y_pred_lr = model.predict(X_test_scaled)\n",
        "\n",
        "# TO-DO: Find the R-squared score for test and training sets\n",
        "lr_score_train = r2_score(y_train, model.predict(X_train_scaled))\n",
        "lr_score_test = r2_score(y_test, y_pred_lr)\n",
        "\n"
      ],
      "metadata": {
        "id": "7hBGyrTH8kIC"
      },
      "execution_count": 219,
      "outputs": []
    },
    {
      "cell_type": "code",
      "source": [
        "### DO NOT EDIT\n",
        "print(f\"R² value for training set: {lr_score_train:.3f}\")\n",
        "print(f\"R² value for test set: {lr_score_test:.3f}\")"
      ],
      "metadata": {
        "id": "03qQZRFZMuVv",
        "colab": {
          "base_uri": "https://localhost:8080/"
        },
        "outputId": "6079b061-765c-4064-ed55-f7104b03b7c6"
      },
      "execution_count": 220,
      "outputs": [
        {
          "output_type": "stream",
          "name": "stdout",
          "text": [
            "R² value for training set: 0.742\n",
            "R² value for test set: 0.784\n"
          ]
        }
      ]
    },
    {
      "cell_type": "code",
      "source": [
        "# Grader Cell (5 points)\n",
        "grader.grade(test_case_id = 'mc_lr_unreg', answer = (lr_score_train, lr_score_test))"
      ],
      "metadata": {
        "id": "-B4Ke4eQ8kIC",
        "colab": {
          "base_uri": "https://localhost:8080/"
        },
        "outputId": "9c194cdc-148a-46f1-fb43-11bd0415e0db"
      },
      "execution_count": 221,
      "outputs": [
        {
          "output_type": "stream",
          "name": "stdout",
          "text": [
            "Correct! You earned 5/5 points. You are a star!\n",
            "\n",
            "Your submission has been successfully recorded in the gradebook.\n"
          ]
        }
      ]
    },
    {
      "cell_type": "markdown",
      "source": [
        "### 2.1.5 Ridge [5 points]\n",
        "Use the `Ridge` class ([documentation](https://scikit-learn.org/1.5/modules/generated/sklearn.linear_model.Ridge.html))in scikit-learn to perform $L_2$ Regularized Linear Regression. Initialize a Ridge regression model named `lr_ridge` with regularization strength `alpha = 10`, fit the model to the training set, and then make predictions on both the training and testing set.\n",
        "\n",
        "Save your test predictions in an array named `y_pred_ridge`, and report your [R-squared score](https://scikit-learn.org/1.5/modules/generated/sklearn.linear_model.Ridge.html#sklearn.linear_model.Ridge.score) for both train and test predictions.\n",
        "\n",
        "**Note:**\n",
        "- Recall that Ridge regression is not scale-invariant, so you should use the scaled data from section 2.1.3"
      ],
      "metadata": {
        "id": "HKDDKykT8kID"
      }
    },
    {
      "cell_type": "code",
      "source": [
        "from sklearn.linear_model import Ridge\n",
        "from sklearn.metrics import r2_score\n",
        "\n",
        "# TO-DO: Initialize the Ridge model with default parameters and fit it on the training set\n",
        "ridge_model = Ridge()\n",
        "ridge_model.fit(X_train_scaled, y_train)\n",
        "\n",
        "# TO-DO: Use the model to predict on the test set and save these predictions as `y_pred_ridge`\n",
        "y_pred_ridge = ridge_model.predict(X_test_scaled)\n",
        "\n",
        "# TO-DO: Find the R-squared score for test and training sets\n",
        "ridge_score_train = r2_score(y_train, ridge_model.predict(X_train_scaled))\n",
        "ridge_score_test = r2_score(y_test, y_pred_ridge)\n"
      ],
      "metadata": {
        "id": "4JF4LCBP8kID"
      },
      "execution_count": 222,
      "outputs": []
    },
    {
      "cell_type": "code",
      "source": [
        "### DO NOT EDIT\n",
        "print(f\"R² value for training set: {ridge_score_train:.3f}\")\n",
        "print(f\"R² value for test set: {ridge_score_test:.3f}\")"
      ],
      "metadata": {
        "id": "X4ELbvcWP9J8",
        "collapsed": true,
        "colab": {
          "base_uri": "https://localhost:8080/"
        },
        "outputId": "3597ee39-ce04-409e-abaf-279bc9c112d9"
      },
      "execution_count": 223,
      "outputs": [
        {
          "output_type": "stream",
          "name": "stdout",
          "text": [
            "R² value for training set: 0.742\n",
            "R² value for test set: 0.783\n"
          ]
        }
      ]
    },
    {
      "cell_type": "code",
      "source": [
        "# Grader Cell (5 points)\n",
        "grader.grade(test_case_id = 'mc_lr_ridge', answer = (ridge_score_train, ridge_score_test))"
      ],
      "metadata": {
        "id": "ABhKQzXL8kID",
        "colab": {
          "base_uri": "https://localhost:8080/"
        },
        "outputId": "adbb82e8-cc3e-497b-ae22-3b613c9ab14f"
      },
      "execution_count": 224,
      "outputs": [
        {
          "output_type": "stream",
          "name": "stdout",
          "text": [
            "Correct! You earned 5/5 points. You are a star!\n",
            "\n",
            "Your submission has been successfully recorded in the gradebook.\n"
          ]
        }
      ]
    },
    {
      "cell_type": "markdown",
      "source": [
        "Before moving on to the next section, let's quickly reflect on the regularized versus unregularized linear regression models and think about some relevant questions (*note this exercise is NOT graded, just for your own exercise*):\n",
        "\n",
        "1. When would we prefer L1 (LASSO) instead of L2? Recall that L1 (LASSO) versus L2 (Ridge) regularization: L1 is for sparisty (e.g., when you have more features than data points) and L2 is to encode an assumption that no input has drastically larger impact than another.\n",
        "2. What do you notice about the $R^2$ scores of the Ridge and unregularized Linear Regression above? If Ridge is supposed to \"improve\" Linear Regression, we may find it unusual if that is not happening here. Under what circumstances would we consider using Ridge over unregularized Linear Regression\n",
        "3. Would you expect different results if we made alpha bigger ( 𝛼→∞ )? smaller ( 𝛼→0 )? Why or why not?"
      ],
      "metadata": {
        "id": "A4dSOE4t8kID"
      }
    },
    {
      "cell_type": "markdown",
      "source": [
        "## 2.2 Descriptive Model [10 Points]\n",
        "\n",
        "Different from predictive model, for descriptive model we DO NOT perform train-test-split. The model is run on the whole set of data availbale."
      ],
      "metadata": {
        "id": "oc0O2UNr8kIE"
      }
    },
    {
      "cell_type": "markdown",
      "source": [
        "### 2.2.1 Pre-process data for descriptive model [3 points]\n",
        "\n",
        "Recall that in Sections 2.1.2 and 2.1.3, encoding and scaling are applied to the training set. However, since the descriptive model uses the entire dataset, encoding and scaling should be applied to the ***full*** dataset, with all other requirements remaining the same.\n",
        "\n",
        "- Encoding\n",
        "  - Include sparse_output = False when initializing OneHotEncoder to get a dense matrix. Depending on your version of scikit-learn, this argument may be sparse = False\n",
        "  - Include drop = 'first' in the OneHotEncoder initialization to avoid multicollinearity in the linear regression model\n",
        "- Scaling\n",
        "  - Apply standardization to the original numerical columns in both the training and testing datasets using StandardScaler from sklearn\n",
        "  - Make sure to include only the original numerical columns and not the newly encoded ones\n",
        "- Save your final output of processed x to `medical_x_processed`"
      ],
      "metadata": {
        "id": "Oxw--Rk9ocuk"
      }
    },
    {
      "cell_type": "code",
      "source": [
        "# DO NOT EDIT\n",
        "medical_x = medical_cost_df.drop(columns = [\"charges\"])\n",
        "medical_y = medical_cost_df['charges']\n",
        "\n",
        "to_encode = ['sex', 'smoker', 'region'] # columns that need to encode\n",
        "not_encode = ['age', 'bmi', 'children']"
      ],
      "metadata": {
        "id": "Ao1j8kFkocIh"
      },
      "execution_count": 225,
      "outputs": []
    },
    {
      "cell_type": "code",
      "source": [
        "import pandas as pd\n",
        "from sklearn.preprocessing import OneHotEncoder, StandardScaler\n",
        "\n",
        "# Assuming `medical_x` is the DataFrame with the original data\n",
        "\n",
        "# TODO: Instantiate OneHotEncoder object\n",
        "ohe = OneHotEncoder(drop='first', sparse_output=False)\n",
        "\n",
        "# TODO: Fit and transform the encoder on the relevant columns from medical_x\n",
        "to_encode = ['sex', 'smoker', 'region']  # Relevant columns to encode\n",
        "not_encode = ['age', 'bmi', 'children']  # Columns to retain\n",
        "\n",
        "# Fit and transform only on the relevant categorical columns\n",
        "medical_x_encoded = ohe.fit_transform(medical_x[to_encode])\n",
        "\n",
        "# TODO: Convert the encoded NumPy array back into a DataFrame with column names\n",
        "X_train_encoded_df = pd.DataFrame(\n",
        "    medical_x_encoded, columns=ohe.get_feature_names_out(to_encode)\n",
        ")\n",
        "\n",
        "# DO NOT EDIT this line\n",
        "medical_x_processed = pd.concat(\n",
        "    [X_train_encoded_df, pd.DataFrame(medical_x[not_encode]).reset_index(drop=True)],\n",
        "    axis=1\n",
        ")\n",
        "\n",
        "# TODO: Instantiate a StandardScaler object\n",
        "scaler = StandardScaler()\n",
        "\n",
        "# TODO: Fit and transform the scaler on the numerical columns from the training data\n",
        "medical_x_processed[not_encode] = scaler.fit_transform(\n",
        "    medical_x_processed[not_encode])\n",
        "\n"
      ],
      "metadata": {
        "id": "rMe44A4lqYmE"
      },
      "execution_count": 226,
      "outputs": []
    },
    {
      "cell_type": "code",
      "source": [
        "# Grader Cell (3 points)\n",
        "grader.grade(test_case_id = 'mc_descriptive_process', answer = (medical_x_processed, medical_y))"
      ],
      "metadata": {
        "id": "8g0UVYhlsxCC",
        "colab": {
          "base_uri": "https://localhost:8080/"
        },
        "outputId": "11b90f5a-ead2-42a6-d326-2f782055f996"
      },
      "execution_count": 227,
      "outputs": [
        {
          "output_type": "stream",
          "name": "stdout",
          "text": [
            "Correct! You earned 3/3 points. You are a star!\n",
            "\n",
            "Your submission has been successfully recorded in the gradebook.\n"
          ]
        }
      ]
    },
    {
      "cell_type": "markdown",
      "source": [
        "### 2.2.2 Linear Regression [2 points]\n",
        "\n",
        "Use the `LinearRegression` class ([documentation](https://scikit-learn.org/stable/modules/generated/sklearn.linear_model.LinearRegression.html)) in scikit-learn to perform Linear Regression. Initialize a Linear regression model named `lr_descriptive` with default parameters, fit the model to `medical_x_process` and `medical_y`, and report your [R-squared score](https://scikit-learn.org/stable/modules/generated/sklearn.linear_model.LinearRegression.html#sklearn.linear_model.LinearRegression.score) between `medical_x_process` and `medical_y`"
      ],
      "metadata": {
        "id": "to4EAqM-s44l"
      }
    },
    {
      "cell_type": "code",
      "source": [
        "from sklearn.linear_model import LinearRegression\n",
        "from sklearn.metrics import r2_score\n",
        "\n",
        "# TO-DO: Initialize model with default parameters and fit it on the training set\n",
        "model = LinearRegression()\n",
        "model.fit(X_train_scaled, y_train)  # Assuming `X_train_scaled` and `y_train` are defined\n",
        "\n",
        "# TO-DO: Find the R-squared score for the test set and store the value in `lr_score_descriptive`\n",
        "lr_score_descriptive = r2_score(y_test, model.predict(X_test_scaled))  # Assuming `y_test` and `X_test_scaled` are defined\n",
        "\n"
      ],
      "metadata": {
        "id": "uJ582IBYtYwv"
      },
      "execution_count": 228,
      "outputs": []
    },
    {
      "cell_type": "code",
      "source": [
        "# Grader Cell (2 points)\n",
        "grader.grade(test_case_id = 'mc_lr_descriptive', answer = (lr_score_descriptive))"
      ],
      "metadata": {
        "id": "dLyTgYo6tqqZ",
        "colab": {
          "base_uri": "https://localhost:8080/"
        },
        "outputId": "b3c6be37-ebea-47b8-e95d-04b90ce15cfe"
      },
      "execution_count": 229,
      "outputs": [
        {
          "output_type": "stream",
          "name": "stdout",
          "text": [
            "Correct! You earned 2/2 points. You are a star!\n",
            "\n",
            "Your submission has been successfully recorded in the gradebook.\n"
          ]
        }
      ]
    },
    {
      "cell_type": "markdown",
      "source": [
        "### 2.2.3 Interpreting Coefficients [5 points] (manually graded)\n",
        "**Task**\n",
        "1. Print out the coefficients of the descriptive linear regression model from Section 2.2.3 along with the feature names in a DataFrame:\n",
        "\n",
        "| feature | coefficient |\n",
        "|---------|----------|\n",
        "|    sex_male     |   -18.591692    |\n",
        "|    smoker_yes   |    23651.128856  |\n",
        "|    region_northwest        |  -370.677326   |\n",
        "|    region_southeast |    -657.864297      |\n",
        "|   region_southwest     |    -809.799354   |\n",
        "|    age     |    3614.975415      |\n",
        "|    bmi     |    2036.228123      |\n",
        "|    children     |    516.890247      |\n",
        "\n",
        "\n",
        "2. Explain how smoking and age affect the cost\n",
        "**ANSWER** - for a unit increase in smoker_yes feature (that means if person does smoke) insurance costs increase by 23651.128856, while for a unit increase in age insurance costs increase by 3614.975415 (everything else held constant).\n",
        "\n",
        "\n",
        "\n",
        "**Note**\n",
        "1. Answer this question based on the coefficients of the model (e.g., if feature x increases by 1, how does that affect the cost?). Think about whether phrases like \"smoker_yes increases by 1\" make sense; consider what an increase of 1 means for the scaled columns. Be explicit in explaining its meaning.\n",
        "2. reference of getting the coefficients from linear regression models: https://www.statology.org/sklearn-regression-coefficients/\n",
        "3. Consider how you might you interpret the coefficients of your scaled features vs. your one hot encoded features differently"
      ],
      "metadata": {
        "id": "0YA6Tc_6oPOP"
      }
    },
    {
      "cell_type": "code",
      "source": [
        "import pandas as pd\n",
        "\n",
        "# TODO 1: Print models' coefficients with matching column names\n",
        "coefficients_df = pd.DataFrame({\n",
        "    'feature': X_train_scaled.columns,  # Extract feature names from training data\n",
        "    'coefficient': model.coef_  # Extract the coefficients from the trained model\n",
        "})\n",
        "\n",
        "# Display the DataFrame\n",
        "print(coefficients_df)\n"
      ],
      "metadata": {
        "id": "zmGwmeZadqHb",
        "colab": {
          "base_uri": "https://localhost:8080/"
        },
        "outputId": "0ca34db4-971d-4f1a-d399-dff4371771f0"
      },
      "execution_count": 230,
      "outputs": [
        {
          "output_type": "stream",
          "name": "stdout",
          "text": [
            "            feature   coefficient\n",
            "0          sex_male    -18.591692\n",
            "1        smoker_yes  23651.128856\n",
            "2  region_northwest   -370.677326\n",
            "3  region_southeast   -657.864297\n",
            "4  region_southwest   -809.799354\n",
            "5               age   3614.975415\n",
            "6               bmi   2036.228123\n",
            "7          children    516.890247\n"
          ]
        }
      ]
    },
    {
      "cell_type": "markdown",
      "source": [
        "## 2.3 Hypothesis Testing [10 Points]"
      ],
      "metadata": {
        "id": "pL12GDsU8kIF"
      }
    },
    {
      "cell_type": "markdown",
      "source": [
        "### 2.3.1 Testing for *all* coefficients = 0 [5 points] (1 manually graded)\n",
        "\n",
        "\n",
        "Null Hypothesis: All coefficients of the unregularized model are 0, i.e., $\\beta_0 = \\beta_1 = ... = \\beta_n = 0$.\n",
        "\n",
        "**Task:**  \n",
        "\n",
        "Use the code template given, report the following:\n",
        "\n",
        "1. `original_r2`: The original model's $R^2$ value (you can use the value reported for the training data from Section 2.2.2).\n",
        "2. `simulated_r2`: An array of $R^2$ values from the permuted data linear regression simulations.\n",
        "3. `all_zero_p_value`: The p-value for the given null hypothesis, calculated by the proportion of times the simulated $R^2$ is larger than the original $R^2$.\n",
        "\n",
        "**Note:**\n",
        "- Use the method covered in Lecture 10 to complete this section (comparing $R^2$ values between the original regression and simulations of regressions on permuted data).\n",
        "- Do **NOT** use any additional imports.\n",
        "- We will manually check the code used and deduct points if necessary.\n",
        "- start from `medical_x_processed` and `medical_y`"
      ],
      "metadata": {
        "id": "NyebHqwK8kIF"
      }
    },
    {
      "cell_type": "code",
      "source": [
        "from sklearn.utils import resample\n",
        "from sklearn.metrics import r2_score\n",
        "\n",
        "\n",
        "model.fit(medical_x_processed, medical_y)\n",
        "\n",
        "# TODO: Calculate the original R^2 score\n",
        "original_r2 = r2_score(medical_y, model.predict(medical_x_processed))\n",
        "\n",
        "# TODO: Simulate R^2 values using permuted data\n",
        "simulated_r2 = []\n",
        "\n",
        "for _ in range(1000):\n",
        "    # Shuffle to break any association\n",
        "    medical_y_permuted = resample(medical_y, random_state=42)\n",
        "\n",
        "    # Fit a new model\n",
        "    model.fit(medical_x_processed, medical_y_permuted)\n",
        "\n",
        "    # Calculate the R^2 score for the permuted model\n",
        "    r2 = r2_score(medical_y_permuted, model.predict(medical_x_processed))\n",
        "    simulated_r2.append(r2)\n",
        "\n",
        "# TODO: Calculate the p-value\n",
        "all_zero_p_value = sum(1 for r2 in simulated_r2 if r2 >= original_r2) / len(simulated_r2)\n",
        "\n",
        "\n",
        "print(f\"Original R^2: {original_r2}\")\n",
        "print(f\"P-value: {all_zero_p_value}\")\n"
      ],
      "metadata": {
        "id": "pDdU0cfm8kIF",
        "colab": {
          "base_uri": "https://localhost:8080/"
        },
        "outputId": "9246fb4d-4ca6-4158-8844-8cbf4ec0c8c6"
      },
      "execution_count": 231,
      "outputs": [
        {
          "output_type": "stream",
          "name": "stdout",
          "text": [
            "Original R^2: 0.7509130345985207\n",
            "P-value: 0.0\n"
          ]
        }
      ]
    },
    {
      "cell_type": "code",
      "source": [
        "# Grader Cell (4 points)\n",
        "grader.grade(test_case_id = 'mc_all_zero', answer = (simulated_r2, all_zero_p_value, original_r2))"
      ],
      "metadata": {
        "id": "minfqED18kIF",
        "colab": {
          "base_uri": "https://localhost:8080/"
        },
        "outputId": "45670428-8c4c-47d0-c4f6-0c176d1d5a77"
      },
      "execution_count": 232,
      "outputs": [
        {
          "output_type": "stream",
          "name": "stdout",
          "text": [
            "Correct! You earned 4/4 points. You are a star!\n",
            "\n",
            "Your submission has been successfully recorded in the gradebook.\n"
          ]
        }
      ]
    },
    {
      "cell_type": "markdown",
      "source": [
        "**TODO [Manually graded: 1 point]**\n",
        "\n",
        "Q: should we reject the null hypothesis\n",
        "\n",
        "A: yes, reject the null hypothesis"
      ],
      "metadata": {
        "id": "OF8wYm7Y8kIF"
      }
    },
    {
      "cell_type": "markdown",
      "source": [
        "### 2.3.2  Testing for one particular coefficient is zero [5 points] (1 manually graded)\n",
        "Null hypothesis: The coefficient of `sex_male` in the full unregularized linear regression is 0.\n",
        "\n",
        "**Task:**  \n",
        "\n",
        "Use the code template given, report the following:\n",
        "\n",
        "1. `observed_r2`: The $R^2$ value when the linear regression is done without `sex_male` feature.\n",
        "2. `simulated_r2_one`: An array of $R^2$ values from residual testing linear regressions\n",
        "3. `one_zero_p_value`: The p-value for the given null hypothesis, calculated by the proportion of times the simulated $R^2$ is larger than the original $R^2$.\n",
        "\n",
        "**Note:**\n",
        "- Use the residual testing method covered in Lecture 10 to complete this section.\n",
        "- Do **NOT** use any additional imports.\n",
        "- We will manually check the code used and deduct points if necessary.\n",
        "- start from `medical_x_processed` and `medical_y`"
      ],
      "metadata": {
        "id": "Vv0SOsHB8kIF"
      }
    },
    {
      "cell_type": "code",
      "source": [
        "\n",
        "from sklearn.metrics import r2_score\n",
        "\n",
        "\n",
        "# TODO: Linear regression without the sex_male feature\n",
        "# Exclude 'sex_male' from the feature set\n",
        "X_without_sex_male = medical_x_processed.drop(columns=['sex_male'])\n",
        "\n",
        "# Train the linear regression model without 'sex_male'\n",
        "lr_without_sex_male = LinearRegression()\n",
        "lr_without_sex_male.fit(X_without_sex_male, medical_y)\n",
        "\n",
        "# Calculate observed R² without 'sex_male'\n",
        "observed_r2 = r2_score(medical_y, lr_without_sex_male.predict(X_without_sex_male))\n",
        "\n",
        "\n",
        "simulated_r2_one = []\n",
        "\n",
        "# Perform residual testing 1000 times\n",
        "for _ in range(1000):\n",
        "\n",
        "    residuals = medical_y - lr_without_sex_male.predict(X_without_sex_male)\n",
        "\n",
        "\n",
        "    shuffled_residuals = np.array(residuals)\n",
        "    np.random.shuffle(shuffled_residuals)\n",
        "\n",
        "\n",
        "    T = lr_without_sex_male.predict(X_without_sex_male) + shuffled_residuals\n",
        "\n",
        "\n",
        "    lr_simulated = LinearRegression()\n",
        "    lr_simulated.fit(medical_x_processed, T)\n",
        "\n",
        "\n",
        "    simulated_r2 = r2_score(T, lr_simulated.predict(medical_x_processed))\n",
        "    simulated_r2_one.append(simulated_r2)\n",
        "\n",
        "# TODO: Calculate p-value based on the observed and simulated R² values\n",
        "one_zero_p_value = np.mean(np.array(simulated_r2_one) >= observed_r2)\n",
        "\n",
        "print(f\"Observed R² (without sex_male): {observed_r2}\")\n",
        "print(f\"P-value for the null hypothesis: {one_zero_p_value}\")\n"
      ],
      "metadata": {
        "id": "rdFot5oWASAJ",
        "colab": {
          "base_uri": "https://localhost:8080/"
        },
        "outputId": "a48828f5-6dff-4129-f2f7-c1a541461ec7"
      },
      "execution_count": 233,
      "outputs": [
        {
          "output_type": "stream",
          "name": "stdout",
          "text": [
            "Observed R² (without sex_male): 0.7508838801843356\n",
            "P-value for the null hypothesis: 0.595\n"
          ]
        }
      ]
    },
    {
      "cell_type": "code",
      "source": [
        "# Grader Cell (4 points)\n",
        "grader.grade(test_case_id = 'mc_one_zero', answer = (simulated_r2_one, one_zero_p_value, observed_r2))"
      ],
      "metadata": {
        "id": "p4r18x1G8kIG",
        "colab": {
          "base_uri": "https://localhost:8080/"
        },
        "outputId": "642963a3-b532-4ada-be6d-82bcffda1257"
      },
      "execution_count": 234,
      "outputs": [
        {
          "output_type": "stream",
          "name": "stdout",
          "text": [
            "Correct! You earned 4/4 points. You are a star!\n",
            "\n",
            "Your submission has been successfully recorded in the gradebook.\n"
          ]
        }
      ]
    },
    {
      "cell_type": "markdown",
      "source": [
        "**TODO [Manually graded: 1 point]**\n",
        "\n",
        "Q: should we reject the null hypothesis\n",
        "\n",
        "A: no, cannot reject the null hypothesis"
      ],
      "metadata": {
        "id": "IHMbTnYR8kIG"
      }
    },
    {
      "cell_type": "markdown",
      "source": [
        "# Part 3: Imbalanced Classification and Hyperparameter Tuning [44 Points]"
      ],
      "metadata": {
        "id": "8kZyidue3xCa"
      }
    },
    {
      "cell_type": "markdown",
      "source": [
        "## 3.1: Load Data\n",
        "For this part, we will be using the Diabetes prediction dataset from Kaggle. This dataset contains 9 columns and about 100K rows.\n",
        "\n",
        "We will start by loading the data. We note that there are some rows where the `smoking_info` column has a value of 'No Info'. This isn't particularly helful to us when we're trying to make our predictions. We will start by removing these rows from our dataset.\n",
        "\n",
        "In this section, we perform the following tasks for you. Please run all cells in this section before proceeding to the next.\n",
        "*   Load the dataset called `diabetes_prediction_dataset.csv` using `pd.read_csv()`\n",
        "*   Keep only the rows where `smoking_history != 'No Info'`\n",
        "*   Reset index\n",
        "*   Save your output in `diabetes_cleaned_df`\n",
        "\n",
        "\n",
        "**There is nothing to do in this section -- but you must run all cells before proceeding.**"
      ],
      "metadata": {
        "id": "UsGL1Y065SxN"
      }
    },
    {
      "cell_type": "code",
      "source": [
        "# DO NOT CHANGE\n",
        "# Import Data\n",
        "diabetes_path = \"diabetes_prediction_dataset.csv\"\n",
        "diabetes_df = pd.read_csv(diabetes_path)\n",
        "diabetes_df.head()"
      ],
      "metadata": {
        "id": "VvNIRFZD5VuZ",
        "colab": {
          "base_uri": "https://localhost:8080/",
          "height": 206
        },
        "outputId": "f1066eff-c6f8-4115-cde1-696fa93a44cc"
      },
      "execution_count": 235,
      "outputs": [
        {
          "output_type": "execute_result",
          "data": {
            "text/plain": [
              "   gender   age hypertension heart_disease smoking_history    bmi  \\\n",
              "0  Female  80.0           no           yes           never  25.19   \n",
              "1  Female  54.0           no            no         No Info  27.32   \n",
              "2    Male  28.0           no            no           never  27.32   \n",
              "3  Female  36.0           no            no         current  23.45   \n",
              "4    Male  76.0          yes           yes         current  20.14   \n",
              "\n",
              "   HbA1c_level  blood_glucose_level diabetes  \n",
              "0          6.6                  140       no  \n",
              "1          6.6                   80       no  \n",
              "2          5.7                  158       no  \n",
              "3          5.0                  155       no  \n",
              "4          4.8                  155       no  "
            ],
            "text/html": [
              "\n",
              "  <div id=\"df-9437c02d-f630-43c4-866e-6cbd39b1b793\" class=\"colab-df-container\">\n",
              "    <div>\n",
              "<style scoped>\n",
              "    .dataframe tbody tr th:only-of-type {\n",
              "        vertical-align: middle;\n",
              "    }\n",
              "\n",
              "    .dataframe tbody tr th {\n",
              "        vertical-align: top;\n",
              "    }\n",
              "\n",
              "    .dataframe thead th {\n",
              "        text-align: right;\n",
              "    }\n",
              "</style>\n",
              "<table border=\"1\" class=\"dataframe\">\n",
              "  <thead>\n",
              "    <tr style=\"text-align: right;\">\n",
              "      <th></th>\n",
              "      <th>gender</th>\n",
              "      <th>age</th>\n",
              "      <th>hypertension</th>\n",
              "      <th>heart_disease</th>\n",
              "      <th>smoking_history</th>\n",
              "      <th>bmi</th>\n",
              "      <th>HbA1c_level</th>\n",
              "      <th>blood_glucose_level</th>\n",
              "      <th>diabetes</th>\n",
              "    </tr>\n",
              "  </thead>\n",
              "  <tbody>\n",
              "    <tr>\n",
              "      <th>0</th>\n",
              "      <td>Female</td>\n",
              "      <td>80.0</td>\n",
              "      <td>no</td>\n",
              "      <td>yes</td>\n",
              "      <td>never</td>\n",
              "      <td>25.19</td>\n",
              "      <td>6.6</td>\n",
              "      <td>140</td>\n",
              "      <td>no</td>\n",
              "    </tr>\n",
              "    <tr>\n",
              "      <th>1</th>\n",
              "      <td>Female</td>\n",
              "      <td>54.0</td>\n",
              "      <td>no</td>\n",
              "      <td>no</td>\n",
              "      <td>No Info</td>\n",
              "      <td>27.32</td>\n",
              "      <td>6.6</td>\n",
              "      <td>80</td>\n",
              "      <td>no</td>\n",
              "    </tr>\n",
              "    <tr>\n",
              "      <th>2</th>\n",
              "      <td>Male</td>\n",
              "      <td>28.0</td>\n",
              "      <td>no</td>\n",
              "      <td>no</td>\n",
              "      <td>never</td>\n",
              "      <td>27.32</td>\n",
              "      <td>5.7</td>\n",
              "      <td>158</td>\n",
              "      <td>no</td>\n",
              "    </tr>\n",
              "    <tr>\n",
              "      <th>3</th>\n",
              "      <td>Female</td>\n",
              "      <td>36.0</td>\n",
              "      <td>no</td>\n",
              "      <td>no</td>\n",
              "      <td>current</td>\n",
              "      <td>23.45</td>\n",
              "      <td>5.0</td>\n",
              "      <td>155</td>\n",
              "      <td>no</td>\n",
              "    </tr>\n",
              "    <tr>\n",
              "      <th>4</th>\n",
              "      <td>Male</td>\n",
              "      <td>76.0</td>\n",
              "      <td>yes</td>\n",
              "      <td>yes</td>\n",
              "      <td>current</td>\n",
              "      <td>20.14</td>\n",
              "      <td>4.8</td>\n",
              "      <td>155</td>\n",
              "      <td>no</td>\n",
              "    </tr>\n",
              "  </tbody>\n",
              "</table>\n",
              "</div>\n",
              "    <div class=\"colab-df-buttons\">\n",
              "\n",
              "  <div class=\"colab-df-container\">\n",
              "    <button class=\"colab-df-convert\" onclick=\"convertToInteractive('df-9437c02d-f630-43c4-866e-6cbd39b1b793')\"\n",
              "            title=\"Convert this dataframe to an interactive table.\"\n",
              "            style=\"display:none;\">\n",
              "\n",
              "  <svg xmlns=\"http://www.w3.org/2000/svg\" height=\"24px\" viewBox=\"0 -960 960 960\">\n",
              "    <path d=\"M120-120v-720h720v720H120Zm60-500h600v-160H180v160Zm220 220h160v-160H400v160Zm0 220h160v-160H400v160ZM180-400h160v-160H180v160Zm440 0h160v-160H620v160ZM180-180h160v-160H180v160Zm440 0h160v-160H620v160Z\"/>\n",
              "  </svg>\n",
              "    </button>\n",
              "\n",
              "  <style>\n",
              "    .colab-df-container {\n",
              "      display:flex;\n",
              "      gap: 12px;\n",
              "    }\n",
              "\n",
              "    .colab-df-convert {\n",
              "      background-color: #E8F0FE;\n",
              "      border: none;\n",
              "      border-radius: 50%;\n",
              "      cursor: pointer;\n",
              "      display: none;\n",
              "      fill: #1967D2;\n",
              "      height: 32px;\n",
              "      padding: 0 0 0 0;\n",
              "      width: 32px;\n",
              "    }\n",
              "\n",
              "    .colab-df-convert:hover {\n",
              "      background-color: #E2EBFA;\n",
              "      box-shadow: 0px 1px 2px rgba(60, 64, 67, 0.3), 0px 1px 3px 1px rgba(60, 64, 67, 0.15);\n",
              "      fill: #174EA6;\n",
              "    }\n",
              "\n",
              "    .colab-df-buttons div {\n",
              "      margin-bottom: 4px;\n",
              "    }\n",
              "\n",
              "    [theme=dark] .colab-df-convert {\n",
              "      background-color: #3B4455;\n",
              "      fill: #D2E3FC;\n",
              "    }\n",
              "\n",
              "    [theme=dark] .colab-df-convert:hover {\n",
              "      background-color: #434B5C;\n",
              "      box-shadow: 0px 1px 3px 1px rgba(0, 0, 0, 0.15);\n",
              "      filter: drop-shadow(0px 1px 2px rgba(0, 0, 0, 0.3));\n",
              "      fill: #FFFFFF;\n",
              "    }\n",
              "  </style>\n",
              "\n",
              "    <script>\n",
              "      const buttonEl =\n",
              "        document.querySelector('#df-9437c02d-f630-43c4-866e-6cbd39b1b793 button.colab-df-convert');\n",
              "      buttonEl.style.display =\n",
              "        google.colab.kernel.accessAllowed ? 'block' : 'none';\n",
              "\n",
              "      async function convertToInteractive(key) {\n",
              "        const element = document.querySelector('#df-9437c02d-f630-43c4-866e-6cbd39b1b793');\n",
              "        const dataTable =\n",
              "          await google.colab.kernel.invokeFunction('convertToInteractive',\n",
              "                                                    [key], {});\n",
              "        if (!dataTable) return;\n",
              "\n",
              "        const docLinkHtml = 'Like what you see? Visit the ' +\n",
              "          '<a target=\"_blank\" href=https://colab.research.google.com/notebooks/data_table.ipynb>data table notebook</a>'\n",
              "          + ' to learn more about interactive tables.';\n",
              "        element.innerHTML = '';\n",
              "        dataTable['output_type'] = 'display_data';\n",
              "        await google.colab.output.renderOutput(dataTable, element);\n",
              "        const docLink = document.createElement('div');\n",
              "        docLink.innerHTML = docLinkHtml;\n",
              "        element.appendChild(docLink);\n",
              "      }\n",
              "    </script>\n",
              "  </div>\n",
              "\n",
              "\n",
              "<div id=\"df-b59e2689-72c0-4d35-ad88-ca7f40004f99\">\n",
              "  <button class=\"colab-df-quickchart\" onclick=\"quickchart('df-b59e2689-72c0-4d35-ad88-ca7f40004f99')\"\n",
              "            title=\"Suggest charts\"\n",
              "            style=\"display:none;\">\n",
              "\n",
              "<svg xmlns=\"http://www.w3.org/2000/svg\" height=\"24px\"viewBox=\"0 0 24 24\"\n",
              "     width=\"24px\">\n",
              "    <g>\n",
              "        <path d=\"M19 3H5c-1.1 0-2 .9-2 2v14c0 1.1.9 2 2 2h14c1.1 0 2-.9 2-2V5c0-1.1-.9-2-2-2zM9 17H7v-7h2v7zm4 0h-2V7h2v10zm4 0h-2v-4h2v4z\"/>\n",
              "    </g>\n",
              "</svg>\n",
              "  </button>\n",
              "\n",
              "<style>\n",
              "  .colab-df-quickchart {\n",
              "      --bg-color: #E8F0FE;\n",
              "      --fill-color: #1967D2;\n",
              "      --hover-bg-color: #E2EBFA;\n",
              "      --hover-fill-color: #174EA6;\n",
              "      --disabled-fill-color: #AAA;\n",
              "      --disabled-bg-color: #DDD;\n",
              "  }\n",
              "\n",
              "  [theme=dark] .colab-df-quickchart {\n",
              "      --bg-color: #3B4455;\n",
              "      --fill-color: #D2E3FC;\n",
              "      --hover-bg-color: #434B5C;\n",
              "      --hover-fill-color: #FFFFFF;\n",
              "      --disabled-bg-color: #3B4455;\n",
              "      --disabled-fill-color: #666;\n",
              "  }\n",
              "\n",
              "  .colab-df-quickchart {\n",
              "    background-color: var(--bg-color);\n",
              "    border: none;\n",
              "    border-radius: 50%;\n",
              "    cursor: pointer;\n",
              "    display: none;\n",
              "    fill: var(--fill-color);\n",
              "    height: 32px;\n",
              "    padding: 0;\n",
              "    width: 32px;\n",
              "  }\n",
              "\n",
              "  .colab-df-quickchart:hover {\n",
              "    background-color: var(--hover-bg-color);\n",
              "    box-shadow: 0 1px 2px rgba(60, 64, 67, 0.3), 0 1px 3px 1px rgba(60, 64, 67, 0.15);\n",
              "    fill: var(--button-hover-fill-color);\n",
              "  }\n",
              "\n",
              "  .colab-df-quickchart-complete:disabled,\n",
              "  .colab-df-quickchart-complete:disabled:hover {\n",
              "    background-color: var(--disabled-bg-color);\n",
              "    fill: var(--disabled-fill-color);\n",
              "    box-shadow: none;\n",
              "  }\n",
              "\n",
              "  .colab-df-spinner {\n",
              "    border: 2px solid var(--fill-color);\n",
              "    border-color: transparent;\n",
              "    border-bottom-color: var(--fill-color);\n",
              "    animation:\n",
              "      spin 1s steps(1) infinite;\n",
              "  }\n",
              "\n",
              "  @keyframes spin {\n",
              "    0% {\n",
              "      border-color: transparent;\n",
              "      border-bottom-color: var(--fill-color);\n",
              "      border-left-color: var(--fill-color);\n",
              "    }\n",
              "    20% {\n",
              "      border-color: transparent;\n",
              "      border-left-color: var(--fill-color);\n",
              "      border-top-color: var(--fill-color);\n",
              "    }\n",
              "    30% {\n",
              "      border-color: transparent;\n",
              "      border-left-color: var(--fill-color);\n",
              "      border-top-color: var(--fill-color);\n",
              "      border-right-color: var(--fill-color);\n",
              "    }\n",
              "    40% {\n",
              "      border-color: transparent;\n",
              "      border-right-color: var(--fill-color);\n",
              "      border-top-color: var(--fill-color);\n",
              "    }\n",
              "    60% {\n",
              "      border-color: transparent;\n",
              "      border-right-color: var(--fill-color);\n",
              "    }\n",
              "    80% {\n",
              "      border-color: transparent;\n",
              "      border-right-color: var(--fill-color);\n",
              "      border-bottom-color: var(--fill-color);\n",
              "    }\n",
              "    90% {\n",
              "      border-color: transparent;\n",
              "      border-bottom-color: var(--fill-color);\n",
              "    }\n",
              "  }\n",
              "</style>\n",
              "\n",
              "  <script>\n",
              "    async function quickchart(key) {\n",
              "      const quickchartButtonEl =\n",
              "        document.querySelector('#' + key + ' button');\n",
              "      quickchartButtonEl.disabled = true;  // To prevent multiple clicks.\n",
              "      quickchartButtonEl.classList.add('colab-df-spinner');\n",
              "      try {\n",
              "        const charts = await google.colab.kernel.invokeFunction(\n",
              "            'suggestCharts', [key], {});\n",
              "      } catch (error) {\n",
              "        console.error('Error during call to suggestCharts:', error);\n",
              "      }\n",
              "      quickchartButtonEl.classList.remove('colab-df-spinner');\n",
              "      quickchartButtonEl.classList.add('colab-df-quickchart-complete');\n",
              "    }\n",
              "    (() => {\n",
              "      let quickchartButtonEl =\n",
              "        document.querySelector('#df-b59e2689-72c0-4d35-ad88-ca7f40004f99 button');\n",
              "      quickchartButtonEl.style.display =\n",
              "        google.colab.kernel.accessAllowed ? 'block' : 'none';\n",
              "    })();\n",
              "  </script>\n",
              "</div>\n",
              "\n",
              "    </div>\n",
              "  </div>\n"
            ],
            "application/vnd.google.colaboratory.intrinsic+json": {
              "type": "dataframe",
              "variable_name": "diabetes_df",
              "summary": "{\n  \"name\": \"diabetes_df\",\n  \"rows\": 100000,\n  \"fields\": [\n    {\n      \"column\": \"gender\",\n      \"properties\": {\n        \"dtype\": \"category\",\n        \"num_unique_values\": 3,\n        \"samples\": [\n          \"Female\",\n          \"Male\",\n          \"Other\"\n        ],\n        \"semantic_type\": \"\",\n        \"description\": \"\"\n      }\n    },\n    {\n      \"column\": \"age\",\n      \"properties\": {\n        \"dtype\": \"number\",\n        \"std\": 22.51683987161513,\n        \"min\": 0.08,\n        \"max\": 80.0,\n        \"num_unique_values\": 102,\n        \"samples\": [\n          29.0,\n          39.0,\n          16.0\n        ],\n        \"semantic_type\": \"\",\n        \"description\": \"\"\n      }\n    },\n    {\n      \"column\": \"hypertension\",\n      \"properties\": {\n        \"dtype\": \"category\",\n        \"num_unique_values\": 2,\n        \"samples\": [\n          \"yes\",\n          \"no\"\n        ],\n        \"semantic_type\": \"\",\n        \"description\": \"\"\n      }\n    },\n    {\n      \"column\": \"heart_disease\",\n      \"properties\": {\n        \"dtype\": \"category\",\n        \"num_unique_values\": 2,\n        \"samples\": [\n          \"no\",\n          \"yes\"\n        ],\n        \"semantic_type\": \"\",\n        \"description\": \"\"\n      }\n    },\n    {\n      \"column\": \"smoking_history\",\n      \"properties\": {\n        \"dtype\": \"category\",\n        \"num_unique_values\": 6,\n        \"samples\": [\n          \"never\",\n          \"No Info\"\n        ],\n        \"semantic_type\": \"\",\n        \"description\": \"\"\n      }\n    },\n    {\n      \"column\": \"bmi\",\n      \"properties\": {\n        \"dtype\": \"number\",\n        \"std\": 6.636783416649581,\n        \"min\": 10.01,\n        \"max\": 95.69,\n        \"num_unique_values\": 4247,\n        \"samples\": [\n          53.27,\n          32.33\n        ],\n        \"semantic_type\": \"\",\n        \"description\": \"\"\n      }\n    },\n    {\n      \"column\": \"HbA1c_level\",\n      \"properties\": {\n        \"dtype\": \"number\",\n        \"std\": 1.0706720918832282,\n        \"min\": 3.5,\n        \"max\": 9.0,\n        \"num_unique_values\": 18,\n        \"samples\": [\n          6.6,\n          5.7\n        ],\n        \"semantic_type\": \"\",\n        \"description\": \"\"\n      }\n    },\n    {\n      \"column\": \"blood_glucose_level\",\n      \"properties\": {\n        \"dtype\": \"number\",\n        \"std\": 40,\n        \"min\": 80,\n        \"max\": 300,\n        \"num_unique_values\": 18,\n        \"samples\": [\n          140,\n          80\n        ],\n        \"semantic_type\": \"\",\n        \"description\": \"\"\n      }\n    },\n    {\n      \"column\": \"diabetes\",\n      \"properties\": {\n        \"dtype\": \"category\",\n        \"num_unique_values\": 2,\n        \"samples\": [\n          \"yes\",\n          \"no\"\n        ],\n        \"semantic_type\": \"\",\n        \"description\": \"\"\n      }\n    }\n  ]\n}"
            }
          },
          "metadata": {},
          "execution_count": 235
        }
      ]
    },
    {
      "cell_type": "code",
      "source": [
        "# Get an overview of the data\n",
        "diabetes_df.info()"
      ],
      "metadata": {
        "id": "Klqwfs4lZRzu",
        "colab": {
          "base_uri": "https://localhost:8080/"
        },
        "outputId": "e5037b5a-8fc0-4079-fb1c-e683456dbb85"
      },
      "execution_count": 236,
      "outputs": [
        {
          "output_type": "stream",
          "name": "stdout",
          "text": [
            "<class 'pandas.core.frame.DataFrame'>\n",
            "RangeIndex: 100000 entries, 0 to 99999\n",
            "Data columns (total 9 columns):\n",
            " #   Column               Non-Null Count   Dtype  \n",
            "---  ------               --------------   -----  \n",
            " 0   gender               100000 non-null  object \n",
            " 1   age                  100000 non-null  float64\n",
            " 2   hypertension         100000 non-null  object \n",
            " 3   heart_disease        100000 non-null  object \n",
            " 4   smoking_history      100000 non-null  object \n",
            " 5   bmi                  100000 non-null  float64\n",
            " 6   HbA1c_level          100000 non-null  float64\n",
            " 7   blood_glucose_level  100000 non-null  int64  \n",
            " 8   diabetes             100000 non-null  object \n",
            "dtypes: float64(3), int64(1), object(5)\n",
            "memory usage: 6.9+ MB\n"
          ]
        }
      ]
    },
    {
      "cell_type": "code",
      "source": [
        "# DO NOT MODIFY\n",
        "# Drop all rows where smoking-history is 'No Info' and reset_index\n",
        "diabetes_cleaned_df = diabetes_df[diabetes_df['smoking_history'] != 'No Info']\n",
        "diabetes_cleaned_df.reset_index(drop=True, inplace=True)\n",
        "diabetes_cleaned_df.head()"
      ],
      "metadata": {
        "id": "PkXOW4JU5lmY",
        "colab": {
          "base_uri": "https://localhost:8080/",
          "height": 206
        },
        "outputId": "0a35e012-dc3c-4867-fdcc-c318f4aece06"
      },
      "execution_count": 237,
      "outputs": [
        {
          "output_type": "execute_result",
          "data": {
            "text/plain": [
              "   gender   age hypertension heart_disease smoking_history    bmi  \\\n",
              "0  Female  80.0           no           yes           never  25.19   \n",
              "1    Male  28.0           no            no           never  27.32   \n",
              "2  Female  36.0           no            no         current  23.45   \n",
              "3    Male  76.0          yes           yes         current  20.14   \n",
              "4  Female  20.0           no            no           never  27.32   \n",
              "\n",
              "   HbA1c_level  blood_glucose_level diabetes  \n",
              "0          6.6                  140       no  \n",
              "1          5.7                  158       no  \n",
              "2          5.0                  155       no  \n",
              "3          4.8                  155       no  \n",
              "4          6.6                   85       no  "
            ],
            "text/html": [
              "\n",
              "  <div id=\"df-820aba1a-19d8-4b58-82ee-b2d4a0c1ed40\" class=\"colab-df-container\">\n",
              "    <div>\n",
              "<style scoped>\n",
              "    .dataframe tbody tr th:only-of-type {\n",
              "        vertical-align: middle;\n",
              "    }\n",
              "\n",
              "    .dataframe tbody tr th {\n",
              "        vertical-align: top;\n",
              "    }\n",
              "\n",
              "    .dataframe thead th {\n",
              "        text-align: right;\n",
              "    }\n",
              "</style>\n",
              "<table border=\"1\" class=\"dataframe\">\n",
              "  <thead>\n",
              "    <tr style=\"text-align: right;\">\n",
              "      <th></th>\n",
              "      <th>gender</th>\n",
              "      <th>age</th>\n",
              "      <th>hypertension</th>\n",
              "      <th>heart_disease</th>\n",
              "      <th>smoking_history</th>\n",
              "      <th>bmi</th>\n",
              "      <th>HbA1c_level</th>\n",
              "      <th>blood_glucose_level</th>\n",
              "      <th>diabetes</th>\n",
              "    </tr>\n",
              "  </thead>\n",
              "  <tbody>\n",
              "    <tr>\n",
              "      <th>0</th>\n",
              "      <td>Female</td>\n",
              "      <td>80.0</td>\n",
              "      <td>no</td>\n",
              "      <td>yes</td>\n",
              "      <td>never</td>\n",
              "      <td>25.19</td>\n",
              "      <td>6.6</td>\n",
              "      <td>140</td>\n",
              "      <td>no</td>\n",
              "    </tr>\n",
              "    <tr>\n",
              "      <th>1</th>\n",
              "      <td>Male</td>\n",
              "      <td>28.0</td>\n",
              "      <td>no</td>\n",
              "      <td>no</td>\n",
              "      <td>never</td>\n",
              "      <td>27.32</td>\n",
              "      <td>5.7</td>\n",
              "      <td>158</td>\n",
              "      <td>no</td>\n",
              "    </tr>\n",
              "    <tr>\n",
              "      <th>2</th>\n",
              "      <td>Female</td>\n",
              "      <td>36.0</td>\n",
              "      <td>no</td>\n",
              "      <td>no</td>\n",
              "      <td>current</td>\n",
              "      <td>23.45</td>\n",
              "      <td>5.0</td>\n",
              "      <td>155</td>\n",
              "      <td>no</td>\n",
              "    </tr>\n",
              "    <tr>\n",
              "      <th>3</th>\n",
              "      <td>Male</td>\n",
              "      <td>76.0</td>\n",
              "      <td>yes</td>\n",
              "      <td>yes</td>\n",
              "      <td>current</td>\n",
              "      <td>20.14</td>\n",
              "      <td>4.8</td>\n",
              "      <td>155</td>\n",
              "      <td>no</td>\n",
              "    </tr>\n",
              "    <tr>\n",
              "      <th>4</th>\n",
              "      <td>Female</td>\n",
              "      <td>20.0</td>\n",
              "      <td>no</td>\n",
              "      <td>no</td>\n",
              "      <td>never</td>\n",
              "      <td>27.32</td>\n",
              "      <td>6.6</td>\n",
              "      <td>85</td>\n",
              "      <td>no</td>\n",
              "    </tr>\n",
              "  </tbody>\n",
              "</table>\n",
              "</div>\n",
              "    <div class=\"colab-df-buttons\">\n",
              "\n",
              "  <div class=\"colab-df-container\">\n",
              "    <button class=\"colab-df-convert\" onclick=\"convertToInteractive('df-820aba1a-19d8-4b58-82ee-b2d4a0c1ed40')\"\n",
              "            title=\"Convert this dataframe to an interactive table.\"\n",
              "            style=\"display:none;\">\n",
              "\n",
              "  <svg xmlns=\"http://www.w3.org/2000/svg\" height=\"24px\" viewBox=\"0 -960 960 960\">\n",
              "    <path d=\"M120-120v-720h720v720H120Zm60-500h600v-160H180v160Zm220 220h160v-160H400v160Zm0 220h160v-160H400v160ZM180-400h160v-160H180v160Zm440 0h160v-160H620v160ZM180-180h160v-160H180v160Zm440 0h160v-160H620v160Z\"/>\n",
              "  </svg>\n",
              "    </button>\n",
              "\n",
              "  <style>\n",
              "    .colab-df-container {\n",
              "      display:flex;\n",
              "      gap: 12px;\n",
              "    }\n",
              "\n",
              "    .colab-df-convert {\n",
              "      background-color: #E8F0FE;\n",
              "      border: none;\n",
              "      border-radius: 50%;\n",
              "      cursor: pointer;\n",
              "      display: none;\n",
              "      fill: #1967D2;\n",
              "      height: 32px;\n",
              "      padding: 0 0 0 0;\n",
              "      width: 32px;\n",
              "    }\n",
              "\n",
              "    .colab-df-convert:hover {\n",
              "      background-color: #E2EBFA;\n",
              "      box-shadow: 0px 1px 2px rgba(60, 64, 67, 0.3), 0px 1px 3px 1px rgba(60, 64, 67, 0.15);\n",
              "      fill: #174EA6;\n",
              "    }\n",
              "\n",
              "    .colab-df-buttons div {\n",
              "      margin-bottom: 4px;\n",
              "    }\n",
              "\n",
              "    [theme=dark] .colab-df-convert {\n",
              "      background-color: #3B4455;\n",
              "      fill: #D2E3FC;\n",
              "    }\n",
              "\n",
              "    [theme=dark] .colab-df-convert:hover {\n",
              "      background-color: #434B5C;\n",
              "      box-shadow: 0px 1px 3px 1px rgba(0, 0, 0, 0.15);\n",
              "      filter: drop-shadow(0px 1px 2px rgba(0, 0, 0, 0.3));\n",
              "      fill: #FFFFFF;\n",
              "    }\n",
              "  </style>\n",
              "\n",
              "    <script>\n",
              "      const buttonEl =\n",
              "        document.querySelector('#df-820aba1a-19d8-4b58-82ee-b2d4a0c1ed40 button.colab-df-convert');\n",
              "      buttonEl.style.display =\n",
              "        google.colab.kernel.accessAllowed ? 'block' : 'none';\n",
              "\n",
              "      async function convertToInteractive(key) {\n",
              "        const element = document.querySelector('#df-820aba1a-19d8-4b58-82ee-b2d4a0c1ed40');\n",
              "        const dataTable =\n",
              "          await google.colab.kernel.invokeFunction('convertToInteractive',\n",
              "                                                    [key], {});\n",
              "        if (!dataTable) return;\n",
              "\n",
              "        const docLinkHtml = 'Like what you see? Visit the ' +\n",
              "          '<a target=\"_blank\" href=https://colab.research.google.com/notebooks/data_table.ipynb>data table notebook</a>'\n",
              "          + ' to learn more about interactive tables.';\n",
              "        element.innerHTML = '';\n",
              "        dataTable['output_type'] = 'display_data';\n",
              "        await google.colab.output.renderOutput(dataTable, element);\n",
              "        const docLink = document.createElement('div');\n",
              "        docLink.innerHTML = docLinkHtml;\n",
              "        element.appendChild(docLink);\n",
              "      }\n",
              "    </script>\n",
              "  </div>\n",
              "\n",
              "\n",
              "<div id=\"df-245492fb-3c31-45f9-b139-315b37fabd8a\">\n",
              "  <button class=\"colab-df-quickchart\" onclick=\"quickchart('df-245492fb-3c31-45f9-b139-315b37fabd8a')\"\n",
              "            title=\"Suggest charts\"\n",
              "            style=\"display:none;\">\n",
              "\n",
              "<svg xmlns=\"http://www.w3.org/2000/svg\" height=\"24px\"viewBox=\"0 0 24 24\"\n",
              "     width=\"24px\">\n",
              "    <g>\n",
              "        <path d=\"M19 3H5c-1.1 0-2 .9-2 2v14c0 1.1.9 2 2 2h14c1.1 0 2-.9 2-2V5c0-1.1-.9-2-2-2zM9 17H7v-7h2v7zm4 0h-2V7h2v10zm4 0h-2v-4h2v4z\"/>\n",
              "    </g>\n",
              "</svg>\n",
              "  </button>\n",
              "\n",
              "<style>\n",
              "  .colab-df-quickchart {\n",
              "      --bg-color: #E8F0FE;\n",
              "      --fill-color: #1967D2;\n",
              "      --hover-bg-color: #E2EBFA;\n",
              "      --hover-fill-color: #174EA6;\n",
              "      --disabled-fill-color: #AAA;\n",
              "      --disabled-bg-color: #DDD;\n",
              "  }\n",
              "\n",
              "  [theme=dark] .colab-df-quickchart {\n",
              "      --bg-color: #3B4455;\n",
              "      --fill-color: #D2E3FC;\n",
              "      --hover-bg-color: #434B5C;\n",
              "      --hover-fill-color: #FFFFFF;\n",
              "      --disabled-bg-color: #3B4455;\n",
              "      --disabled-fill-color: #666;\n",
              "  }\n",
              "\n",
              "  .colab-df-quickchart {\n",
              "    background-color: var(--bg-color);\n",
              "    border: none;\n",
              "    border-radius: 50%;\n",
              "    cursor: pointer;\n",
              "    display: none;\n",
              "    fill: var(--fill-color);\n",
              "    height: 32px;\n",
              "    padding: 0;\n",
              "    width: 32px;\n",
              "  }\n",
              "\n",
              "  .colab-df-quickchart:hover {\n",
              "    background-color: var(--hover-bg-color);\n",
              "    box-shadow: 0 1px 2px rgba(60, 64, 67, 0.3), 0 1px 3px 1px rgba(60, 64, 67, 0.15);\n",
              "    fill: var(--button-hover-fill-color);\n",
              "  }\n",
              "\n",
              "  .colab-df-quickchart-complete:disabled,\n",
              "  .colab-df-quickchart-complete:disabled:hover {\n",
              "    background-color: var(--disabled-bg-color);\n",
              "    fill: var(--disabled-fill-color);\n",
              "    box-shadow: none;\n",
              "  }\n",
              "\n",
              "  .colab-df-spinner {\n",
              "    border: 2px solid var(--fill-color);\n",
              "    border-color: transparent;\n",
              "    border-bottom-color: var(--fill-color);\n",
              "    animation:\n",
              "      spin 1s steps(1) infinite;\n",
              "  }\n",
              "\n",
              "  @keyframes spin {\n",
              "    0% {\n",
              "      border-color: transparent;\n",
              "      border-bottom-color: var(--fill-color);\n",
              "      border-left-color: var(--fill-color);\n",
              "    }\n",
              "    20% {\n",
              "      border-color: transparent;\n",
              "      border-left-color: var(--fill-color);\n",
              "      border-top-color: var(--fill-color);\n",
              "    }\n",
              "    30% {\n",
              "      border-color: transparent;\n",
              "      border-left-color: var(--fill-color);\n",
              "      border-top-color: var(--fill-color);\n",
              "      border-right-color: var(--fill-color);\n",
              "    }\n",
              "    40% {\n",
              "      border-color: transparent;\n",
              "      border-right-color: var(--fill-color);\n",
              "      border-top-color: var(--fill-color);\n",
              "    }\n",
              "    60% {\n",
              "      border-color: transparent;\n",
              "      border-right-color: var(--fill-color);\n",
              "    }\n",
              "    80% {\n",
              "      border-color: transparent;\n",
              "      border-right-color: var(--fill-color);\n",
              "      border-bottom-color: var(--fill-color);\n",
              "    }\n",
              "    90% {\n",
              "      border-color: transparent;\n",
              "      border-bottom-color: var(--fill-color);\n",
              "    }\n",
              "  }\n",
              "</style>\n",
              "\n",
              "  <script>\n",
              "    async function quickchart(key) {\n",
              "      const quickchartButtonEl =\n",
              "        document.querySelector('#' + key + ' button');\n",
              "      quickchartButtonEl.disabled = true;  // To prevent multiple clicks.\n",
              "      quickchartButtonEl.classList.add('colab-df-spinner');\n",
              "      try {\n",
              "        const charts = await google.colab.kernel.invokeFunction(\n",
              "            'suggestCharts', [key], {});\n",
              "      } catch (error) {\n",
              "        console.error('Error during call to suggestCharts:', error);\n",
              "      }\n",
              "      quickchartButtonEl.classList.remove('colab-df-spinner');\n",
              "      quickchartButtonEl.classList.add('colab-df-quickchart-complete');\n",
              "    }\n",
              "    (() => {\n",
              "      let quickchartButtonEl =\n",
              "        document.querySelector('#df-245492fb-3c31-45f9-b139-315b37fabd8a button');\n",
              "      quickchartButtonEl.style.display =\n",
              "        google.colab.kernel.accessAllowed ? 'block' : 'none';\n",
              "    })();\n",
              "  </script>\n",
              "</div>\n",
              "\n",
              "    </div>\n",
              "  </div>\n"
            ],
            "application/vnd.google.colaboratory.intrinsic+json": {
              "type": "dataframe",
              "variable_name": "diabetes_cleaned_df",
              "summary": "{\n  \"name\": \"diabetes_cleaned_df\",\n  \"rows\": 64184,\n  \"fields\": [\n    {\n      \"column\": \"gender\",\n      \"properties\": {\n        \"dtype\": \"category\",\n        \"num_unique_values\": 3,\n        \"samples\": [\n          \"Female\",\n          \"Male\",\n          \"Other\"\n        ],\n        \"semantic_type\": \"\",\n        \"description\": \"\"\n      }\n    },\n    {\n      \"column\": \"age\",\n      \"properties\": {\n        \"dtype\": \"number\",\n        \"std\": 19.54033420272167,\n        \"min\": 0.16,\n        \"max\": 80.0,\n        \"num_unique_values\": 101,\n        \"samples\": [\n          0.24,\n          39.0,\n          52.0\n        ],\n        \"semantic_type\": \"\",\n        \"description\": \"\"\n      }\n    },\n    {\n      \"column\": \"hypertension\",\n      \"properties\": {\n        \"dtype\": \"category\",\n        \"num_unique_values\": 2,\n        \"samples\": [\n          \"yes\",\n          \"no\"\n        ],\n        \"semantic_type\": \"\",\n        \"description\": \"\"\n      }\n    },\n    {\n      \"column\": \"heart_disease\",\n      \"properties\": {\n        \"dtype\": \"category\",\n        \"num_unique_values\": 2,\n        \"samples\": [\n          \"no\",\n          \"yes\"\n        ],\n        \"semantic_type\": \"\",\n        \"description\": \"\"\n      }\n    },\n    {\n      \"column\": \"smoking_history\",\n      \"properties\": {\n        \"dtype\": \"category\",\n        \"num_unique_values\": 5,\n        \"samples\": [\n          \"current\",\n          \"not current\"\n        ],\n        \"semantic_type\": \"\",\n        \"description\": \"\"\n      }\n    },\n    {\n      \"column\": \"bmi\",\n      \"properties\": {\n        \"dtype\": \"number\",\n        \"std\": 6.5161992278311995,\n        \"min\": 10.08,\n        \"max\": 91.82,\n        \"num_unique_values\": 3943,\n        \"samples\": [\n          58.73,\n          17.29\n        ],\n        \"semantic_type\": \"\",\n        \"description\": \"\"\n      }\n    },\n    {\n      \"column\": \"HbA1c_level\",\n      \"properties\": {\n        \"dtype\": \"number\",\n        \"std\": 1.0955192865694148,\n        \"min\": 3.5,\n        \"max\": 9.0,\n        \"num_unique_values\": 18,\n        \"samples\": [\n          6.6,\n          5.7\n        ],\n        \"semantic_type\": \"\",\n        \"description\": \"\"\n      }\n    },\n    {\n      \"column\": \"blood_glucose_level\",\n      \"properties\": {\n        \"dtype\": \"number\",\n        \"std\": 42,\n        \"min\": 80,\n        \"max\": 300,\n        \"num_unique_values\": 18,\n        \"samples\": [\n          140,\n          158\n        ],\n        \"semantic_type\": \"\",\n        \"description\": \"\"\n      }\n    },\n    {\n      \"column\": \"diabetes\",\n      \"properties\": {\n        \"dtype\": \"category\",\n        \"num_unique_values\": 2,\n        \"samples\": [\n          \"yes\",\n          \"no\"\n        ],\n        \"semantic_type\": \"\",\n        \"description\": \"\"\n      }\n    }\n  ]\n}"
            }
          },
          "metadata": {},
          "execution_count": 237
        }
      ]
    },
    {
      "cell_type": "markdown",
      "source": [
        "## 3.2: Data Pre-Processing & Feature Engineering [16 Points]\n",
        "\n",
        "In a typical machine learning project, it's crucial to carefully process and analyze your data to understand the features you're working with. However, for this homework, the focus will be more on modeling rather than Exploratory Data Analysis (EDA). We've provided a dataset that is nearly ready for use, so you won't need to spend much time on EDA here.\n",
        "\n",
        "However, this doesn’t mean you should skip EDA in your own projects! EDA will be an essential part of your project deliverables.\n"
      ],
      "metadata": {
        "id": "OX94OeFB5pDy"
      }
    },
    {
      "cell_type": "markdown",
      "source": [
        "### 3.2.1: Encoding Categorical Features [8 Points]\n",
        "Looking at our column types, we see that we have some features of type object, some of type int64, and some of type float64. Let's start by separating the two.\n",
        "\n",
        "**Task:**\n",
        "*   Create two lists containing the column names of `numerical` and `categorical` features named `numerical_features` and `categorical_features` respectively\n",
        "*   Sort these lists alphabetically\n",
        "\n",
        "**Hint:**\n",
        "* Consider using `.select_dtypes` from Pandas.\n",
        "\n",
        "**Note:**\n",
        "* Though `diabetes` is not a feature (it is our target), please include it within one of the lists you create. We will address this later when we create our test-train split."
      ],
      "metadata": {
        "id": "tdaZVyT05sB9"
      }
    },
    {
      "cell_type": "code",
      "source": [
        "# TODO: Populate the following lists\n",
        "numerical_features = ['age', 'bmi', 'HbA1c_level', 'blood_glucose_level']\n",
        "categorical_features = ['gender', 'hypertension', 'heart_disease', 'smoking_history', 'diabetes'\t]\n",
        "numerical_features.sort()\n",
        "categorical_features.sort()\n",
        "# DO NOT CHANGE ----------------------------------------------------------------\n",
        "print(f'There are {len(categorical_features)} categorical variables')\n",
        "print(f'There are {len(numerical_features)} numerical variables')\n",
        "# DO NOT CHANGE ----------------------------------------------------------------"
      ],
      "metadata": {
        "id": "iDi9fQF25vs5",
        "colab": {
          "base_uri": "https://localhost:8080/"
        },
        "outputId": "3702a4c8-0838-46df-f85c-b754bd6f7ffc"
      },
      "execution_count": 238,
      "outputs": [
        {
          "output_type": "stream",
          "name": "stdout",
          "text": [
            "There are 5 categorical variables\n",
            "There are 4 numerical variables\n"
          ]
        }
      ]
    },
    {
      "cell_type": "code",
      "source": [
        "# Grader Cell (2 points)\n",
        "grader.grade(test_case_id='num_cat_features', answer=(numerical_features, categorical_features))"
      ],
      "metadata": {
        "id": "dLWGehgt53mC",
        "colab": {
          "base_uri": "https://localhost:8080/"
        },
        "outputId": "d38d57ba-6cac-42f4-ba3d-edff359e030c"
      },
      "execution_count": 239,
      "outputs": [
        {
          "output_type": "stream",
          "name": "stdout",
          "text": [
            "Correct! You earned 2/2 points. You are a star!\n",
            "\n",
            "Your submission has been successfully recorded in the gradebook.\n"
          ]
        }
      ]
    },
    {
      "cell_type": "markdown",
      "source": [
        "Now, let's zoom in on the categorical variables. We want to do some encoding as we did in Part 2.\n",
        "\n",
        "\\\\\n",
        "\n",
        "We will begin by casting the columns containing binary variables as strings (no/yes) to integer values (0 and 1).\n",
        "\n",
        "\n",
        "**Task:**\n",
        "*   Create a copy of the `diabetes_cleaned_df` and save it as `binary_diabetes_df`.\n",
        "*   Identify all columns that have binary features (2 unique values)\n",
        "*   Encode the columns with binary features as *float* values (0.0 and 1.0) using the `OneHotEncoder` from sklearn. [Here](https://scikit-learn.org/stable/modules/generated/sklearn.preprocessing.OneHotEncoder.html) is the documentation once again.\n",
        "*   Save the results in `binary_diabetes_df`.\n",
        "\n",
        "\n",
        "**Hint:**\n",
        "*   Consider using the Pandas function `.nunique()` to see which columns have 2 values\n",
        "*   `binary_diabetes_df` should have the same dimensions/shape before and after encoding. If not receiving full points, consider swapping the encoding scheme (swapping which values get the 0s and 1s)\n",
        "*   Use the `drop='if_binary'` and `sparse_output=False` parameters for the One Hot Encoder\n",
        "*   Please reorder the columns as follows: `['gender', 'age', 'hypertension', 'heart_disease', 'smoking_history', 'bmi', 'HbA1c_level', 'blood_glucose_level', 'diabetes']`"
      ],
      "metadata": {
        "id": "6Cv8uSF1574q"
      }
    },
    {
      "cell_type": "code",
      "source": [
        "import pandas as pd\n",
        "from sklearn.preprocessing import OneHotEncoder\n",
        "\n",
        "# TODO: Create a copy of diabetes_cleaned_df and store it in binary_diabetes_df\n",
        "binary_diabetes_df = diabetes_cleaned_df.copy()\n",
        "\n",
        "# TODO: For every column in diabetes_cleaned_df, see if it has 2 unique values\n",
        "# If so, save it to the binary_cols list\n",
        "binary_cols = [col for col in binary_diabetes_df.columns if binary_diabetes_df[col].nunique() == 2]"
      ],
      "metadata": {
        "id": "-x_bUE_o6Nc7"
      },
      "execution_count": 240,
      "outputs": []
    },
    {
      "cell_type": "code",
      "source": [
        "# Grader Cell (1 point)\n",
        "grader.grade(test_case_id='binary_features', answer=binary_cols)"
      ],
      "metadata": {
        "id": "dnVCiBnf6RBT",
        "colab": {
          "base_uri": "https://localhost:8080/"
        },
        "outputId": "4950382e-77ce-4f11-e829-84759c6c39fd"
      },
      "execution_count": 241,
      "outputs": [
        {
          "output_type": "stream",
          "name": "stdout",
          "text": [
            "Correct! You earned 1/1 points. You are a star!\n",
            "\n",
            "Your submission has been successfully recorded in the gradebook.\n"
          ]
        }
      ]
    },
    {
      "cell_type": "code",
      "source": [
        "# TODO: Create encoder\n",
        "binary_encoder = OneHotEncoder(drop='if_binary', sparse_output=False, dtype=float)\n",
        "\n",
        "# Fit and transform the binary columns using the encoder\n",
        "encoded_binary = binary_encoder.fit_transform(binary_diabetes_df[binary_cols])\n",
        "\n",
        "# Convert the encoded binary array to a DataFrame\n",
        "encoded_binary_df = pd.DataFrame(encoded_binary, columns=binary_cols)\n",
        "\n",
        "# Replace the original binary columns with the encoded ones\n",
        "binary_diabetes_df[binary_cols] = encoded_binary_df\n",
        "\n",
        "# TODO: Reorder columns as specified\n",
        "binary_diabetes_df = binary_diabetes_df[\n",
        "    ['gender', 'age', 'hypertension', 'heart_disease',\n",
        "     'smoking_history', 'bmi', 'HbA1c_level',\n",
        "     'blood_glucose_level', 'diabetes']\n",
        "]\n"
      ],
      "metadata": {
        "id": "sXP5osF06kWU"
      },
      "execution_count": 242,
      "outputs": []
    },
    {
      "cell_type": "code",
      "source": [
        "# Grader cell (2 points)\n",
        "grader.grade(test_case_id='binary_encodings', answer=binary_diabetes_df)"
      ],
      "metadata": {
        "id": "H1hdZsTX6sZY",
        "colab": {
          "base_uri": "https://localhost:8080/"
        },
        "outputId": "6742a059-dbb2-49de-c665-d9980a6f35c3"
      },
      "execution_count": 243,
      "outputs": [
        {
          "output_type": "stream",
          "name": "stdout",
          "text": [
            "Correct! You earned 2/2 points. You are a star!\n",
            "\n",
            "Your submission has been successfully recorded in the gradebook.\n"
          ]
        }
      ]
    },
    {
      "cell_type": "markdown",
      "source": [
        "While this takes care of the binary features, we still have other categorical columns.\n",
        "\n",
        "There are two types of such features: ordinal and nominal. Ordinal features have a clear ordering among their categories (i.e., good, neutral, bad, can be ordered, while gender would be nominal). As such, encoding this data requires some way to represent that good is closer to neutral than it is to bad.\n",
        "\n",
        "For ordinal features, we use Ordinal Encoding, which replaces all categorical values with increasing integers starting at 0.\n",
        "\n",
        "For nominal features, One Hot Encodings may be used (similar to binary features). This involves converting a single feature with $k$ categories into $k$ or $k-1$ new columns of only ones and zeros -- enabling us to train models that only take numerical values as input.\n",
        "\n",
        "\n",
        "This particular dataset doesn't contain any values that have a natural ordering, so we will only be using One Hot Encodings.\n",
        "\n",
        "**Task:**\n",
        "*   Identify nominal feature(s), and store them in a list of strings `unordered_features`.\n",
        "*   Make a copy of `binary_diabetes_df` and save it as `encoded_diabetes_df`. Use this dataframe for the remainder of this task.\n",
        "*   Apply One Hot Encoding to the `unordered_features`, and replace them in `encoded_diabetes_df`.\n",
        "*   For each encoded variable, drop the first column that is produced in the One Hot Encoding scheme -- this ensures we have the minimum number of columns required to represent our data.\n",
        "*   Drop any of the original columns that have now been encoded and added to the dataframe.\n",
        "*   Be sure to save your results in a Pandas Dataframe called `encoded_diabetes_df`\n",
        "\n",
        "**Hint:**\n",
        "*   The `unordered_features` list may be created manually\n",
        "*   We recommend you use `pd.get_dummies()` or [`OneHotEncoder`](https://scikit-learn.org/stable/modules/generated/sklearn.preprocessing.OneHotEncoder.html) from sklearn.\n",
        "* Refer to sklearn documentation for necessary/special args for functions!!\n",
        "\n",
        "\n"
      ],
      "metadata": {
        "id": "lcwV7qpx6tMM"
      }
    },
    {
      "cell_type": "code",
      "source": [
        "unordered_features = ['gender', 'smoking_history']\n",
        "unordered_features.sort()\n"
      ],
      "metadata": {
        "id": "DWO-iRto6vXk"
      },
      "execution_count": 244,
      "outputs": []
    },
    {
      "cell_type": "code",
      "source": [
        "\n",
        "# TODO: Create a copy of binary_diabetes_df and store it in encoded_diabetes_df\n",
        "encoded_diabetes_df = binary_diabetes_df.copy()\n",
        "\n",
        "# Initialize OneHotEncoder with appropriate parameters\n",
        "ohe = OneHotEncoder(drop='first', sparse_output=False, dtype=float)\n",
        "\n",
        "# Apply OneHotEncoder to the unordered features\n",
        "encoded_data = ohe.fit_transform(encoded_diabetes_df[unordered_features])\n",
        "\n",
        "# Create a DataFrame with the encoded data and feature names\n",
        "encoded_cols = ohe.get_feature_names_out(unordered_features)\n",
        "encoded_df = pd.DataFrame(encoded_data, columns=encoded_cols)\n",
        "\n",
        "# Drop the original unordered features from the DataFrame\n",
        "encoded_diabetes_df = encoded_diabetes_df.drop(columns=unordered_features)\n",
        "\n",
        "# Concatenate the encoded columns with the remaining DataFrame\n",
        "encoded_diabetes_df = pd.concat([encoded_diabetes_df, encoded_df], axis=1)\n",
        "\n",
        "\n"
      ],
      "metadata": {
        "id": "b8KA5f8-6_vK"
      },
      "execution_count": 245,
      "outputs": []
    },
    {
      "cell_type": "code",
      "source": [
        "# Grader Cell (3 points)\n",
        "grader.grade(test_case_id='diabetes_ohe', answer=(encoded_diabetes_df.shape, unordered_features))"
      ],
      "metadata": {
        "id": "c1BpFAqS7NN1",
        "colab": {
          "base_uri": "https://localhost:8080/"
        },
        "outputId": "307fcf5d-ad46-4f87-a44b-37541d0e2d66"
      },
      "execution_count": 246,
      "outputs": [
        {
          "output_type": "stream",
          "name": "stdout",
          "text": [
            "Correct! You earned 3/3 points. You are a star!\n",
            "\n",
            "Your submission has been successfully recorded in the gradebook.\n"
          ]
        }
      ]
    },
    {
      "cell_type": "markdown",
      "source": [
        "### 3.2.2: Test-Train Split and Class Imbalance [6 Points]\n",
        "\n",
        "Now that you've encoded the data, let's take a closer look at the data before splitting it into testing and training sets. Our goal is to determine the class imbalance in our target variable.\n",
        "\n",
        "**Task:**\n",
        "* Calculate the class_ratio of the majority class to the minority class. Save this in a variable `class_ratio`\n"
      ],
      "metadata": {
        "id": "9d0Vm3gS7QJ_"
      }
    },
    {
      "cell_type": "code",
      "source": [
        "# TODO: Find the ratio of the majority class to the minority class\n",
        "class_counts = binary_diabetes_df['diabetes'].value_counts()\n",
        "\n",
        "# Calculate the class ratio (majority class count / minority class count)\n",
        "class_ratio = class_counts.max() / class_counts.min()\n",
        "# DO NOT CHANGE ----------------------------------------------------------------\n",
        "print(f'Target variable has {class_ratio:.2f}x more observations in the negative (majority) class than the positive (minority) class.')\n",
        "# DO NOT CHANGE ----------------------------------------------------------------"
      ],
      "metadata": {
        "id": "TFNXGsU57Tme",
        "colab": {
          "base_uri": "https://localhost:8080/"
        },
        "outputId": "94e690fd-d1e9-45e7-ce16-a7e6c7bb6062"
      },
      "execution_count": 247,
      "outputs": [
        {
          "output_type": "stream",
          "name": "stdout",
          "text": [
            "Target variable has 8.11x more observations in the negative (majority) class than the positive (minority) class.\n"
          ]
        }
      ]
    },
    {
      "cell_type": "code",
      "source": [
        "# Grader Cell (1 Point)\n",
        "grader.grade(test_case_id='class_ratio_check', answer=class_ratio)"
      ],
      "metadata": {
        "id": "WnU_3eq97YHO",
        "colab": {
          "base_uri": "https://localhost:8080/"
        },
        "outputId": "0dc50f90-c28f-4d23-f8e6-6e8c6331b55d"
      },
      "execution_count": 248,
      "outputs": [
        {
          "output_type": "stream",
          "name": "stdout",
          "text": [
            "Correct! You earned 1/1 points. You are a star!\n",
            "\n",
            "Your submission has been successfully recorded in the gradebook.\n"
          ]
        }
      ]
    },
    {
      "cell_type": "markdown",
      "source": [
        "Before we move on to our final step in preprocessing our data, we're going to split the data into our training and testing sets. Our data set appears to be quite imbalanced, so in splitting our data, we must ensure the proportion of each class in the data remains the same in our training and testing set. This is called a stratified split or sample - we split the data in such a way that the resulting training and testing sets have the same proportions of the classes that were observed in the original data. Without stratifying our data when splitting, we risk getting an inaccurate depiction of model performance later.\n",
        "\n",
        "**Task:**\n",
        "\n",
        "* Using `encoded_diabetes_df`, split your data into a training and testing set via sklearn's `train_test_split` function\n",
        "  * Ensure that you stratify your sample so the target variable has approximately the same proportion of positive and negative observations in the training and testing set\n",
        "  * Ensure that you shuffle your sample\n",
        "  * Ensure that the testing set holds about 20% of total observations\n",
        "  * Use the seed set for you do not change it!\n",
        "* Save your splits in variables `X_train`, `y_train`, `X_test`, and `y_test`\n",
        "\n"
      ],
      "metadata": {
        "id": "1BXuphzW7a64"
      }
    },
    {
      "cell_type": "code",
      "source": [
        "# DO NOT CHANGE ----------------------------------------------------------------\n",
        "SEED = 12345\n",
        "# DO NOT CHANGE ----------------------------------------------------------------\n",
        "\n",
        "# TODO: Split the data into training and testing sets. Set the random_state = SEED.\n",
        "from sklearn.model_selection import train_test_split\n",
        "\n",
        "# Separate the features (X) and target variable (y) from encoded_diabetes_df\n",
        "X = encoded_diabetes_df.drop(columns=['diabetes'])\n",
        "y = encoded_diabetes_df['diabetes']\n",
        "\n",
        "# TODO: Split the data into training and testing sets. Set the random_state = SEED.\n",
        "X_train, X_test, y_train, y_test = train_test_split(\n",
        "    X, y,\n",
        "    test_size=0.2,  # 20% of the data goes to the testing set\n",
        "    random_state=12345,\n",
        "    stratify=y,  # Ensures class proportions are maintained in train and test sets\n",
        "    shuffle=True  # Shuffles the data before splitting\n",
        ")\n",
        "\n",
        "# DO NOT CHANGE ----------------------------------------------------------------\n",
        "print(f'Training data set has size {X_train.shape} and {y_train.shape}')\n",
        "print(f'Testing data set has size {X_test.shape} and {y_test.shape}')"
      ],
      "metadata": {
        "id": "rfUgyduA7d2M",
        "colab": {
          "base_uri": "https://localhost:8080/"
        },
        "outputId": "c9879f5f-7073-4bec-ae66-2cebe7f412f3"
      },
      "execution_count": 249,
      "outputs": [
        {
          "output_type": "stream",
          "name": "stdout",
          "text": [
            "Training data set has size (51347, 12) and (51347,)\n",
            "Testing data set has size (12837, 12) and (12837,)\n"
          ]
        }
      ]
    },
    {
      "cell_type": "code",
      "source": [
        "# Grader Cell (5 points)\n",
        "grader.grade(test_case_id = 'diabetes_train_test', answer = (X_train.shape, y_train.shape, X_test.shape, y_test.shape, y_train.sum() / len(y_train), y_test.sum() / len(y_test)))"
      ],
      "metadata": {
        "id": "aBfKWmeZ7kYQ",
        "colab": {
          "base_uri": "https://localhost:8080/"
        },
        "outputId": "261caff4-e186-4872-bf6a-8781f09a8b87"
      },
      "execution_count": 250,
      "outputs": [
        {
          "output_type": "stream",
          "name": "stdout",
          "text": [
            "Correct! You earned 5/5 points. You are a star!\n",
            "\n",
            "Your submission has been successfully recorded in the gradebook.\n"
          ]
        }
      ]
    },
    {
      "cell_type": "markdown",
      "source": [
        "### 3.2.3: Scaling Features [2 Points]\n",
        "For our final preprocessing step, we will scale our data. We will once again use a `StandardScaler` from sklearn.\n",
        "\n",
        "\n",
        "**Task:**\n",
        "\n",
        "* Apply standardization to our training and testing data using `StandardScaler` from sklearn.\n",
        "  * Be sure to include our original numerical columns and new one-hot encoded features!\n",
        "* Any results should also be stored in `X_train`, `y_train`, `X_test`, and `y_test`\n",
        "\n",
        "**Hint:**\n",
        "\n",
        "* Prevent data leakage -  parameters should only be learned on the training set.\n",
        "* Use the `numerical_features` list you created earlier\n"
      ],
      "metadata": {
        "id": "NUwzR28S7mmq"
      }
    },
    {
      "cell_type": "code",
      "source": [
        "import numpy as np\n",
        "from sklearn.preprocessing import StandardScaler\n",
        "\n",
        "# TODO: Scale the numerical features by initializing the scaler\n",
        "scaler = StandardScaler()\n",
        "\n",
        "# Identify numerical features (use your existing list)\n",
        "numerical_features = ['age', 'bmi', 'HbA1c_level', 'blood_glucose_level']\n",
        "\n",
        "# Fit the scaler only on the training set to avoid data leakage\n",
        "scaler.fit(X_train[numerical_features])\n",
        "\n",
        "# Apply scaling to both the training and testing data\n",
        "X_train[numerical_features] = scaler.transform(X_train[numerical_features])\n",
        "X_test[numerical_features] = scaler.transform(X_test[numerical_features])\n",
        "\n",
        "# TODO: If not already done, convert X_train, y_train, X_test, y_test into numpy arrays\n",
        "X_train = np.array(X_train)\n",
        "X_test = np.array(X_test)\n",
        "y_train = np.array(y_train)\n",
        "y_test = np.array(y_test)\n",
        "\n",
        "# DO NOT CHANGE ----------------------------------------------------------------\n",
        "print(f'Training data set has size {X_train.shape} and {y_train.shape}')\n",
        "print(f'Testing data set has size {X_test.shape} and {y_test.shape}')\n"
      ],
      "metadata": {
        "id": "Ccz664ro7piE",
        "colab": {
          "base_uri": "https://localhost:8080/"
        },
        "outputId": "643695a6-1ec9-4c9f-e41b-aa3e02463097"
      },
      "execution_count": 251,
      "outputs": [
        {
          "output_type": "stream",
          "name": "stdout",
          "text": [
            "Training data set has size (51347, 12) and (51347,)\n",
            "Testing data set has size (12837, 12) and (12837,)\n"
          ]
        }
      ]
    },
    {
      "cell_type": "code",
      "source": [
        "# Grader Cell (2 points)\n",
        "grader.grade(test_case_id = 'diabetes_scaler', answer = (set(scaler.mean_), set(scaler.var_), X_train.shape, X_test.shape))"
      ],
      "metadata": {
        "id": "Zuo87tBn7rJb",
        "colab": {
          "base_uri": "https://localhost:8080/"
        },
        "outputId": "04e0859e-6f85-47bc-b699-00a9c9a9b482"
      },
      "execution_count": 252,
      "outputs": [
        {
          "output_type": "stream",
          "name": "stdout",
          "text": [
            "Correct! You earned 2/2 points. You are a star!\n",
            "\n",
            "Your submission has been successfully recorded in the gradebook.\n"
          ]
        }
      ]
    },
    {
      "cell_type": "markdown",
      "source": [
        "## 3.3: Modeling Imbalanced Data [18 Points]\n",
        "\n",
        "We now have encoded and pre-processed our data. Let's start building the models! We will explore three types of models here: Logistic Regression, Random Forests, and XGBoost.\n",
        "\n",
        "As we build our models, we have to keep the class imbalanced we observed in mind. To combat this, we're going to use class weights to adjust the way our model performs optimizations and learns about our data."
      ],
      "metadata": {
        "id": "jtLS1vbm7sSw"
      }
    },
    {
      "cell_type": "markdown",
      "source": [
        "### 3.3.1: Logistic Regression [1 Points]\n",
        "\n",
        "We will now be using Logistic Regression to build our first simple classification model. The Logistic Regression Classifier models the probability of a target class by using a linear combination of input features. It applies a logistic function to this combination to output probabilities, making it effective for binary classification tasks.\n",
        "\n",
        "\n",
        "\n",
        "By default, the [`LogisticRegression`](https://scikit-learn.org/1.5/modules/generated/sklearn.linear_model.LogisticRegression.html) classifier in sklearn weighs both classes (having diabetes and not) equally. However, we know that there is a large imbalance within our class.\n",
        "\n",
        "The `class_weight` parameter controls the penalty for misclassifying an observation from a given class. Typically, the penalty is the same for each class. However, when there is a large class imbalance, we can increase the penalty for misclassifying the minority class (positive). These make the model adjust and emphasize learning observations from the minority class more than the majority. Providing the `balanced` keyword to this parameter results in the model penalizing the misclassification of each observation inversely proportional to class frequencies.\n",
        "\n",
        "**Task:**\n",
        "*   Build a Logistic Regression model using `LogisticRegression` from sklearn, specifying the `class_weight` parameter to be `balanced`\n",
        "   *  Save this model as `weighted_lrg`\n",
        "* Fit this model to `X_train` and `y_train`\n",
        "\n",
        "*Ignore any warnings from sklearn that show a max number of iterations reached*"
      ],
      "metadata": {
        "id": "Q4xNESp07vNW"
      }
    },
    {
      "cell_type": "code",
      "source": [
        "from sklearn.linear_model import LogisticRegression\n",
        "\n",
        "# TODO: Create a class-weighted logistic regression model\n",
        "weighted_lrg = LogisticRegression(class_weight='balanced')\n",
        "\n",
        "# Fit the model to the training data\n",
        "weighted_lrg.fit(X_train, y_train)\n",
        "\n"
      ],
      "metadata": {
        "id": "nBhJ6_fk71Cn",
        "colab": {
          "base_uri": "https://localhost:8080/",
          "height": 80
        },
        "outputId": "f9b17fb2-00a4-4372-f0b2-5b725329b8bb"
      },
      "execution_count": 253,
      "outputs": [
        {
          "output_type": "execute_result",
          "data": {
            "text/plain": [
              "LogisticRegression(class_weight='balanced')"
            ],
            "text/html": [
              "<style>#sk-container-id-4 {\n",
              "  /* Definition of color scheme common for light and dark mode */\n",
              "  --sklearn-color-text: black;\n",
              "  --sklearn-color-line: gray;\n",
              "  /* Definition of color scheme for unfitted estimators */\n",
              "  --sklearn-color-unfitted-level-0: #fff5e6;\n",
              "  --sklearn-color-unfitted-level-1: #f6e4d2;\n",
              "  --sklearn-color-unfitted-level-2: #ffe0b3;\n",
              "  --sklearn-color-unfitted-level-3: chocolate;\n",
              "  /* Definition of color scheme for fitted estimators */\n",
              "  --sklearn-color-fitted-level-0: #f0f8ff;\n",
              "  --sklearn-color-fitted-level-1: #d4ebff;\n",
              "  --sklearn-color-fitted-level-2: #b3dbfd;\n",
              "  --sklearn-color-fitted-level-3: cornflowerblue;\n",
              "\n",
              "  /* Specific color for light theme */\n",
              "  --sklearn-color-text-on-default-background: var(--sg-text-color, var(--theme-code-foreground, var(--jp-content-font-color1, black)));\n",
              "  --sklearn-color-background: var(--sg-background-color, var(--theme-background, var(--jp-layout-color0, white)));\n",
              "  --sklearn-color-border-box: var(--sg-text-color, var(--theme-code-foreground, var(--jp-content-font-color1, black)));\n",
              "  --sklearn-color-icon: #696969;\n",
              "\n",
              "  @media (prefers-color-scheme: dark) {\n",
              "    /* Redefinition of color scheme for dark theme */\n",
              "    --sklearn-color-text-on-default-background: var(--sg-text-color, var(--theme-code-foreground, var(--jp-content-font-color1, white)));\n",
              "    --sklearn-color-background: var(--sg-background-color, var(--theme-background, var(--jp-layout-color0, #111)));\n",
              "    --sklearn-color-border-box: var(--sg-text-color, var(--theme-code-foreground, var(--jp-content-font-color1, white)));\n",
              "    --sklearn-color-icon: #878787;\n",
              "  }\n",
              "}\n",
              "\n",
              "#sk-container-id-4 {\n",
              "  color: var(--sklearn-color-text);\n",
              "}\n",
              "\n",
              "#sk-container-id-4 pre {\n",
              "  padding: 0;\n",
              "}\n",
              "\n",
              "#sk-container-id-4 input.sk-hidden--visually {\n",
              "  border: 0;\n",
              "  clip: rect(1px 1px 1px 1px);\n",
              "  clip: rect(1px, 1px, 1px, 1px);\n",
              "  height: 1px;\n",
              "  margin: -1px;\n",
              "  overflow: hidden;\n",
              "  padding: 0;\n",
              "  position: absolute;\n",
              "  width: 1px;\n",
              "}\n",
              "\n",
              "#sk-container-id-4 div.sk-dashed-wrapped {\n",
              "  border: 1px dashed var(--sklearn-color-line);\n",
              "  margin: 0 0.4em 0.5em 0.4em;\n",
              "  box-sizing: border-box;\n",
              "  padding-bottom: 0.4em;\n",
              "  background-color: var(--sklearn-color-background);\n",
              "}\n",
              "\n",
              "#sk-container-id-4 div.sk-container {\n",
              "  /* jupyter's `normalize.less` sets `[hidden] { display: none; }`\n",
              "     but bootstrap.min.css set `[hidden] { display: none !important; }`\n",
              "     so we also need the `!important` here to be able to override the\n",
              "     default hidden behavior on the sphinx rendered scikit-learn.org.\n",
              "     See: https://github.com/scikit-learn/scikit-learn/issues/21755 */\n",
              "  display: inline-block !important;\n",
              "  position: relative;\n",
              "}\n",
              "\n",
              "#sk-container-id-4 div.sk-text-repr-fallback {\n",
              "  display: none;\n",
              "}\n",
              "\n",
              "div.sk-parallel-item,\n",
              "div.sk-serial,\n",
              "div.sk-item {\n",
              "  /* draw centered vertical line to link estimators */\n",
              "  background-image: linear-gradient(var(--sklearn-color-text-on-default-background), var(--sklearn-color-text-on-default-background));\n",
              "  background-size: 2px 100%;\n",
              "  background-repeat: no-repeat;\n",
              "  background-position: center center;\n",
              "}\n",
              "\n",
              "/* Parallel-specific style estimator block */\n",
              "\n",
              "#sk-container-id-4 div.sk-parallel-item::after {\n",
              "  content: \"\";\n",
              "  width: 100%;\n",
              "  border-bottom: 2px solid var(--sklearn-color-text-on-default-background);\n",
              "  flex-grow: 1;\n",
              "}\n",
              "\n",
              "#sk-container-id-4 div.sk-parallel {\n",
              "  display: flex;\n",
              "  align-items: stretch;\n",
              "  justify-content: center;\n",
              "  background-color: var(--sklearn-color-background);\n",
              "  position: relative;\n",
              "}\n",
              "\n",
              "#sk-container-id-4 div.sk-parallel-item {\n",
              "  display: flex;\n",
              "  flex-direction: column;\n",
              "}\n",
              "\n",
              "#sk-container-id-4 div.sk-parallel-item:first-child::after {\n",
              "  align-self: flex-end;\n",
              "  width: 50%;\n",
              "}\n",
              "\n",
              "#sk-container-id-4 div.sk-parallel-item:last-child::after {\n",
              "  align-self: flex-start;\n",
              "  width: 50%;\n",
              "}\n",
              "\n",
              "#sk-container-id-4 div.sk-parallel-item:only-child::after {\n",
              "  width: 0;\n",
              "}\n",
              "\n",
              "/* Serial-specific style estimator block */\n",
              "\n",
              "#sk-container-id-4 div.sk-serial {\n",
              "  display: flex;\n",
              "  flex-direction: column;\n",
              "  align-items: center;\n",
              "  background-color: var(--sklearn-color-background);\n",
              "  padding-right: 1em;\n",
              "  padding-left: 1em;\n",
              "}\n",
              "\n",
              "\n",
              "/* Toggleable style: style used for estimator/Pipeline/ColumnTransformer box that is\n",
              "clickable and can be expanded/collapsed.\n",
              "- Pipeline and ColumnTransformer use this feature and define the default style\n",
              "- Estimators will overwrite some part of the style using the `sk-estimator` class\n",
              "*/\n",
              "\n",
              "/* Pipeline and ColumnTransformer style (default) */\n",
              "\n",
              "#sk-container-id-4 div.sk-toggleable {\n",
              "  /* Default theme specific background. It is overwritten whether we have a\n",
              "  specific estimator or a Pipeline/ColumnTransformer */\n",
              "  background-color: var(--sklearn-color-background);\n",
              "}\n",
              "\n",
              "/* Toggleable label */\n",
              "#sk-container-id-4 label.sk-toggleable__label {\n",
              "  cursor: pointer;\n",
              "  display: block;\n",
              "  width: 100%;\n",
              "  margin-bottom: 0;\n",
              "  padding: 0.5em;\n",
              "  box-sizing: border-box;\n",
              "  text-align: center;\n",
              "}\n",
              "\n",
              "#sk-container-id-4 label.sk-toggleable__label-arrow:before {\n",
              "  /* Arrow on the left of the label */\n",
              "  content: \"▸\";\n",
              "  float: left;\n",
              "  margin-right: 0.25em;\n",
              "  color: var(--sklearn-color-icon);\n",
              "}\n",
              "\n",
              "#sk-container-id-4 label.sk-toggleable__label-arrow:hover:before {\n",
              "  color: var(--sklearn-color-text);\n",
              "}\n",
              "\n",
              "/* Toggleable content - dropdown */\n",
              "\n",
              "#sk-container-id-4 div.sk-toggleable__content {\n",
              "  max-height: 0;\n",
              "  max-width: 0;\n",
              "  overflow: hidden;\n",
              "  text-align: left;\n",
              "  /* unfitted */\n",
              "  background-color: var(--sklearn-color-unfitted-level-0);\n",
              "}\n",
              "\n",
              "#sk-container-id-4 div.sk-toggleable__content.fitted {\n",
              "  /* fitted */\n",
              "  background-color: var(--sklearn-color-fitted-level-0);\n",
              "}\n",
              "\n",
              "#sk-container-id-4 div.sk-toggleable__content pre {\n",
              "  margin: 0.2em;\n",
              "  border-radius: 0.25em;\n",
              "  color: var(--sklearn-color-text);\n",
              "  /* unfitted */\n",
              "  background-color: var(--sklearn-color-unfitted-level-0);\n",
              "}\n",
              "\n",
              "#sk-container-id-4 div.sk-toggleable__content.fitted pre {\n",
              "  /* unfitted */\n",
              "  background-color: var(--sklearn-color-fitted-level-0);\n",
              "}\n",
              "\n",
              "#sk-container-id-4 input.sk-toggleable__control:checked~div.sk-toggleable__content {\n",
              "  /* Expand drop-down */\n",
              "  max-height: 200px;\n",
              "  max-width: 100%;\n",
              "  overflow: auto;\n",
              "}\n",
              "\n",
              "#sk-container-id-4 input.sk-toggleable__control:checked~label.sk-toggleable__label-arrow:before {\n",
              "  content: \"▾\";\n",
              "}\n",
              "\n",
              "/* Pipeline/ColumnTransformer-specific style */\n",
              "\n",
              "#sk-container-id-4 div.sk-label input.sk-toggleable__control:checked~label.sk-toggleable__label {\n",
              "  color: var(--sklearn-color-text);\n",
              "  background-color: var(--sklearn-color-unfitted-level-2);\n",
              "}\n",
              "\n",
              "#sk-container-id-4 div.sk-label.fitted input.sk-toggleable__control:checked~label.sk-toggleable__label {\n",
              "  background-color: var(--sklearn-color-fitted-level-2);\n",
              "}\n",
              "\n",
              "/* Estimator-specific style */\n",
              "\n",
              "/* Colorize estimator box */\n",
              "#sk-container-id-4 div.sk-estimator input.sk-toggleable__control:checked~label.sk-toggleable__label {\n",
              "  /* unfitted */\n",
              "  background-color: var(--sklearn-color-unfitted-level-2);\n",
              "}\n",
              "\n",
              "#sk-container-id-4 div.sk-estimator.fitted input.sk-toggleable__control:checked~label.sk-toggleable__label {\n",
              "  /* fitted */\n",
              "  background-color: var(--sklearn-color-fitted-level-2);\n",
              "}\n",
              "\n",
              "#sk-container-id-4 div.sk-label label.sk-toggleable__label,\n",
              "#sk-container-id-4 div.sk-label label {\n",
              "  /* The background is the default theme color */\n",
              "  color: var(--sklearn-color-text-on-default-background);\n",
              "}\n",
              "\n",
              "/* On hover, darken the color of the background */\n",
              "#sk-container-id-4 div.sk-label:hover label.sk-toggleable__label {\n",
              "  color: var(--sklearn-color-text);\n",
              "  background-color: var(--sklearn-color-unfitted-level-2);\n",
              "}\n",
              "\n",
              "/* Label box, darken color on hover, fitted */\n",
              "#sk-container-id-4 div.sk-label.fitted:hover label.sk-toggleable__label.fitted {\n",
              "  color: var(--sklearn-color-text);\n",
              "  background-color: var(--sklearn-color-fitted-level-2);\n",
              "}\n",
              "\n",
              "/* Estimator label */\n",
              "\n",
              "#sk-container-id-4 div.sk-label label {\n",
              "  font-family: monospace;\n",
              "  font-weight: bold;\n",
              "  display: inline-block;\n",
              "  line-height: 1.2em;\n",
              "}\n",
              "\n",
              "#sk-container-id-4 div.sk-label-container {\n",
              "  text-align: center;\n",
              "}\n",
              "\n",
              "/* Estimator-specific */\n",
              "#sk-container-id-4 div.sk-estimator {\n",
              "  font-family: monospace;\n",
              "  border: 1px dotted var(--sklearn-color-border-box);\n",
              "  border-radius: 0.25em;\n",
              "  box-sizing: border-box;\n",
              "  margin-bottom: 0.5em;\n",
              "  /* unfitted */\n",
              "  background-color: var(--sklearn-color-unfitted-level-0);\n",
              "}\n",
              "\n",
              "#sk-container-id-4 div.sk-estimator.fitted {\n",
              "  /* fitted */\n",
              "  background-color: var(--sklearn-color-fitted-level-0);\n",
              "}\n",
              "\n",
              "/* on hover */\n",
              "#sk-container-id-4 div.sk-estimator:hover {\n",
              "  /* unfitted */\n",
              "  background-color: var(--sklearn-color-unfitted-level-2);\n",
              "}\n",
              "\n",
              "#sk-container-id-4 div.sk-estimator.fitted:hover {\n",
              "  /* fitted */\n",
              "  background-color: var(--sklearn-color-fitted-level-2);\n",
              "}\n",
              "\n",
              "/* Specification for estimator info (e.g. \"i\" and \"?\") */\n",
              "\n",
              "/* Common style for \"i\" and \"?\" */\n",
              "\n",
              ".sk-estimator-doc-link,\n",
              "a:link.sk-estimator-doc-link,\n",
              "a:visited.sk-estimator-doc-link {\n",
              "  float: right;\n",
              "  font-size: smaller;\n",
              "  line-height: 1em;\n",
              "  font-family: monospace;\n",
              "  background-color: var(--sklearn-color-background);\n",
              "  border-radius: 1em;\n",
              "  height: 1em;\n",
              "  width: 1em;\n",
              "  text-decoration: none !important;\n",
              "  margin-left: 1ex;\n",
              "  /* unfitted */\n",
              "  border: var(--sklearn-color-unfitted-level-1) 1pt solid;\n",
              "  color: var(--sklearn-color-unfitted-level-1);\n",
              "}\n",
              "\n",
              ".sk-estimator-doc-link.fitted,\n",
              "a:link.sk-estimator-doc-link.fitted,\n",
              "a:visited.sk-estimator-doc-link.fitted {\n",
              "  /* fitted */\n",
              "  border: var(--sklearn-color-fitted-level-1) 1pt solid;\n",
              "  color: var(--sklearn-color-fitted-level-1);\n",
              "}\n",
              "\n",
              "/* On hover */\n",
              "div.sk-estimator:hover .sk-estimator-doc-link:hover,\n",
              ".sk-estimator-doc-link:hover,\n",
              "div.sk-label-container:hover .sk-estimator-doc-link:hover,\n",
              ".sk-estimator-doc-link:hover {\n",
              "  /* unfitted */\n",
              "  background-color: var(--sklearn-color-unfitted-level-3);\n",
              "  color: var(--sklearn-color-background);\n",
              "  text-decoration: none;\n",
              "}\n",
              "\n",
              "div.sk-estimator.fitted:hover .sk-estimator-doc-link.fitted:hover,\n",
              ".sk-estimator-doc-link.fitted:hover,\n",
              "div.sk-label-container:hover .sk-estimator-doc-link.fitted:hover,\n",
              ".sk-estimator-doc-link.fitted:hover {\n",
              "  /* fitted */\n",
              "  background-color: var(--sklearn-color-fitted-level-3);\n",
              "  color: var(--sklearn-color-background);\n",
              "  text-decoration: none;\n",
              "}\n",
              "\n",
              "/* Span, style for the box shown on hovering the info icon */\n",
              ".sk-estimator-doc-link span {\n",
              "  display: none;\n",
              "  z-index: 9999;\n",
              "  position: relative;\n",
              "  font-weight: normal;\n",
              "  right: .2ex;\n",
              "  padding: .5ex;\n",
              "  margin: .5ex;\n",
              "  width: min-content;\n",
              "  min-width: 20ex;\n",
              "  max-width: 50ex;\n",
              "  color: var(--sklearn-color-text);\n",
              "  box-shadow: 2pt 2pt 4pt #999;\n",
              "  /* unfitted */\n",
              "  background: var(--sklearn-color-unfitted-level-0);\n",
              "  border: .5pt solid var(--sklearn-color-unfitted-level-3);\n",
              "}\n",
              "\n",
              ".sk-estimator-doc-link.fitted span {\n",
              "  /* fitted */\n",
              "  background: var(--sklearn-color-fitted-level-0);\n",
              "  border: var(--sklearn-color-fitted-level-3);\n",
              "}\n",
              "\n",
              ".sk-estimator-doc-link:hover span {\n",
              "  display: block;\n",
              "}\n",
              "\n",
              "/* \"?\"-specific style due to the `<a>` HTML tag */\n",
              "\n",
              "#sk-container-id-4 a.estimator_doc_link {\n",
              "  float: right;\n",
              "  font-size: 1rem;\n",
              "  line-height: 1em;\n",
              "  font-family: monospace;\n",
              "  background-color: var(--sklearn-color-background);\n",
              "  border-radius: 1rem;\n",
              "  height: 1rem;\n",
              "  width: 1rem;\n",
              "  text-decoration: none;\n",
              "  /* unfitted */\n",
              "  color: var(--sklearn-color-unfitted-level-1);\n",
              "  border: var(--sklearn-color-unfitted-level-1) 1pt solid;\n",
              "}\n",
              "\n",
              "#sk-container-id-4 a.estimator_doc_link.fitted {\n",
              "  /* fitted */\n",
              "  border: var(--sklearn-color-fitted-level-1) 1pt solid;\n",
              "  color: var(--sklearn-color-fitted-level-1);\n",
              "}\n",
              "\n",
              "/* On hover */\n",
              "#sk-container-id-4 a.estimator_doc_link:hover {\n",
              "  /* unfitted */\n",
              "  background-color: var(--sklearn-color-unfitted-level-3);\n",
              "  color: var(--sklearn-color-background);\n",
              "  text-decoration: none;\n",
              "}\n",
              "\n",
              "#sk-container-id-4 a.estimator_doc_link.fitted:hover {\n",
              "  /* fitted */\n",
              "  background-color: var(--sklearn-color-fitted-level-3);\n",
              "}\n",
              "</style><div id=\"sk-container-id-4\" class=\"sk-top-container\"><div class=\"sk-text-repr-fallback\"><pre>LogisticRegression(class_weight=&#x27;balanced&#x27;)</pre><b>In a Jupyter environment, please rerun this cell to show the HTML representation or trust the notebook. <br />On GitHub, the HTML representation is unable to render, please try loading this page with nbviewer.org.</b></div><div class=\"sk-container\" hidden><div class=\"sk-item\"><div class=\"sk-estimator fitted sk-toggleable\"><input class=\"sk-toggleable__control sk-hidden--visually\" id=\"sk-estimator-id-4\" type=\"checkbox\" checked><label for=\"sk-estimator-id-4\" class=\"sk-toggleable__label fitted sk-toggleable__label-arrow fitted\">&nbsp;&nbsp;LogisticRegression<a class=\"sk-estimator-doc-link fitted\" rel=\"noreferrer\" target=\"_blank\" href=\"https://scikit-learn.org/1.5/modules/generated/sklearn.linear_model.LogisticRegression.html\">?<span>Documentation for LogisticRegression</span></a><span class=\"sk-estimator-doc-link fitted\">i<span>Fitted</span></span></label><div class=\"sk-toggleable__content fitted\"><pre>LogisticRegression(class_weight=&#x27;balanced&#x27;)</pre></div> </div></div></div></div>"
            ]
          },
          "metadata": {},
          "execution_count": 253
        }
      ]
    },
    {
      "cell_type": "code",
      "source": [
        "# Grader Cell (1 points)\n",
        "grader.grade(test_case_id = 'diabetes_logreg', answer = (weighted_lrg.get_params()))"
      ],
      "metadata": {
        "id": "KOwMvT2i8LGq",
        "colab": {
          "base_uri": "https://localhost:8080/"
        },
        "outputId": "7078cd8f-0c46-46a0-848c-571f7fbbfa2c"
      },
      "execution_count": 254,
      "outputs": [
        {
          "output_type": "stream",
          "name": "stdout",
          "text": [
            "Correct! You earned 1/1 points. You are a star!\n",
            "\n",
            "Your submission has been successfully recorded in the gradebook.\n"
          ]
        }
      ]
    },
    {
      "cell_type": "markdown",
      "source": [
        "### 3.3.2: Logistic Regression Evaluation [3 Points]\n",
        "We will now evaluate this model using the following metrics:\n",
        "\n",
        "* Accuracy = $\\frac{TP+TN}{TP+FN+FP+TN}$\n",
        "* Recall/Sensitivity = $\\frac{TP}{TP+FN}$ - intuitively, recall is the ability of the classifier to find all the positive samples. A model with high recall has few false negatives, and thus fewer positive cases may be missed.\n",
        "* Precision = $\\frac{TP}{TP+FP}$ - intuitively, precision is the ability of the classifier to not label a negative sample as positive. A model with high precision has few false positives, and thus fewer negative cases that are misidentified as positive.\n",
        "\n",
        "**Task:**\n",
        "*   Predict on the training and testing data using the `.predict()` method of the `LogisticRegression` class\n",
        "*   Fill in the function definitions for the above metrics\n",
        "\n",
        "**Hint:**\n",
        "*   Remember that the output of the metrics should be float values\n"
      ],
      "metadata": {
        "id": "vBOejVZl8MZB"
      }
    },
    {
      "cell_type": "code",
      "source": [
        "# TODO: Predict on training and testing data for the model\n",
        "weighted_lrg_y_train_pred = weighted_lrg.predict(X_train)\n",
        "weighted_lrg_y_test_pred = weighted_lrg.predict(X_test)\n",
        "\n",
        "# TODO: Fill in the following function definitions\n",
        "\n",
        "def compute_accuracy(y_true, y_pred):\n",
        "    return (y_true == y_pred).mean()\n",
        "\n",
        "def compute_recall(y_true, y_pred):\n",
        "    TP = sum((y_true == 1) & (y_pred == 1))\n",
        "    FN = sum((y_true == 1) & (y_pred == 0))\n",
        "    return TP / (TP + FN) if (TP + FN) != 0 else 0.0\n",
        "\n",
        "def compute_precision(y_true, y_pred):\n",
        "    TP = sum((y_true == 1) & (y_pred == 1))\n",
        "    FP = sum((y_true == 0) & (y_pred == 1))\n",
        "    return TP / (TP + FP) if (TP + FP) != 0 else 0.0\n",
        "\n",
        "# Test the functions with predictions on the training and testing data\n",
        "train_accuracy = compute_accuracy(y_train, weighted_lrg_y_train_pred)\n",
        "train_recall = compute_recall(y_train, weighted_lrg_y_train_pred)\n",
        "train_precision = compute_precision(y_train, weighted_lrg_y_train_pred)\n",
        "\n",
        "test_accuracy = compute_accuracy(y_test, weighted_lrg_y_test_pred)\n",
        "test_recall = compute_recall(y_test, weighted_lrg_y_test_pred)\n",
        "test_precision = compute_precision(y_test, weighted_lrg_y_test_pred)\n",
        "\n"
      ],
      "metadata": {
        "id": "2KLSNuG6ORhd"
      },
      "execution_count": 255,
      "outputs": []
    },
    {
      "cell_type": "code",
      "source": [
        "# DO NOT CHANGE ----------------------------------------------------------------\n",
        "weighted_lrg_train_acc = compute_accuracy(y_train, weighted_lrg_y_train_pred)\n",
        "weighted_lrg_test_acc = compute_accuracy(y_test, weighted_lrg_y_test_pred)\n",
        "\n",
        "weighted_lrg_train_recall = compute_recall(y_train, weighted_lrg_y_train_pred)\n",
        "weighted_lrg_test_recall = compute_recall(y_test, weighted_lrg_y_test_pred)\n",
        "\n",
        "weighted_lrg_train_precision = compute_precision(y_train, weighted_lrg_y_train_pred)\n",
        "weighted_lrg_test_precision = compute_precision(y_test, weighted_lrg_y_test_pred)\n",
        "\n",
        "\n",
        "print(f'Weighted Logistic Regression Training Accuracy: {weighted_lrg_train_acc}')\n",
        "print(f'Weighted Logistic Regression Testing Accuracy: {weighted_lrg_test_acc}')\n",
        "\n",
        "print(f'Weighted Logistic Regression Training Recall: {weighted_lrg_train_recall}')\n",
        "print(f'Weighted Logistic Regression Testing Recall: {weighted_lrg_test_recall}')\n",
        "\n",
        "print(f'Weighted Logistic Regression Training Precision: {weighted_lrg_train_precision}')\n",
        "print(f'Logistic Regression Testing Precision: {weighted_lrg_test_precision}')\n",
        "# DO NOT CHANGE ----------------------------------------------------------------"
      ],
      "metadata": {
        "id": "4zFqS0km8dy1",
        "colab": {
          "base_uri": "https://localhost:8080/"
        },
        "outputId": "27fc7933-dbb4-4f59-a967-6f1c5b5c83fa"
      },
      "execution_count": 256,
      "outputs": [
        {
          "output_type": "stream",
          "name": "stdout",
          "text": [
            "Weighted Logistic Regression Training Accuracy: 0.8816483923111379\n",
            "Weighted Logistic Regression Testing Accuracy: 0.8794110773545221\n",
            "Weighted Logistic Regression Training Recall: 0.868901898172787\n",
            "Weighted Logistic Regression Testing Recall: 0.8608942512420156\n",
            "Weighted Logistic Regression Training Precision: 0.4785072293864791\n",
            "Logistic Regression Testing Precision: 0.4729044834307992\n"
          ]
        }
      ]
    },
    {
      "cell_type": "code",
      "source": [
        "# Grader Cell (3 points)\n",
        "grader.grade(test_case_id='diabetes_logreg_eval', answer=(weighted_lrg_train_acc, weighted_lrg_test_acc, weighted_lrg_train_recall, weighted_lrg_test_recall, weighted_lrg_train_precision, weighted_lrg_test_precision))"
      ],
      "metadata": {
        "id": "Gx950ucs8fGJ",
        "colab": {
          "base_uri": "https://localhost:8080/"
        },
        "outputId": "0d16277d-9f1f-4748-abb5-e8765208cb72"
      },
      "execution_count": 257,
      "outputs": [
        {
          "output_type": "stream",
          "name": "stdout",
          "text": [
            "Correct! You earned 3/3 points. You are a star!\n",
            "\n",
            "Your submission has been successfully recorded in the gradebook.\n"
          ]
        }
      ]
    },
    {
      "cell_type": "markdown",
      "source": [
        "### 3.3.3: XGBoost Classifier [1 Points]\n",
        "\n",
        "We will now examine another type of classifier: XGBoost. XGBoost is an optimized implementation of gradient boosting designed for speed and performance. It builds an ensemble of decision trees sequentially, where each tree corrects the errors of the previous ones. XGBoost includes regularization to prevent overfitting and can handle large, complex datasets efficiently. It support parallelization, making it faster than other gradient boosting implementations.\n",
        "\n",
        " As mentioned, XGBoost trees are built sequentially, with each tree correcting the errors of the previous ones. In contrast, Random Forest (next section) combines the results of independently built trees for final predictions. XGBoost includes regularization to prevent overfitting and supports parallelization during tree construction, making it faster and more accurate in certain scenarios. Random Forest, on the other hand, is typically more robust to hyperparameter tuning and easier to train but may not achieve the same level of performance on structured data as XGBoost.\n",
        "\n",
        " **Task:**\n",
        " * Initialize an `XGBClassifier` called `xgb_clf` with the following parameters:\n",
        "  * `random_state = SEED` (same SEED as before)\n",
        "  * `tree_method = 'hist'`\n",
        "  * `scale_pos_weight = class_ratio`, this helps account for class imbalances (similar to the `class_weight` parameter in `LogisticRegression`)\n",
        "  * `n_estimators = 50`\n",
        "* Fit it to the training data\n",
        "\n",
        "**Hint:**\n",
        " *   Use this [XGBoost documentation](https://xgboost.readthedocs.io/en/latest/python/python_api.html)"
      ],
      "metadata": {
        "id": "4_y1gWBV8j6p"
      }
    },
    {
      "cell_type": "code",
      "source": [
        "\n",
        "\n",
        "from xgboost import XGBClassifier\n",
        "\n",
        "# Using the same SEED for reproducibility\n",
        "SEED = 12345\n",
        "\n",
        "# Initialize the XGBClassifier with the specified parameters\n",
        "xgb_clf = XGBClassifier(\n",
        "    random_state=SEED,\n",
        "    tree_method='hist',\n",
        "    scale_pos_weight=class_ratio,  # Adjusts for class imbalance\n",
        "    n_estimators=50\n",
        ")\n",
        "\n",
        "# Now, fit the classifier to the training data\n",
        "xgb_clf.fit(X_train, y_train)\n",
        "\n",
        "print(\"XGBClassifier successfully initialized and fitted to the training data.\")\n"
      ],
      "metadata": {
        "id": "80PYZBIQ8pFC",
        "colab": {
          "base_uri": "https://localhost:8080/"
        },
        "outputId": "f07c71c6-ccd2-4878-fba4-04ca81ef54d9"
      },
      "execution_count": 258,
      "outputs": [
        {
          "output_type": "stream",
          "name": "stdout",
          "text": [
            "XGBClassifier successfully initialized and fitted to the training data.\n"
          ]
        }
      ]
    },
    {
      "cell_type": "code",
      "source": [
        "# Grader Cell (1 Point)\n",
        "grader.grade(test_case_id = 'diabetes_xgb', answer = (xgb_clf.get_params()))"
      ],
      "metadata": {
        "id": "xmDnTAar8yiU",
        "colab": {
          "base_uri": "https://localhost:8080/"
        },
        "outputId": "6de72aa6-cf94-4d15-b2bb-ade9e738aa8f"
      },
      "execution_count": 259,
      "outputs": [
        {
          "output_type": "stream",
          "name": "stdout",
          "text": [
            "Correct! You earned 1/1 points. You are a star!\n",
            "\n",
            "Your submission has been successfully recorded in the gradebook.\n"
          ]
        }
      ]
    },
    {
      "cell_type": "markdown",
      "source": [
        "### 3.3.4 XGBoost Classifier Evaluation [6 points]\n",
        "We will now use the same metrics as we used for the `LogisticRegression` model on `xgb_clf`.\n",
        "\n",
        "**Task:**\n",
        "*   Predict on the training and testing data using the `.predict()` method of the `XGBClassifier` class\n",
        "*   Compute the performance using each of the above metrics on the training and testing sets\n",
        "* Save your calculations in the pre-defined variables\n",
        "\n",
        "**Hint:**\n",
        "* Make use of the scoring functions in sklearn, [`accuracy_score()`](https://scikit-learn.org/dev/modules/generated/sklearn.metrics.accuracy_score.html),  [`recall_score()`](https://scikit-learn.org/stable/modules/generated/sklearn.metrics.recall_score.html),  [`precision_score()`](https://scikit-learn.org/stable/modules/generated/sklearn.metrics.precision_score.html)"
      ],
      "metadata": {
        "id": "0HkQzCfM9IOo"
      }
    },
    {
      "cell_type": "code",
      "source": [
        "from sklearn.metrics import accuracy_score, recall_score, precision_score\n",
        "\n",
        "# TODO: Predict using your classifier on the training and test data\n",
        "xgb_clf_y_train_pred = xgb_clf.predict(X_train)\n",
        "xgb_clf_y_test_pred = xgb_clf.predict(X_test)\n",
        "\n",
        "# TODO: Compute metrics for training data\n",
        "training_accuracy_score = accuracy_score(y_train, xgb_clf_y_train_pred)\n",
        "training_recall_score = recall_score(y_train, xgb_clf_y_train_pred, average='binary')\n",
        "training_precision_score = precision_score(y_train, xgb_clf_y_train_pred, average='binary')\n",
        "\n",
        "# TODO: Compute metrics for testing data\n",
        "testing_accuracy_score = accuracy_score(y_test, xgb_clf_y_test_pred)\n",
        "testing_recall_score = recall_score(y_test, xgb_clf_y_test_pred, average='binary')\n",
        "testing_precision_score = precision_score(y_test, xgb_clf_y_test_pred, average='binary')\n",
        "\n",
        "# DO NOT EDIT ------------------------------------------------------------------\n",
        "print(f'XGBoosting Training Accuracy: {training_accuracy_score}')\n",
        "print(f'XGBoosting Testing Accuracy: {testing_accuracy_score}')\n",
        "\n",
        "print(f'XGBoosting Training Recall: {training_recall_score}')\n",
        "print(f'XGBoosting Testing Recall: {testing_recall_score}')\n",
        "\n",
        "print(f'XGBoosting Training Precision: {training_precision_score}')\n",
        "print(f'XGBoosting Testing Precision: {testing_precision_score}')\n"
      ],
      "metadata": {
        "id": "S2Nh6uoJ9KEz",
        "colab": {
          "base_uri": "https://localhost:8080/"
        },
        "outputId": "5802dc24-e6d7-4f3c-dd91-bba74bda5a6b"
      },
      "execution_count": 260,
      "outputs": [
        {
          "output_type": "stream",
          "name": "stdout",
          "text": [
            "XGBoosting Training Accuracy: 0.9128089274933296\n",
            "XGBoosting Testing Accuracy: 0.9012230271870375\n",
            "XGBoosting Training Recall: 0.9375554372893383\n",
            "XGBoosting Testing Recall: 0.9013484740951029\n",
            "XGBoosting Training Precision: 0.5616365568544102\n",
            "XGBoosting Testing Precision: 0.5293872446852855\n"
          ]
        }
      ]
    },
    {
      "cell_type": "code",
      "source": [
        "grader.grade(test_case_id='diabetes_xgb_eval', answer=(training_accuracy_score, testing_accuracy_score, training_recall_score, testing_recall_score, training_precision_score, testing_precision_score))"
      ],
      "metadata": {
        "id": "0Kp_xDHi9QGh",
        "colab": {
          "base_uri": "https://localhost:8080/"
        },
        "outputId": "437c5469-6b65-4fe1-a8fb-92587bc4f7d8"
      },
      "execution_count": 261,
      "outputs": [
        {
          "output_type": "stream",
          "name": "stdout",
          "text": [
            "Correct! You earned 6/6 points. You are a star!\n",
            "\n",
            "Your submission has been successfully recorded in the gradebook.\n"
          ]
        }
      ]
    },
    {
      "cell_type": "markdown",
      "source": [
        "### 3.3.5: Random Forest Classifier [1 points]\n",
        "Now that you've built a Logistic Regression classifier and XGBoost Classifier, we'll contrast it with a different classifier: a random forest. The Random Forest Classifier is an ensemble method that builds multiple decision trees on different subsets of the data and combines their predictions to improve accuracy and reduce overfitting. Each tree is trained on a random subset of the data and features, making the model robust to noise and complex patterns. It's particularly useful for handling non-linear relationships and is effective on high-dimensional datasets.\n",
        "\n",
        "\n",
        "**Task:**\n",
        "*   Using the [`RandomForestClassifer`](https://scikit-learn.org/stable/modules/generated/sklearn.ensemble.RandomForestClassifier.html) class from sklearn, set the following hyperparameters:\n",
        "   * `class_weight = 'balanced'`\n",
        "   * `n_estimators = 50`\n",
        "   * `max_depth = 10`\n",
        "   * `random_state = SEED` (same SEED as before)\n",
        "*   Save this classifier as `rfc` and fit the classifier to `X_train` and `y_train`"
      ],
      "metadata": {
        "id": "Xdp-hHoz9RqC"
      }
    },
    {
      "cell_type": "code",
      "source": [
        "from sklearn.ensemble import RandomForestClassifier\n",
        "\n",
        "# TODO: Initialize the RandomForestClassifier with the specified parameters\n",
        "rfc = RandomForestClassifier(\n",
        "    class_weight='balanced',  # Handles class imbalance\n",
        "    n_estimators=50,           # Number of trees in the forest\n",
        "    max_depth=10,              # Maximum depth of each tree\n",
        "    random_state=SEED           # Ensures reproducibility\n",
        ")\n",
        "\n",
        "# TODO: Fit the classifier to the training set\n",
        "rfc.fit(X_train, y_train)\n",
        "\n"
      ],
      "metadata": {
        "id": "d84lyBIs9g6i",
        "colab": {
          "base_uri": "https://localhost:8080/",
          "height": 98
        },
        "outputId": "3625f769-d611-4a88-e344-fd4becfdc4d5"
      },
      "execution_count": 262,
      "outputs": [
        {
          "output_type": "execute_result",
          "data": {
            "text/plain": [
              "RandomForestClassifier(class_weight='balanced', max_depth=10, n_estimators=50,\n",
              "                       random_state=12345)"
            ],
            "text/html": [
              "<style>#sk-container-id-5 {\n",
              "  /* Definition of color scheme common for light and dark mode */\n",
              "  --sklearn-color-text: black;\n",
              "  --sklearn-color-line: gray;\n",
              "  /* Definition of color scheme for unfitted estimators */\n",
              "  --sklearn-color-unfitted-level-0: #fff5e6;\n",
              "  --sklearn-color-unfitted-level-1: #f6e4d2;\n",
              "  --sklearn-color-unfitted-level-2: #ffe0b3;\n",
              "  --sklearn-color-unfitted-level-3: chocolate;\n",
              "  /* Definition of color scheme for fitted estimators */\n",
              "  --sklearn-color-fitted-level-0: #f0f8ff;\n",
              "  --sklearn-color-fitted-level-1: #d4ebff;\n",
              "  --sklearn-color-fitted-level-2: #b3dbfd;\n",
              "  --sklearn-color-fitted-level-3: cornflowerblue;\n",
              "\n",
              "  /* Specific color for light theme */\n",
              "  --sklearn-color-text-on-default-background: var(--sg-text-color, var(--theme-code-foreground, var(--jp-content-font-color1, black)));\n",
              "  --sklearn-color-background: var(--sg-background-color, var(--theme-background, var(--jp-layout-color0, white)));\n",
              "  --sklearn-color-border-box: var(--sg-text-color, var(--theme-code-foreground, var(--jp-content-font-color1, black)));\n",
              "  --sklearn-color-icon: #696969;\n",
              "\n",
              "  @media (prefers-color-scheme: dark) {\n",
              "    /* Redefinition of color scheme for dark theme */\n",
              "    --sklearn-color-text-on-default-background: var(--sg-text-color, var(--theme-code-foreground, var(--jp-content-font-color1, white)));\n",
              "    --sklearn-color-background: var(--sg-background-color, var(--theme-background, var(--jp-layout-color0, #111)));\n",
              "    --sklearn-color-border-box: var(--sg-text-color, var(--theme-code-foreground, var(--jp-content-font-color1, white)));\n",
              "    --sklearn-color-icon: #878787;\n",
              "  }\n",
              "}\n",
              "\n",
              "#sk-container-id-5 {\n",
              "  color: var(--sklearn-color-text);\n",
              "}\n",
              "\n",
              "#sk-container-id-5 pre {\n",
              "  padding: 0;\n",
              "}\n",
              "\n",
              "#sk-container-id-5 input.sk-hidden--visually {\n",
              "  border: 0;\n",
              "  clip: rect(1px 1px 1px 1px);\n",
              "  clip: rect(1px, 1px, 1px, 1px);\n",
              "  height: 1px;\n",
              "  margin: -1px;\n",
              "  overflow: hidden;\n",
              "  padding: 0;\n",
              "  position: absolute;\n",
              "  width: 1px;\n",
              "}\n",
              "\n",
              "#sk-container-id-5 div.sk-dashed-wrapped {\n",
              "  border: 1px dashed var(--sklearn-color-line);\n",
              "  margin: 0 0.4em 0.5em 0.4em;\n",
              "  box-sizing: border-box;\n",
              "  padding-bottom: 0.4em;\n",
              "  background-color: var(--sklearn-color-background);\n",
              "}\n",
              "\n",
              "#sk-container-id-5 div.sk-container {\n",
              "  /* jupyter's `normalize.less` sets `[hidden] { display: none; }`\n",
              "     but bootstrap.min.css set `[hidden] { display: none !important; }`\n",
              "     so we also need the `!important` here to be able to override the\n",
              "     default hidden behavior on the sphinx rendered scikit-learn.org.\n",
              "     See: https://github.com/scikit-learn/scikit-learn/issues/21755 */\n",
              "  display: inline-block !important;\n",
              "  position: relative;\n",
              "}\n",
              "\n",
              "#sk-container-id-5 div.sk-text-repr-fallback {\n",
              "  display: none;\n",
              "}\n",
              "\n",
              "div.sk-parallel-item,\n",
              "div.sk-serial,\n",
              "div.sk-item {\n",
              "  /* draw centered vertical line to link estimators */\n",
              "  background-image: linear-gradient(var(--sklearn-color-text-on-default-background), var(--sklearn-color-text-on-default-background));\n",
              "  background-size: 2px 100%;\n",
              "  background-repeat: no-repeat;\n",
              "  background-position: center center;\n",
              "}\n",
              "\n",
              "/* Parallel-specific style estimator block */\n",
              "\n",
              "#sk-container-id-5 div.sk-parallel-item::after {\n",
              "  content: \"\";\n",
              "  width: 100%;\n",
              "  border-bottom: 2px solid var(--sklearn-color-text-on-default-background);\n",
              "  flex-grow: 1;\n",
              "}\n",
              "\n",
              "#sk-container-id-5 div.sk-parallel {\n",
              "  display: flex;\n",
              "  align-items: stretch;\n",
              "  justify-content: center;\n",
              "  background-color: var(--sklearn-color-background);\n",
              "  position: relative;\n",
              "}\n",
              "\n",
              "#sk-container-id-5 div.sk-parallel-item {\n",
              "  display: flex;\n",
              "  flex-direction: column;\n",
              "}\n",
              "\n",
              "#sk-container-id-5 div.sk-parallel-item:first-child::after {\n",
              "  align-self: flex-end;\n",
              "  width: 50%;\n",
              "}\n",
              "\n",
              "#sk-container-id-5 div.sk-parallel-item:last-child::after {\n",
              "  align-self: flex-start;\n",
              "  width: 50%;\n",
              "}\n",
              "\n",
              "#sk-container-id-5 div.sk-parallel-item:only-child::after {\n",
              "  width: 0;\n",
              "}\n",
              "\n",
              "/* Serial-specific style estimator block */\n",
              "\n",
              "#sk-container-id-5 div.sk-serial {\n",
              "  display: flex;\n",
              "  flex-direction: column;\n",
              "  align-items: center;\n",
              "  background-color: var(--sklearn-color-background);\n",
              "  padding-right: 1em;\n",
              "  padding-left: 1em;\n",
              "}\n",
              "\n",
              "\n",
              "/* Toggleable style: style used for estimator/Pipeline/ColumnTransformer box that is\n",
              "clickable and can be expanded/collapsed.\n",
              "- Pipeline and ColumnTransformer use this feature and define the default style\n",
              "- Estimators will overwrite some part of the style using the `sk-estimator` class\n",
              "*/\n",
              "\n",
              "/* Pipeline and ColumnTransformer style (default) */\n",
              "\n",
              "#sk-container-id-5 div.sk-toggleable {\n",
              "  /* Default theme specific background. It is overwritten whether we have a\n",
              "  specific estimator or a Pipeline/ColumnTransformer */\n",
              "  background-color: var(--sklearn-color-background);\n",
              "}\n",
              "\n",
              "/* Toggleable label */\n",
              "#sk-container-id-5 label.sk-toggleable__label {\n",
              "  cursor: pointer;\n",
              "  display: block;\n",
              "  width: 100%;\n",
              "  margin-bottom: 0;\n",
              "  padding: 0.5em;\n",
              "  box-sizing: border-box;\n",
              "  text-align: center;\n",
              "}\n",
              "\n",
              "#sk-container-id-5 label.sk-toggleable__label-arrow:before {\n",
              "  /* Arrow on the left of the label */\n",
              "  content: \"▸\";\n",
              "  float: left;\n",
              "  margin-right: 0.25em;\n",
              "  color: var(--sklearn-color-icon);\n",
              "}\n",
              "\n",
              "#sk-container-id-5 label.sk-toggleable__label-arrow:hover:before {\n",
              "  color: var(--sklearn-color-text);\n",
              "}\n",
              "\n",
              "/* Toggleable content - dropdown */\n",
              "\n",
              "#sk-container-id-5 div.sk-toggleable__content {\n",
              "  max-height: 0;\n",
              "  max-width: 0;\n",
              "  overflow: hidden;\n",
              "  text-align: left;\n",
              "  /* unfitted */\n",
              "  background-color: var(--sklearn-color-unfitted-level-0);\n",
              "}\n",
              "\n",
              "#sk-container-id-5 div.sk-toggleable__content.fitted {\n",
              "  /* fitted */\n",
              "  background-color: var(--sklearn-color-fitted-level-0);\n",
              "}\n",
              "\n",
              "#sk-container-id-5 div.sk-toggleable__content pre {\n",
              "  margin: 0.2em;\n",
              "  border-radius: 0.25em;\n",
              "  color: var(--sklearn-color-text);\n",
              "  /* unfitted */\n",
              "  background-color: var(--sklearn-color-unfitted-level-0);\n",
              "}\n",
              "\n",
              "#sk-container-id-5 div.sk-toggleable__content.fitted pre {\n",
              "  /* unfitted */\n",
              "  background-color: var(--sklearn-color-fitted-level-0);\n",
              "}\n",
              "\n",
              "#sk-container-id-5 input.sk-toggleable__control:checked~div.sk-toggleable__content {\n",
              "  /* Expand drop-down */\n",
              "  max-height: 200px;\n",
              "  max-width: 100%;\n",
              "  overflow: auto;\n",
              "}\n",
              "\n",
              "#sk-container-id-5 input.sk-toggleable__control:checked~label.sk-toggleable__label-arrow:before {\n",
              "  content: \"▾\";\n",
              "}\n",
              "\n",
              "/* Pipeline/ColumnTransformer-specific style */\n",
              "\n",
              "#sk-container-id-5 div.sk-label input.sk-toggleable__control:checked~label.sk-toggleable__label {\n",
              "  color: var(--sklearn-color-text);\n",
              "  background-color: var(--sklearn-color-unfitted-level-2);\n",
              "}\n",
              "\n",
              "#sk-container-id-5 div.sk-label.fitted input.sk-toggleable__control:checked~label.sk-toggleable__label {\n",
              "  background-color: var(--sklearn-color-fitted-level-2);\n",
              "}\n",
              "\n",
              "/* Estimator-specific style */\n",
              "\n",
              "/* Colorize estimator box */\n",
              "#sk-container-id-5 div.sk-estimator input.sk-toggleable__control:checked~label.sk-toggleable__label {\n",
              "  /* unfitted */\n",
              "  background-color: var(--sklearn-color-unfitted-level-2);\n",
              "}\n",
              "\n",
              "#sk-container-id-5 div.sk-estimator.fitted input.sk-toggleable__control:checked~label.sk-toggleable__label {\n",
              "  /* fitted */\n",
              "  background-color: var(--sklearn-color-fitted-level-2);\n",
              "}\n",
              "\n",
              "#sk-container-id-5 div.sk-label label.sk-toggleable__label,\n",
              "#sk-container-id-5 div.sk-label label {\n",
              "  /* The background is the default theme color */\n",
              "  color: var(--sklearn-color-text-on-default-background);\n",
              "}\n",
              "\n",
              "/* On hover, darken the color of the background */\n",
              "#sk-container-id-5 div.sk-label:hover label.sk-toggleable__label {\n",
              "  color: var(--sklearn-color-text);\n",
              "  background-color: var(--sklearn-color-unfitted-level-2);\n",
              "}\n",
              "\n",
              "/* Label box, darken color on hover, fitted */\n",
              "#sk-container-id-5 div.sk-label.fitted:hover label.sk-toggleable__label.fitted {\n",
              "  color: var(--sklearn-color-text);\n",
              "  background-color: var(--sklearn-color-fitted-level-2);\n",
              "}\n",
              "\n",
              "/* Estimator label */\n",
              "\n",
              "#sk-container-id-5 div.sk-label label {\n",
              "  font-family: monospace;\n",
              "  font-weight: bold;\n",
              "  display: inline-block;\n",
              "  line-height: 1.2em;\n",
              "}\n",
              "\n",
              "#sk-container-id-5 div.sk-label-container {\n",
              "  text-align: center;\n",
              "}\n",
              "\n",
              "/* Estimator-specific */\n",
              "#sk-container-id-5 div.sk-estimator {\n",
              "  font-family: monospace;\n",
              "  border: 1px dotted var(--sklearn-color-border-box);\n",
              "  border-radius: 0.25em;\n",
              "  box-sizing: border-box;\n",
              "  margin-bottom: 0.5em;\n",
              "  /* unfitted */\n",
              "  background-color: var(--sklearn-color-unfitted-level-0);\n",
              "}\n",
              "\n",
              "#sk-container-id-5 div.sk-estimator.fitted {\n",
              "  /* fitted */\n",
              "  background-color: var(--sklearn-color-fitted-level-0);\n",
              "}\n",
              "\n",
              "/* on hover */\n",
              "#sk-container-id-5 div.sk-estimator:hover {\n",
              "  /* unfitted */\n",
              "  background-color: var(--sklearn-color-unfitted-level-2);\n",
              "}\n",
              "\n",
              "#sk-container-id-5 div.sk-estimator.fitted:hover {\n",
              "  /* fitted */\n",
              "  background-color: var(--sklearn-color-fitted-level-2);\n",
              "}\n",
              "\n",
              "/* Specification for estimator info (e.g. \"i\" and \"?\") */\n",
              "\n",
              "/* Common style for \"i\" and \"?\" */\n",
              "\n",
              ".sk-estimator-doc-link,\n",
              "a:link.sk-estimator-doc-link,\n",
              "a:visited.sk-estimator-doc-link {\n",
              "  float: right;\n",
              "  font-size: smaller;\n",
              "  line-height: 1em;\n",
              "  font-family: monospace;\n",
              "  background-color: var(--sklearn-color-background);\n",
              "  border-radius: 1em;\n",
              "  height: 1em;\n",
              "  width: 1em;\n",
              "  text-decoration: none !important;\n",
              "  margin-left: 1ex;\n",
              "  /* unfitted */\n",
              "  border: var(--sklearn-color-unfitted-level-1) 1pt solid;\n",
              "  color: var(--sklearn-color-unfitted-level-1);\n",
              "}\n",
              "\n",
              ".sk-estimator-doc-link.fitted,\n",
              "a:link.sk-estimator-doc-link.fitted,\n",
              "a:visited.sk-estimator-doc-link.fitted {\n",
              "  /* fitted */\n",
              "  border: var(--sklearn-color-fitted-level-1) 1pt solid;\n",
              "  color: var(--sklearn-color-fitted-level-1);\n",
              "}\n",
              "\n",
              "/* On hover */\n",
              "div.sk-estimator:hover .sk-estimator-doc-link:hover,\n",
              ".sk-estimator-doc-link:hover,\n",
              "div.sk-label-container:hover .sk-estimator-doc-link:hover,\n",
              ".sk-estimator-doc-link:hover {\n",
              "  /* unfitted */\n",
              "  background-color: var(--sklearn-color-unfitted-level-3);\n",
              "  color: var(--sklearn-color-background);\n",
              "  text-decoration: none;\n",
              "}\n",
              "\n",
              "div.sk-estimator.fitted:hover .sk-estimator-doc-link.fitted:hover,\n",
              ".sk-estimator-doc-link.fitted:hover,\n",
              "div.sk-label-container:hover .sk-estimator-doc-link.fitted:hover,\n",
              ".sk-estimator-doc-link.fitted:hover {\n",
              "  /* fitted */\n",
              "  background-color: var(--sklearn-color-fitted-level-3);\n",
              "  color: var(--sklearn-color-background);\n",
              "  text-decoration: none;\n",
              "}\n",
              "\n",
              "/* Span, style for the box shown on hovering the info icon */\n",
              ".sk-estimator-doc-link span {\n",
              "  display: none;\n",
              "  z-index: 9999;\n",
              "  position: relative;\n",
              "  font-weight: normal;\n",
              "  right: .2ex;\n",
              "  padding: .5ex;\n",
              "  margin: .5ex;\n",
              "  width: min-content;\n",
              "  min-width: 20ex;\n",
              "  max-width: 50ex;\n",
              "  color: var(--sklearn-color-text);\n",
              "  box-shadow: 2pt 2pt 4pt #999;\n",
              "  /* unfitted */\n",
              "  background: var(--sklearn-color-unfitted-level-0);\n",
              "  border: .5pt solid var(--sklearn-color-unfitted-level-3);\n",
              "}\n",
              "\n",
              ".sk-estimator-doc-link.fitted span {\n",
              "  /* fitted */\n",
              "  background: var(--sklearn-color-fitted-level-0);\n",
              "  border: var(--sklearn-color-fitted-level-3);\n",
              "}\n",
              "\n",
              ".sk-estimator-doc-link:hover span {\n",
              "  display: block;\n",
              "}\n",
              "\n",
              "/* \"?\"-specific style due to the `<a>` HTML tag */\n",
              "\n",
              "#sk-container-id-5 a.estimator_doc_link {\n",
              "  float: right;\n",
              "  font-size: 1rem;\n",
              "  line-height: 1em;\n",
              "  font-family: monospace;\n",
              "  background-color: var(--sklearn-color-background);\n",
              "  border-radius: 1rem;\n",
              "  height: 1rem;\n",
              "  width: 1rem;\n",
              "  text-decoration: none;\n",
              "  /* unfitted */\n",
              "  color: var(--sklearn-color-unfitted-level-1);\n",
              "  border: var(--sklearn-color-unfitted-level-1) 1pt solid;\n",
              "}\n",
              "\n",
              "#sk-container-id-5 a.estimator_doc_link.fitted {\n",
              "  /* fitted */\n",
              "  border: var(--sklearn-color-fitted-level-1) 1pt solid;\n",
              "  color: var(--sklearn-color-fitted-level-1);\n",
              "}\n",
              "\n",
              "/* On hover */\n",
              "#sk-container-id-5 a.estimator_doc_link:hover {\n",
              "  /* unfitted */\n",
              "  background-color: var(--sklearn-color-unfitted-level-3);\n",
              "  color: var(--sklearn-color-background);\n",
              "  text-decoration: none;\n",
              "}\n",
              "\n",
              "#sk-container-id-5 a.estimator_doc_link.fitted:hover {\n",
              "  /* fitted */\n",
              "  background-color: var(--sklearn-color-fitted-level-3);\n",
              "}\n",
              "</style><div id=\"sk-container-id-5\" class=\"sk-top-container\"><div class=\"sk-text-repr-fallback\"><pre>RandomForestClassifier(class_weight=&#x27;balanced&#x27;, max_depth=10, n_estimators=50,\n",
              "                       random_state=12345)</pre><b>In a Jupyter environment, please rerun this cell to show the HTML representation or trust the notebook. <br />On GitHub, the HTML representation is unable to render, please try loading this page with nbviewer.org.</b></div><div class=\"sk-container\" hidden><div class=\"sk-item\"><div class=\"sk-estimator fitted sk-toggleable\"><input class=\"sk-toggleable__control sk-hidden--visually\" id=\"sk-estimator-id-5\" type=\"checkbox\" checked><label for=\"sk-estimator-id-5\" class=\"sk-toggleable__label fitted sk-toggleable__label-arrow fitted\">&nbsp;&nbsp;RandomForestClassifier<a class=\"sk-estimator-doc-link fitted\" rel=\"noreferrer\" target=\"_blank\" href=\"https://scikit-learn.org/1.5/modules/generated/sklearn.ensemble.RandomForestClassifier.html\">?<span>Documentation for RandomForestClassifier</span></a><span class=\"sk-estimator-doc-link fitted\">i<span>Fitted</span></span></label><div class=\"sk-toggleable__content fitted\"><pre>RandomForestClassifier(class_weight=&#x27;balanced&#x27;, max_depth=10, n_estimators=50,\n",
              "                       random_state=12345)</pre></div> </div></div></div></div>"
            ]
          },
          "metadata": {},
          "execution_count": 262
        }
      ]
    },
    {
      "cell_type": "code",
      "source": [
        "# Grader Cell (1 points)\n",
        "grader.grade(test_case_id = 'diabetes_rfc', answer = (rfc.get_params()))"
      ],
      "metadata": {
        "id": "eENi9gWM9m6c",
        "colab": {
          "base_uri": "https://localhost:8080/"
        },
        "outputId": "3101f641-fc0e-451a-a578-c09c0f0c711d"
      },
      "execution_count": 263,
      "outputs": [
        {
          "output_type": "stream",
          "name": "stdout",
          "text": [
            "Correct! You earned 1/1 points. You are a star!\n",
            "\n",
            "Your submission has been successfully recorded in the gradebook.\n"
          ]
        }
      ]
    },
    {
      "cell_type": "markdown",
      "source": [
        "### 3.3.6 Random Forest Classifier Evaluation [6 points]\n",
        "We will now use the same metrics as for the previous models model on `rfc`.\n",
        "\n",
        "**Task:**\n",
        "*   Predict on the training and testing data using the `.predict()` method of the `RandomForestClassifier` class\n",
        "*   Compute the performance using each of the above metrics on the training and testing sets\n",
        "* Save your calculations in the pre-defined variables\n",
        "\n",
        "**Hint:**\n",
        "* Make use of the scoring functions in sklearn, [`accuracy_score()`](https://scikit-learn.org/dev/modules/generated/sklearn.metrics.accuracy_score.html),  [`recall_score()`](https://scikit-learn.org/stable/modules/generated/sklearn.metrics.recall_score.html),  [`precision_score()`](https://scikit-learn.org/stable/modules/generated/sklearn.metrics.precision_score.html)"
      ],
      "metadata": {
        "id": "rSUKGUzW9oGm"
      }
    },
    {
      "cell_type": "code",
      "source": [
        "from sklearn.metrics import accuracy_score, recall_score, precision_score\n",
        "\n",
        "# TODO: Predict on the training and testing set\n",
        "rfc_y_train_pred = rfc.predict(X_train)\n",
        "rfc_y_test_pred = rfc.predict(X_test)\n",
        "\n",
        "# TODO: Compute performance metrics for the training set\n",
        "rfc_train_acc = accuracy_score(y_train, rfc_y_train_pred)\n",
        "rfc_train_recall = recall_score(y_train, rfc_y_train_pred, average='binary')\n",
        "rfc_train_precision = precision_score(y_train, rfc_y_train_pred, average='binary')\n",
        "\n",
        "# TODO: Compute performance metrics for the testing set\n",
        "rfc_test_acc = accuracy_score(y_test, rfc_y_test_pred)\n",
        "rfc_test_recall = recall_score(y_test, rfc_y_test_pred, average='binary')\n",
        "rfc_test_precision = precision_score(y_test, rfc_y_test_pred, average='binary')\n"
      ],
      "metadata": {
        "id": "tKQ4hVKwS3dv"
      },
      "execution_count": 264,
      "outputs": []
    },
    {
      "cell_type": "code",
      "source": [
        "# DO NOT CHANGE ----------------------------------------------------------------\n",
        "print(f'Random Forest Classifier Training Accuracy: {rfc_train_acc}')\n",
        "print(f'Random Forest Classifier Testing Accuracy: {rfc_test_acc}')\n",
        "\n",
        "print(f'Random Forest Classifier Training Recall: {rfc_train_recall}')\n",
        "print(f'Random Forest Classifier Testing Recall: {rfc_test_recall}')\n",
        "\n",
        "print(f'Random Forest Classifier Training Precision: {rfc_train_precision}')\n",
        "print(f'Random Forest Classifier Testing Precision: {rfc_test_precision}')\n",
        "# DO NOT CHANGE ----------------------------------------------------------------"
      ],
      "metadata": {
        "id": "cyxw_xFv92go",
        "colab": {
          "base_uri": "https://localhost:8080/"
        },
        "outputId": "1888d4b9-be1b-4957-854e-f81c7b2d7a50"
      },
      "execution_count": 265,
      "outputs": [
        {
          "output_type": "stream",
          "name": "stdout",
          "text": [
            "Random Forest Classifier Training Accuracy: 0.9138995462247064\n",
            "Random Forest Classifier Testing Accuracy: 0.9065202150035055\n",
            "Random Forest Classifier Training Recall: 0.9001241795281177\n",
            "Random Forest Classifier Testing Recall: 0.8821859474804826\n",
            "Random Forest Classifier Training Precision: 0.5680698611733095\n",
            "Random Forest Classifier Testing Precision: 0.5458937198067633\n"
          ]
        }
      ]
    },
    {
      "cell_type": "code",
      "source": [
        "# Grader Cell (6 points)\n",
        "grader.grade(test_case_id='diabetes_rf_eval', answer=(rfc_train_acc, rfc_test_acc, rfc_train_recall, rfc_test_recall, rfc_train_precision, rfc_test_precision))"
      ],
      "metadata": {
        "id": "PKcwOhaQ94VQ",
        "colab": {
          "base_uri": "https://localhost:8080/"
        },
        "outputId": "3e119ec4-a829-4cf5-89bb-79b6921369e6"
      },
      "execution_count": 266,
      "outputs": [
        {
          "output_type": "stream",
          "name": "stdout",
          "text": [
            "Correct! You earned 6/6 points. You are a star!\n",
            "\n",
            "Your submission has been successfully recorded in the gradebook.\n"
          ]
        }
      ]
    },
    {
      "cell_type": "markdown",
      "source": [
        "Take a moment to reflect on the performance of the models you've built so far. Consider the accuracy, recall, and precision. Do you notice any limitations or areas where the models could be improved? Based on these observations, how could you change some of the parameters you used to initialize your classifiers improve your results? What could you do for XGBoost? What about Random Forests?\n",
        "\n",
        "Enter your answer as a string in the following code block.\n",
        "\n",
        "[This part is not graded]"
      ],
      "metadata": {
        "id": "6-LwveFOFXMo"
      }
    },
    {
      "cell_type": "code",
      "source": [],
      "metadata": {
        "id": "bqCDte8KFnxF"
      },
      "execution_count": 266,
      "outputs": []
    },
    {
      "cell_type": "markdown",
      "source": [
        "## 3.4: Intro to Hyperparameter Tuning [10 Points]\n",
        "In this section, we will be gain some familiarity with a new machine learning algorithm and an essential component of data modelling called hyperparameter tuning.\n",
        "\n",
        "In machine learning, there are typically two sets of parameters. The first being the model parameters. These are typically the parameters that are used to model the data directly, and these are learned through some sort of optimization problem. An example of these would be the weights in a linear regression model (Recall: $y=\\beta^Tx=\\beta_1x_1+\\beta_2x_2+\\cdots+\\beta_mx_m$, $\\beta$ are the model parameters). The second are the *hyperparameters*, and these typically control the learning algorithm. Hyperparameters influence the way the model learns or fits the model parameters to the data, and as a result influences model performance. Some example of hyperparameters include the learning rate in a neural network, the class weight we used in our logistic regression model earlier, or optimization method in a linear regression.\n",
        "\n",
        "**Tuning** is the process of finding the set of hyperparameters that yield the best model parameters for the given data set. As you saw in 3.3, we define *best* loosely here as that depends on the specific problem being worked on. Here we will be using the random forest model to provide a introduction to hyperparameter tuning.\n"
      ],
      "metadata": {
        "id": "0rFkC8x-959r"
      }
    },
    {
      "cell_type": "markdown",
      "source": [
        "### 3.4.1: Grid Search w/ Random Forest [10 Points]\n",
        "There are many different ways in which hyperparameter tuning can be done (see [Ax](https://ax.dev/docs/why-ax.html) and [Optuna](https://optuna.org/) for recent developments). We will be getting started with one of the earliest hyperparameter tuning methods, Grid Search. As the name suggests, here were are going to select a model, define a grid of hyperparameters to search on, and then gradually and exhaustively search every combination of hyperparameters.\n",
        "\n",
        "We will be using a model training and evaluation method called cross-validation to determine the best set of hyperparameters - if you're curious and would like to learn more about cross-validation, see [sklearn documentation](https://scikit-learn.org/stable/modules/cross_validation.html#cross-validation).\n",
        "\n",
        "Here we will be tuning a new Random Forest Classifier.\n",
        "\n",
        "**Task:**\n",
        "*   Define a [`StratifiedKFold`](https://scikit-learn.org/dev/modules/generated/sklearn.model_selection.StratifiedKFold.html) object from sklearn. This allows us to stratify our splits in cross-validation according to class proportions, similar to what we did in training.\n",
        "   *   Set the `random_state` to the `SEED` value from before.\n",
        "   *   Ensure that you shuffle the data\n",
        "   *   Use 5 splits for cross validation\n",
        "   *   Save this data in the variable `cv`\n",
        "\n",
        "*   Define a `RandomForestClassifier` class and save the instance in the variable `estimator`. Remember to set `random_state = SEED`.\n",
        "\n",
        "*   Create a search grid for hyperparameter tuning\n",
        "  * The parameters we are tuning are `class_weight`, `num_estimators`, and `max_depth`\n",
        "  * Values for `class_weight` should be `None` or `'balanced'`\n",
        "  * Values for `n_estimators` should be 50, 100, 120\n",
        "  * Values for `max_depth` should be 5, 10, 20\n",
        "  * Save the grid in a `dictionary` called `param_grid`, where the keys are strings of the parameter names and the values are the lists of possible values.\n",
        "\n",
        "* Based on your experience with the Random Forest and what you know about the problem context, choose an appropriate metric to evaluate the models and set the `scoring` variable to a string for that metric (e.g. `scoring = 'accuracy'`). Keep in mind that since we are working with a diabetes prediction model, we want to favor minimizing false negatives and ensure we identify as many diabetes cases as possible.\n",
        "\n",
        "\n",
        "  **Hint:**\n",
        "  *   Reminder that `param_grid` is  a `dictionary`"
      ],
      "metadata": {
        "id": "XidIMjClTQ_d"
      }
    },
    {
      "cell_type": "code",
      "source": [
        "from sklearn.ensemble import RandomForestClassifier\n",
        "from sklearn.model_selection import StratifiedKFold, GridSearchCV\n",
        "\n",
        "# TODO: Define the stratified cross-validation splitter with the above seed\n",
        "cv = StratifiedKFold(n_splits=5, shuffle=True, random_state=SEED)\n",
        "\n",
        "# TODO: Define the RandomForestClassifier with the above seed\n",
        "estimator = RandomForestClassifier(random_state=SEED)\n",
        "\n",
        "# TODO: Define the parameter grid\n",
        "param_grid = {\n",
        "    'class_weight': [None, 'balanced'],\n",
        "    'n_estimators': [50, 100, 120],\n",
        "    'max_depth': [5, 10, 20]\n",
        "}\n",
        "\n",
        "# TODO: Define the metric as a lower case string\n",
        "# Since the problem is related to diabetes, we care more about recall to minimize false negatives\n",
        "scoring = 'recall'\n",
        "\n",
        "\n"
      ],
      "metadata": {
        "id": "2MaqYBZDTQ_e"
      },
      "execution_count": 267,
      "outputs": []
    },
    {
      "cell_type": "code",
      "source": [
        "# Grader cell (4 points)\n",
        "grader.grade(test_case_id='tune_grid_rf', answer=([cv.n_splits, cv.shuffle, cv.random_state], estimator.get_params(), param_grid, scoring))"
      ],
      "metadata": {
        "id": "xBsgiwyf-JHZ",
        "colab": {
          "base_uri": "https://localhost:8080/"
        },
        "outputId": "2d9f822f-34df-4f79-be22-77aac8eb4c3d"
      },
      "execution_count": 268,
      "outputs": [
        {
          "output_type": "stream",
          "name": "stdout",
          "text": [
            "Correct! You earned 4/4 points. You are a star!\n",
            "\n",
            "Your submission has been successfully recorded in the gradebook.\n"
          ]
        }
      ]
    },
    {
      "cell_type": "markdown",
      "source": [
        "Now we will perform the grid search for Random Forest Classifier and see if we can find a set of hyperparameters that produce a model which outperforms the one we trained in Section 3.3.\n",
        "\n",
        "**Task:**\n",
        "\n",
        "* Using [`GridSearchCV`](https://scikit-learn.org/dev/modules/generated/sklearn.model_selection.GridSearchCV.html) from sklearn, set up the grid search and save this in the variable `search`\n",
        "* Execute the grid search for the Random Forest model over the hyperparameter space you defined.\n",
        "* After the best model is found, use it to predict and calculate the recall score on the `X_test` data set, save this in the `search_score` variable\n",
        "\n",
        "**Hint:**\n",
        "\n",
        "* This may take a few minutes - if you'd like to see the progress of the grid search procedure, set `verbose=2` in `GridSearchCV`"
      ],
      "metadata": {
        "id": "eSnZv1cr-K6B"
      }
    },
    {
      "cell_type": "code",
      "source": [
        "# TODO: Set up the grid search\n",
        "search = GridSearchCV(\n",
        "    estimator=estimator,        # RandomForestClassifier instance\n",
        "    param_grid=param_grid,       # Hyperparameter grid defined earlier\n",
        "    cv=cv,                      # Stratified cross-validation splitter\n",
        "    scoring=scoring,            # Using 'recall' as the scoring metric\n",
        "    n_jobs=-1                   # Utilize all available processors for efficiency\n",
        ")\n",
        "\n",
        "# TODO: Execute the grid search by calling fit\n",
        "search.fit(X_train, y_train)\n",
        "\n",
        "# Get the best model from the search\n",
        "best_model = search.best_estimator_"
      ],
      "metadata": {
        "id": "XuyxmGji-OC-"
      },
      "execution_count": 269,
      "outputs": []
    },
    {
      "cell_type": "code",
      "source": [
        "from sklearn.metrics import recall_score\n",
        "\n",
        "# Retrieve the best model from GridSearchCV\n",
        "# Instead of grid_search, use 'search' which is the variable assigned to GridSearchCV in the previous cell\n",
        "best_model = search.best_estimator_\n",
        "\n",
        "# Predict on the testing data using the best model\n",
        "y_test_pred = best_model.predict(X_test)\n",
        "\n",
        "# TODO: Compute recall score on the testing set\n",
        "search_score = recall_score(y_test, y_test_pred, average='binary')\n",
        "\n",
        "# DO NOT CHANGE ----------------------------------------------------------------\n",
        "print(f'The best Random Forest model has hyperparameters {search.best_params_}') # Changed grid_search to search here\n",
        "print(f'The best model achieves an average cross-validation score of {search.best_score_ * 100:.2f}%') # Changed grid_search to search here\n",
        "print(f'The best model achieves a recall score of {search_score * 100:.2f}% on the testing data')\n",
        "# DO NOT CHANGE ----------------------------------------------------------------"
      ],
      "metadata": {
        "id": "KqT3ekIg-SSD",
        "colab": {
          "base_uri": "https://localhost:8080/"
        },
        "outputId": "e0616f50-dca8-47ba-e705-f9e05197be5a"
      },
      "execution_count": 270,
      "outputs": [
        {
          "output_type": "stream",
          "name": "stdout",
          "text": [
            "The best Random Forest model has hyperparameters {'class_weight': 'balanced', 'max_depth': 10, 'n_estimators': 50}\n",
            "The best model achieves an average cross-validation score of 88.68%\n",
            "The best model achieves a recall score of 88.22% on the testing data\n"
          ]
        }
      ]
    },
    {
      "cell_type": "code",
      "source": [
        "# Grader Cell (6 points)\n",
        "grader.grade(test_case_id='tune_result_rf', answer=(search.best_params_, search_score))"
      ],
      "metadata": {
        "id": "QgKPTSxR-UAE",
        "colab": {
          "base_uri": "https://localhost:8080/"
        },
        "outputId": "6f684c92-8eea-4757-baaa-eedac270394b"
      },
      "execution_count": 271,
      "outputs": [
        {
          "output_type": "stream",
          "name": "stdout",
          "text": [
            "Correct! You earned 6/6 points. You are a star!\n",
            "\n",
            "Your submission has been successfully recorded in the gradebook.\n"
          ]
        }
      ]
    },
    {
      "cell_type": "markdown",
      "source": [
        "# HW Submission\n",
        "\n",
        "Before you submit on Gradescope (you must submit your notebook to receive credit):\n",
        "\n",
        "\n",
        "1.   Restart and Run-All to make sure there's nothing wrong with your notebook\n",
        "2.   **Double check that you have the correct PennID (all numbers) in the autograder**.\n",
        "3. Make sure you've run all the PennGrader cells\n",
        "4. Go to the \"File\" tab at the top left, and download both the .ipynb and .py files, renaming them as \"homework3.ipynb\" and \"homework3.py\" respectively. Upload both files to Gradescope directly!\n",
        "5. Check your .ipynb file is visible under the code tab. If there is a \"large file hiddden\" error go back and delete all occurances of printing an entire df, and/or make your figure sizes smaller, then resubmit. Then confirm the notebook preview is now visible in your Gradescope submission.\n",
        "\n",
        "**You MUST check that your notebook displays ALL visualizations on the Gradescope preview AND verify that the autograder finishes running and gives you your expected score (not a 0).**\n",
        "\n",
        "**Let the course staff know ASAP if you have any issues submitting, but otherwise best of luck! Congrats on finishing the HW.**"
      ],
      "metadata": {
        "id": "43Qn2cVV6a9g"
      }
    }
  ]
}